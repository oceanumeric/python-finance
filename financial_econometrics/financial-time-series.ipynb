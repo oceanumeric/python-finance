{
 "cells": [
  {
   "cell_type": "markdown",
   "id": "executed-preliminary",
   "metadata": {},
   "source": [
    "## Financial Time Series and Their Characteristics"
   ]
  },
  {
   "cell_type": "markdown",
   "id": "sustainable-alcohol",
   "metadata": {},
   "source": [
    "Both financial theory and its empirical time series contain an element of uncertainty. For example, there are various definitions of asset volatility, and for a stock return series, __the volatility is not directly observable__. As a result of the added uncertainty, statistical theory and methods play an important role in financial time series analysis.\n",
    "\n",
    "In this lecture, we will study:\n",
    "\n",
    "* asset returns\n",
    "* descriptive statistics of returns\n",
    "* distributional properties of returns"
   ]
  },
  {
   "cell_type": "code",
   "execution_count": 9,
   "id": "coupled-remove",
   "metadata": {},
   "outputs": [],
   "source": [
    "import numpy as np\n",
    "import scipy\n",
    "import math\n",
    "from pandas_datareader import data\n",
    "import matplotlib.pyplot as plt\n",
    "import pandas as pd\n",
    "from tabulate import tabulate"
   ]
  },
  {
   "cell_type": "markdown",
   "id": "stretch-juvenile",
   "metadata": {},
   "source": [
    "### The Time Value of Money\n",
    "\n",
    "Future value, present value and simple interest:\n",
    "\n",
    "$$FV_n = V(1+R) \\times (1+R) = V \\cdot (1+R)^n$$\n",
    "\n",
    "$$PV = \\frac{FV_n}{(1+R)^n}$$\n",
    "\n",
    "$$n = \\frac{\\ln(FV_n /V)}{\\ln(1+R)} $$\n",
    "\n",
    "It is very easy to calculate how long it will take to double the value."
   ]
  },
  {
   "cell_type": "code",
   "execution_count": 16,
   "id": "steady-quantity",
   "metadata": {},
   "outputs": [
    {
     "name": "stdout",
     "output_type": "stream",
     "text": [
      "   R     Years    Approximate Years\n",
      "----  --------  -------------------\n",
      "0.01  69.6607              70\n",
      "0.02  35.0028              35\n",
      "0.03  23.4498              23.3333\n",
      "0.04  17.673               17.5\n",
      "0.05  14.2067              14\n",
      "0.06  11.8957              11.6667\n",
      "0.07  10.2448              10\n",
      "0.08   9.00647              8.75\n",
      "0.09   8.04323              7.77778\n",
      "0.1    7.27254              7\n"
     ]
    }
   ],
   "source": [
    "r = [r/100 for r in range(1, 11)]\n",
    "year = [math.log(2)/math.log(1+i) for i in r]\n",
    "appro_year = [0.7/i for i in r]  # rule of 70\n",
    "print(tabulate(zip(r, year, appro_year), headers=['R', 'Years', \"Approximate Years\"]))"
   ]
  },
  {
   "cell_type": "markdown",
   "id": "actual-civilian",
   "metadata": {},
   "source": [
    "When the return is around $0.1$ or around $10\\%$, it takes around 7 years to double your assets."
   ]
  },
  {
   "cell_type": "markdown",
   "id": "greek-freight",
   "metadata": {},
   "source": [
    "If interest is paid $m$ times per year then the future value after $n$ years is\n",
    "\n",
    "$$FV_n^m = V \\cdot ( 1 + \\frac{R}{m})^{m\\cdot n}$$\n",
    "\n",
    "For the continuously compouneded, we could have:\n",
    "\n",
    "$$FV_n^c = \\lim_{m \\to \\infty} V \\cdot (1 + \\frac{R}{m})^{m\\cdot n} = V \\cdot e ^{R \\cdot n}$$"
   ]
  },
  {
   "cell_type": "code",
   "execution_count": 12,
   "id": "verified-grammar",
   "metadata": {
    "scrolled": true
   },
   "outputs": [
    {
     "name": "stdout",
     "output_type": "stream",
     "text": [
      "The final value of 100 at the end of one year (n=1)\n",
      "  Frequency    Value\n",
      "-----------  -------\n",
      "          1  110\n",
      "          4  110.381\n",
      "         52  110.506\n",
      "        365  110.516\n",
      "       1000  110.517\n"
     ]
    }
   ],
   "source": [
    "fre = [1, 4, 52, 365, 1_000]  # compounding frequency\n",
    "r = 0.1  # interest is 10% at the end of year\n",
    "v0 = 100  # initial value\n",
    "fv = [v0*(1 + r/f)**(f*1) for f in fre]\n",
    "print('The final value of 100 at the end of one year (n=1)')\n",
    "print(tabulate(zip(fre, fv), headers=['Frequency', 'Value']))"
   ]
  },
  {
   "cell_type": "markdown",
   "id": "drawn-jacksonville",
   "metadata": {},
   "source": [
    "### Effective annual rate\n",
    "\n",
    "We now consider the relationship between simple interest rates, periodic rates, effective annual rates and continuously compounded rates. Suppose an investment pays a periodic interest rate of $2\\%$ each quater. This gives rise to a simple annual rate of $8\\%$ ($2\\% \\times 4$ quarters). At the end of the year, $\\$ 1000$ invested accrues to \n",
    "\n",
    "$$1000 \\cdot ( 1 + \\frac{0.08}{4})^{4 \\cdot 1} = 1082.4$$\n",
    "\n",
    "The _effective annual rate_, $R_A$, on the investment is determined by the relationship \n",
    "\n",
    "$$1000 \\cdot (1 + R_{A}) = 1082.4$$\n",
    "\n",
    "Solving for $R_A$ gives\n",
    "\n",
    "$$R_A = \\frac{1082.4}{1000} - 1 = 0.0824$$\n",
    "\n",
    "Here, the effective annual rate is the simple interest rate with annual compounding that gives the same future value that occurs with simple interest compounded four times per year. The formula is\n",
    "\n",
    "$$R_A = (1 + \\frac{R}{m})^m -1 $$\n",
    "\n",
    "The relationship between the effective annual rate and the simple rate that is compounded continuously is\n",
    "\n",
    "$$(1+R_A) = e^R$$\n",
    "\n",
    "Hence, \n",
    "\n",
    "$$R_A = e^R - 1; \\ \\ \\ \\ \\ \\ R = \\ln(1 + R_A)$$"
   ]
  },
  {
   "cell_type": "code",
   "execution_count": null,
   "id": "educated-bleeding",
   "metadata": {},
   "outputs": [],
   "source": []
  },
  {
   "cell_type": "code",
   "execution_count": null,
   "id": "negative-touch",
   "metadata": {},
   "outputs": [],
   "source": []
  },
  {
   "cell_type": "code",
   "execution_count": null,
   "id": "spatial-story",
   "metadata": {},
   "outputs": [],
   "source": []
  },
  {
   "cell_type": "markdown",
   "id": "applied-maximum",
   "metadata": {},
   "source": [
    "### References\n",
    "\n",
    "Return Calculations by [Zivot](https://faculty.washington.edu/ezivot/econ424/returnCalculations.pdf)"
   ]
  },
  {
   "cell_type": "code",
   "execution_count": null,
   "id": "failing-lebanon",
   "metadata": {},
   "outputs": [],
   "source": []
  }
 ],
 "metadata": {
  "kernelspec": {
   "display_name": "Python 3",
   "language": "python",
   "name": "python3"
  },
  "language_info": {
   "codemirror_mode": {
    "name": "ipython",
    "version": 3
   },
   "file_extension": ".py",
   "mimetype": "text/x-python",
   "name": "python",
   "nbconvert_exporter": "python",
   "pygments_lexer": "ipython3",
   "version": "3.8.5"
  }
 },
 "nbformat": 4,
 "nbformat_minor": 5
}
