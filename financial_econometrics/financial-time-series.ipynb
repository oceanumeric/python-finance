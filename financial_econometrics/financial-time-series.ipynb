{
 "cells": [
  {
   "cell_type": "markdown",
   "id": "executed-preliminary",
   "metadata": {},
   "source": [
    "## Financial Time Series and Their Characteristics"
   ]
  },
  {
   "cell_type": "markdown",
   "id": "sustainable-alcohol",
   "metadata": {},
   "source": [
    "Both financial theory and its empirical time series contain an element of uncertainty. For example, there are various definitions of asset volatility, and for a stock return series, __the volatility is not directly observable__. As a result of the added uncertainty, statistical theory and methods play an important role in financial time series analysis.\n",
    "\n",
    "In this lecture, we will study:\n",
    "\n",
    "* asset returns\n",
    "* descriptive statistics of returns\n",
    "* distributional properties of returns"
   ]
  },
  {
   "cell_type": "code",
   "execution_count": 81,
   "id": "coupled-remove",
   "metadata": {},
   "outputs": [],
   "source": [
    "import numpy as np\n",
    "import scipy\n",
    "import math\n",
    "from pandas_datareader import data\n",
    "import matplotlib.pyplot as plt\n",
    "import pandas as pd\n",
    "from tabulate import tabulate"
   ]
  },
  {
   "cell_type": "markdown",
   "id": "stretch-juvenile",
   "metadata": {},
   "source": [
    "### The Time Value of Money\n",
    "\n",
    "Future value, present value and simple interest:\n",
    "\n",
    "$$FV_n = V(1+R) \\times \\cdots \\times (1+R) = V \\cdot (1+R)^n$$\n",
    "\n",
    "$$PV = \\frac{FV_n}{(1+R)^n}$$\n",
    "\n",
    "$$n = \\frac{\\ln(FV_n /V)}{\\ln(1+R)} $$\n",
    "\n",
    "It is very easy to calculate how long it will take to double the value."
   ]
  },
  {
   "cell_type": "code",
   "execution_count": 16,
   "id": "steady-quantity",
   "metadata": {},
   "outputs": [
    {
     "name": "stdout",
     "output_type": "stream",
     "text": [
      "   R     Years    Approximate Years\n",
      "----  --------  -------------------\n",
      "0.01  69.6607              70\n",
      "0.02  35.0028              35\n",
      "0.03  23.4498              23.3333\n",
      "0.04  17.673               17.5\n",
      "0.05  14.2067              14\n",
      "0.06  11.8957              11.6667\n",
      "0.07  10.2448              10\n",
      "0.08   9.00647              8.75\n",
      "0.09   8.04323              7.77778\n",
      "0.1    7.27254              7\n"
     ]
    }
   ],
   "source": [
    "r = [r/100 for r in range(1, 11)]\n",
    "year = [math.log(2)/math.log(1+i) for i in r]\n",
    "appro_year = [0.7/i for i in r]  # rule of 70\n",
    "print(tabulate(zip(r, year, appro_year), headers=['R', 'Years', \"Approximate Years\"]))"
   ]
  },
  {
   "cell_type": "markdown",
   "id": "actual-civilian",
   "metadata": {},
   "source": [
    "When the return is around $0.1$ or around $10\\%$, it takes around 7 years to double your assets."
   ]
  },
  {
   "cell_type": "markdown",
   "id": "greek-freight",
   "metadata": {},
   "source": [
    "If interest is paid $m$ times per year then the future value after $n$ years is\n",
    "\n",
    "$$FV_n^m = V \\cdot ( 1 + \\frac{R}{m})^{m\\cdot n}$$\n",
    "\n",
    "For the continuously compouneded, we could have:\n",
    "\n",
    "$$FV_n^c = \\lim_{m \\to \\infty} V \\cdot (1 + \\frac{R}{m})^{m\\cdot n} = V \\cdot e ^{R \\cdot n}$$"
   ]
  },
  {
   "cell_type": "code",
   "execution_count": 12,
   "id": "verified-grammar",
   "metadata": {
    "scrolled": true
   },
   "outputs": [
    {
     "name": "stdout",
     "output_type": "stream",
     "text": [
      "The final value of 100 at the end of one year (n=1)\n",
      "  Frequency    Value\n",
      "-----------  -------\n",
      "          1  110\n",
      "          4  110.381\n",
      "         52  110.506\n",
      "        365  110.516\n",
      "       1000  110.517\n"
     ]
    }
   ],
   "source": [
    "fre = [1, 4, 52, 365, 1_000]  # compounding frequency\n",
    "r = 0.1  # interest is 10% at the end of year\n",
    "v0 = 100  # initial value\n",
    "fv = [v0*(1 + r/f)**(f*1) for f in fre]\n",
    "print('The final value of 100 at the end of one year (n=1)')\n",
    "print(tabulate(zip(fre, fv), headers=['Frequency', 'Value']))"
   ]
  },
  {
   "cell_type": "markdown",
   "id": "drawn-jacksonville",
   "metadata": {},
   "source": [
    "### Effective annual rate\n",
    "\n",
    "We now consider the relationship between simple interest rates, periodic rates, effective annual rates and continuously compounded rates. Suppose an investment pays a periodic interest rate of $2\\%$ each quater. This gives rise to a simple annual rate of $8\\%$ ($2\\% \\times 4$ quarters). At the end of the year, $\\$ 1000$ invested accrues to \n",
    "\n",
    "$$1000 \\cdot ( 1 + \\frac{0.08}{4})^{4 \\cdot 1} = 1082.4$$\n",
    "\n",
    "The _effective annual rate_, $R_A$, on the investment is determined by the relationship \n",
    "\n",
    "$$1000 \\cdot (1 + R_{A}) = 1082.4$$\n",
    "\n",
    "Solving for $R_A$ gives\n",
    "\n",
    "$$R_A = \\frac{1082.4}{1000} - 1 = 0.0824$$\n",
    "\n",
    "Here, __the effective annual rate is the simple interest rate with annual compounding__ that gives the same future value that occurs with simple interest compounded four times per year. The formula is\n",
    "\n",
    "$$R_A = (1 + \\frac{R}{m})^m -1 $$\n",
    "\n",
    "The relationship between the effective annual rate and the simple rate that is compounded continuously is\n",
    "\n",
    "$$(1+R_A) = e^R$$\n",
    "\n",
    "Hence, \n",
    "\n",
    "$$R_A = e^R - 1; \\ \\ \\ \\ \\ \\ R = \\ln(1 + R_A)$$"
   ]
  },
  {
   "cell_type": "markdown",
   "id": "lesbian-terrain",
   "metadata": {},
   "source": [
    "### Asset Return Calculations\n",
    "\n",
    "In this section, we review asset return calculations given initial and future prices associated with an investment. We first cover simple return calcualtions, which are typically reported in practice but are often not convinent for statistical modeling purposes. We then describe continuously compounded return calculations, which are more covinent for statistical modeling purposes."
   ]
  },
  {
   "cell_type": "code",
   "execution_count": 107,
   "id": "improving-motivation",
   "metadata": {},
   "outputs": [],
   "source": [
    "# get the dataset\n",
    "ticker = 'AAPL'\n",
    "start_date = '2010-01-01'\n",
    "end_date = '2020-12-31'\n",
    "\n",
    "appl_data = data.DataReader(ticker, 'yahoo', start_date, end_date)\n",
    "appl_data = appl_data.asfreq('B')  # frequency based on business day, this is very improtant\n",
    "clean_data = appl_data.dropna().copy()"
   ]
  },
  {
   "cell_type": "code",
   "execution_count": 108,
   "id": "prostate-boulder",
   "metadata": {},
   "outputs": [
    {
     "data": {
      "text/html": [
       "<div>\n",
       "<style scoped>\n",
       "    .dataframe tbody tr th:only-of-type {\n",
       "        vertical-align: middle;\n",
       "    }\n",
       "\n",
       "    .dataframe tbody tr th {\n",
       "        vertical-align: top;\n",
       "    }\n",
       "\n",
       "    .dataframe thead th {\n",
       "        text-align: right;\n",
       "    }\n",
       "</style>\n",
       "<table border=\"1\" class=\"dataframe\">\n",
       "  <thead>\n",
       "    <tr style=\"text-align: right;\">\n",
       "      <th></th>\n",
       "      <th>High</th>\n",
       "      <th>Low</th>\n",
       "      <th>Open</th>\n",
       "      <th>Close</th>\n",
       "      <th>Volume</th>\n",
       "      <th>Adj Close</th>\n",
       "    </tr>\n",
       "    <tr>\n",
       "      <th>Date</th>\n",
       "      <th></th>\n",
       "      <th></th>\n",
       "      <th></th>\n",
       "      <th></th>\n",
       "      <th></th>\n",
       "      <th></th>\n",
       "    </tr>\n",
       "  </thead>\n",
       "  <tbody>\n",
       "    <tr>\n",
       "      <th>2009-12-31</th>\n",
       "      <td>7.619643</td>\n",
       "      <td>7.520000</td>\n",
       "      <td>7.611786</td>\n",
       "      <td>7.526071</td>\n",
       "      <td>352410800.0</td>\n",
       "      <td>6.482683</td>\n",
       "    </tr>\n",
       "    <tr>\n",
       "      <th>2010-01-04</th>\n",
       "      <td>7.660714</td>\n",
       "      <td>7.585000</td>\n",
       "      <td>7.622500</td>\n",
       "      <td>7.643214</td>\n",
       "      <td>493729600.0</td>\n",
       "      <td>6.583586</td>\n",
       "    </tr>\n",
       "    <tr>\n",
       "      <th>2010-01-05</th>\n",
       "      <td>7.699643</td>\n",
       "      <td>7.616071</td>\n",
       "      <td>7.664286</td>\n",
       "      <td>7.656429</td>\n",
       "      <td>601904800.0</td>\n",
       "      <td>6.594968</td>\n",
       "    </tr>\n",
       "    <tr>\n",
       "      <th>2010-01-06</th>\n",
       "      <td>7.686786</td>\n",
       "      <td>7.526786</td>\n",
       "      <td>7.656429</td>\n",
       "      <td>7.534643</td>\n",
       "      <td>552160000.0</td>\n",
       "      <td>6.490066</td>\n",
       "    </tr>\n",
       "    <tr>\n",
       "      <th>2010-01-07</th>\n",
       "      <td>7.571429</td>\n",
       "      <td>7.466071</td>\n",
       "      <td>7.562500</td>\n",
       "      <td>7.520714</td>\n",
       "      <td>477131200.0</td>\n",
       "      <td>6.478067</td>\n",
       "    </tr>\n",
       "    <tr>\n",
       "      <th>...</th>\n",
       "      <td>...</td>\n",
       "      <td>...</td>\n",
       "      <td>...</td>\n",
       "      <td>...</td>\n",
       "      <td>...</td>\n",
       "      <td>...</td>\n",
       "    </tr>\n",
       "    <tr>\n",
       "      <th>2020-12-24</th>\n",
       "      <td>133.460007</td>\n",
       "      <td>131.100006</td>\n",
       "      <td>131.320007</td>\n",
       "      <td>131.970001</td>\n",
       "      <td>54930100.0</td>\n",
       "      <td>131.773087</td>\n",
       "    </tr>\n",
       "    <tr>\n",
       "      <th>2020-12-28</th>\n",
       "      <td>137.339996</td>\n",
       "      <td>133.509995</td>\n",
       "      <td>133.990005</td>\n",
       "      <td>136.690002</td>\n",
       "      <td>124486200.0</td>\n",
       "      <td>136.486053</td>\n",
       "    </tr>\n",
       "    <tr>\n",
       "      <th>2020-12-29</th>\n",
       "      <td>138.789993</td>\n",
       "      <td>134.339996</td>\n",
       "      <td>138.050003</td>\n",
       "      <td>134.869995</td>\n",
       "      <td>121047300.0</td>\n",
       "      <td>134.668762</td>\n",
       "    </tr>\n",
       "    <tr>\n",
       "      <th>2020-12-30</th>\n",
       "      <td>135.990005</td>\n",
       "      <td>133.399994</td>\n",
       "      <td>135.580002</td>\n",
       "      <td>133.720001</td>\n",
       "      <td>96452100.0</td>\n",
       "      <td>133.520477</td>\n",
       "    </tr>\n",
       "    <tr>\n",
       "      <th>2020-12-31</th>\n",
       "      <td>134.740005</td>\n",
       "      <td>131.720001</td>\n",
       "      <td>134.080002</td>\n",
       "      <td>132.690002</td>\n",
       "      <td>99116600.0</td>\n",
       "      <td>132.492020</td>\n",
       "    </tr>\n",
       "  </tbody>\n",
       "</table>\n",
       "<p>2770 rows × 6 columns</p>\n",
       "</div>"
      ],
      "text/plain": [
       "                  High         Low        Open       Close       Volume  \\\n",
       "Date                                                                      \n",
       "2009-12-31    7.619643    7.520000    7.611786    7.526071  352410800.0   \n",
       "2010-01-04    7.660714    7.585000    7.622500    7.643214  493729600.0   \n",
       "2010-01-05    7.699643    7.616071    7.664286    7.656429  601904800.0   \n",
       "2010-01-06    7.686786    7.526786    7.656429    7.534643  552160000.0   \n",
       "2010-01-07    7.571429    7.466071    7.562500    7.520714  477131200.0   \n",
       "...                ...         ...         ...         ...          ...   \n",
       "2020-12-24  133.460007  131.100006  131.320007  131.970001   54930100.0   \n",
       "2020-12-28  137.339996  133.509995  133.990005  136.690002  124486200.0   \n",
       "2020-12-29  138.789993  134.339996  138.050003  134.869995  121047300.0   \n",
       "2020-12-30  135.990005  133.399994  135.580002  133.720001   96452100.0   \n",
       "2020-12-31  134.740005  131.720001  134.080002  132.690002   99116600.0   \n",
       "\n",
       "             Adj Close  \n",
       "Date                    \n",
       "2009-12-31    6.482683  \n",
       "2010-01-04    6.583586  \n",
       "2010-01-05    6.594968  \n",
       "2010-01-06    6.490066  \n",
       "2010-01-07    6.478067  \n",
       "...                ...  \n",
       "2020-12-24  131.773087  \n",
       "2020-12-28  136.486053  \n",
       "2020-12-29  134.668762  \n",
       "2020-12-30  133.520477  \n",
       "2020-12-31  132.492020  \n",
       "\n",
       "[2770 rows x 6 columns]"
      ]
     },
     "execution_count": 108,
     "metadata": {},
     "output_type": "execute_result"
    }
   ],
   "source": [
    "clean_data"
   ]
  },
  {
   "cell_type": "code",
   "execution_count": 84,
   "id": "possible-optics",
   "metadata": {},
   "outputs": [
    {
     "data": {
      "text/plain": [
       "<AxesSubplot:xlabel='Date'>"
      ]
     },
     "execution_count": 84,
     "metadata": {},
     "output_type": "execute_result"
    },
    {
     "data": {
      "image/png": "[encoded data removed]",
      "text/plain": [
       "<Figure size 432x288 with 1 Axes>"
      ]
     },
     "metadata": {
      "needs_background": "light"
     },
     "output_type": "display_data"
    }
   ],
   "source": [
    "clean_data['Adj Close'].plot()"
   ]
  },
  {
   "cell_type": "code",
   "execution_count": 113,
   "id": "blind-camera",
   "metadata": {},
   "outputs": [],
   "source": [
    "## prepare the dataset\n",
    "clean_data['day'] = clean_data.index.day\n",
    "clean_data['month'] = clean_data.index.month\n",
    "clean_data['year'] = clean_data.index.year\n",
    "clean_data['week_day'] = clean_data.index.dayofweek\n",
    "clean_data['week_day_name'] = clean_data.index.strftime('%A')"
   ]
  },
  {
   "cell_type": "code",
   "execution_count": 133,
   "id": "pregnant-bunch",
   "metadata": {
    "scrolled": true
   },
   "outputs": [
    {
     "data": {
      "text/html": [
       "<div>\n",
       "<style scoped>\n",
       "    .dataframe tbody tr th:only-of-type {\n",
       "        vertical-align: middle;\n",
       "    }\n",
       "\n",
       "    .dataframe tbody tr th {\n",
       "        vertical-align: top;\n",
       "    }\n",
       "\n",
       "    .dataframe thead th {\n",
       "        text-align: right;\n",
       "    }\n",
       "</style>\n",
       "<table border=\"1\" class=\"dataframe\">\n",
       "  <thead>\n",
       "    <tr style=\"text-align: right;\">\n",
       "      <th></th>\n",
       "      <th>High</th>\n",
       "      <th>Low</th>\n",
       "      <th>Open</th>\n",
       "      <th>Close</th>\n",
       "      <th>Volume</th>\n",
       "      <th>Adj Close</th>\n",
       "      <th>day</th>\n",
       "      <th>month</th>\n",
       "      <th>year</th>\n",
       "      <th>week_day</th>\n",
       "      <th>week_day_name</th>\n",
       "    </tr>\n",
       "    <tr>\n",
       "      <th>Date</th>\n",
       "      <th></th>\n",
       "      <th></th>\n",
       "      <th></th>\n",
       "      <th></th>\n",
       "      <th></th>\n",
       "      <th></th>\n",
       "      <th></th>\n",
       "      <th></th>\n",
       "      <th></th>\n",
       "      <th></th>\n",
       "      <th></th>\n",
       "    </tr>\n",
       "  </thead>\n",
       "  <tbody>\n",
       "    <tr>\n",
       "      <th>2020-12-24</th>\n",
       "      <td>133.460007</td>\n",
       "      <td>131.100006</td>\n",
       "      <td>131.320007</td>\n",
       "      <td>131.970001</td>\n",
       "      <td>54930100.0</td>\n",
       "      <td>131.773087</td>\n",
       "      <td>24</td>\n",
       "      <td>12</td>\n",
       "      <td>2020</td>\n",
       "      <td>3</td>\n",
       "      <td>Thursday</td>\n",
       "    </tr>\n",
       "    <tr>\n",
       "      <th>2020-12-28</th>\n",
       "      <td>137.339996</td>\n",
       "      <td>133.509995</td>\n",
       "      <td>133.990005</td>\n",
       "      <td>136.690002</td>\n",
       "      <td>124486200.0</td>\n",
       "      <td>136.486053</td>\n",
       "      <td>28</td>\n",
       "      <td>12</td>\n",
       "      <td>2020</td>\n",
       "      <td>0</td>\n",
       "      <td>Monday</td>\n",
       "    </tr>\n",
       "    <tr>\n",
       "      <th>2020-12-29</th>\n",
       "      <td>138.789993</td>\n",
       "      <td>134.339996</td>\n",
       "      <td>138.050003</td>\n",
       "      <td>134.869995</td>\n",
       "      <td>121047300.0</td>\n",
       "      <td>134.668762</td>\n",
       "      <td>29</td>\n",
       "      <td>12</td>\n",
       "      <td>2020</td>\n",
       "      <td>1</td>\n",
       "      <td>Tuesday</td>\n",
       "    </tr>\n",
       "    <tr>\n",
       "      <th>2020-12-30</th>\n",
       "      <td>135.990005</td>\n",
       "      <td>133.399994</td>\n",
       "      <td>135.580002</td>\n",
       "      <td>133.720001</td>\n",
       "      <td>96452100.0</td>\n",
       "      <td>133.520477</td>\n",
       "      <td>30</td>\n",
       "      <td>12</td>\n",
       "      <td>2020</td>\n",
       "      <td>2</td>\n",
       "      <td>Wednesday</td>\n",
       "    </tr>\n",
       "    <tr>\n",
       "      <th>2020-12-31</th>\n",
       "      <td>134.740005</td>\n",
       "      <td>131.720001</td>\n",
       "      <td>134.080002</td>\n",
       "      <td>132.690002</td>\n",
       "      <td>99116600.0</td>\n",
       "      <td>132.492020</td>\n",
       "      <td>31</td>\n",
       "      <td>12</td>\n",
       "      <td>2020</td>\n",
       "      <td>3</td>\n",
       "      <td>Thursday</td>\n",
       "    </tr>\n",
       "  </tbody>\n",
       "</table>\n",
       "</div>"
      ],
      "text/plain": [
       "                  High         Low        Open       Close       Volume  \\\n",
       "Date                                                                      \n",
       "2020-12-24  133.460007  131.100006  131.320007  131.970001   54930100.0   \n",
       "2020-12-28  137.339996  133.509995  133.990005  136.690002  124486200.0   \n",
       "2020-12-29  138.789993  134.339996  138.050003  134.869995  121047300.0   \n",
       "2020-12-30  135.990005  133.399994  135.580002  133.720001   96452100.0   \n",
       "2020-12-31  134.740005  131.720001  134.080002  132.690002   99116600.0   \n",
       "\n",
       "             Adj Close  day  month  year  week_day week_day_name  \n",
       "Date                                                              \n",
       "2020-12-24  131.773087   24     12  2020         3      Thursday  \n",
       "2020-12-28  136.486053   28     12  2020         0        Monday  \n",
       "2020-12-29  134.668762   29     12  2020         1       Tuesday  \n",
       "2020-12-30  133.520477   30     12  2020         2     Wednesday  \n",
       "2020-12-31  132.492020   31     12  2020         3      Thursday  "
      ]
     },
     "execution_count": 133,
     "metadata": {},
     "output_type": "execute_result"
    }
   ],
   "source": [
    "clean_data.tail()"
   ]
  },
  {
   "cell_type": "code",
   "execution_count": 160,
   "id": "rational-costa",
   "metadata": {},
   "outputs": [
    {
     "data": {
      "text/plain": [
       "False"
      ]
     },
     "execution_count": 160,
     "metadata": {},
     "output_type": "execute_result"
    }
   ],
   "source": [
    "clean_data.isnull().values.any()"
   ]
  },
  {
   "cell_type": "code",
   "execution_count": 134,
   "id": "southern-place",
   "metadata": {},
   "outputs": [],
   "source": [
    "clean_data.to_csv(\"apple_stock.csv\")"
   ]
  },
  {
   "cell_type": "code",
   "execution_count": 124,
   "id": "strategic-ladder",
   "metadata": {},
   "outputs": [],
   "source": [
    "def total_return(prices):\n",
    "    \"\"\"Retuns the return between the first and last value of the DataFrame.\n",
    "    Parameters\n",
    "    ----------\n",
    "    prices : pandas.Series or pandas.DataFrame\n",
    "    Returns\n",
    "    -------\n",
    "    total_return : float or pandas.Series\n",
    "        Depending on the input passed returns a float or a pandas.Series.\n",
    "    \"\"\"\n",
    "    return prices.iloc[-1] / prices.iloc[0] - 1"
   ]
  },
  {
   "cell_type": "code",
   "execution_count": 153,
   "id": "negative-touch",
   "metadata": {
    "scrolled": true
   },
   "outputs": [
    {
     "data": {
      "text/plain": [
       "year  month\n",
       "2009  12       0.000000\n",
       "2010  1       -0.102565\n",
       "      2        0.050788\n",
       "      3        0.124455\n",
       "      4        0.106454\n",
       "                 ...   \n",
       "2020  8        0.186668\n",
       "      9       -0.136906\n",
       "      10      -0.067900\n",
       "      11       0.096400\n",
       "      12       0.081242\n",
       "Name: Adj Close, Length: 133, dtype: float64"
      ]
     },
     "execution_count": 153,
     "metadata": {},
     "output_type": "execute_result"
    }
   ],
   "source": [
    "group_data = clean_data.groupby(by=['year', 'month'])['Adj Close'].apply(total_return)\n",
    "group_data"
   ]
  },
  {
   "cell_type": "code",
   "execution_count": 154,
   "id": "cultural-blood",
   "metadata": {},
   "outputs": [
    {
     "data": {
      "text/plain": [
       "<AxesSubplot:xlabel='year,month'>"
      ]
     },
     "execution_count": 154,
     "metadata": {},
     "output_type": "execute_result"
    },
    {
     "data": {
      "image/png": "[encoded data removed]",
      "text/plain": [
       "<Figure size 432x288 with 1 Axes>"
      ]
     },
     "metadata": {
      "needs_background": "light"
     },
     "output_type": "display_data"
    }
   ],
   "source": [
    "group_data.plot()"
   ]
  },
  {
   "cell_type": "code",
   "execution_count": 150,
   "id": "color-sacramento",
   "metadata": {},
   "outputs": [
    {
     "data": {
      "text/plain": [
       "year  month\n",
       "2009  12       0.000000\n",
       "2010  1       -0.108215\n",
       "      2        0.049540\n",
       "      3        0.117299\n",
       "      4        0.101161\n",
       "                 ...   \n",
       "2020  8        0.171150\n",
       "      9       -0.147231\n",
       "      10      -0.070315\n",
       "      11       0.092032\n",
       "      12       0.078110\n",
       "Name: Adj Close, Length: 133, dtype: float64"
      ]
     },
     "execution_count": 150,
     "metadata": {},
     "output_type": "execute_result"
    }
   ],
   "source": [
    "np.log(1 + group_data)  # monthly cc returns"
   ]
  },
  {
   "cell_type": "code",
   "execution_count": 158,
   "id": "precise-statement",
   "metadata": {
    "scrolled": true
   },
   "outputs": [
    {
     "data": {
      "text/plain": [
       "Date\n",
       "2009-12-31         NaN\n",
       "2010-01-31   -0.088597\n",
       "2010-02-28    0.065396\n",
       "2010-03-31    0.148470\n",
       "2010-04-30    0.111022\n",
       "                ...   \n",
       "2020-08-31    0.216569\n",
       "2020-09-30   -0.102526\n",
       "2020-10-31   -0.060012\n",
       "2020-11-30    0.095493\n",
       "2020-12-31    0.114574\n",
       "Freq: M, Name: Adj Close, Length: 133, dtype: float64"
      ]
     },
     "execution_count": 158,
     "metadata": {},
     "output_type": "execute_result"
    }
   ],
   "source": [
    "clean_data['Adj Close'].resample('M').ffill().pct_change()"
   ]
  },
  {
   "cell_type": "code",
   "execution_count": 164,
   "id": "understanding-infrastructure",
   "metadata": {},
   "outputs": [
    {
     "data": {
      "text/plain": [
       "Date\n",
       "2009-12-31         NaN\n",
       "2010-01-31   -0.092770\n",
       "2010-02-28    0.063347\n",
       "2010-03-31    0.138431\n",
       "2010-04-30    0.105280\n",
       "                ...   \n",
       "2020-08-31    0.196035\n",
       "2020-09-30   -0.108172\n",
       "2020-10-31   -0.061888\n",
       "2020-11-30    0.091205\n",
       "2020-12-31    0.108472\n",
       "Freq: M, Name: Adj Close, Length: 133, dtype: float64"
      ]
     },
     "execution_count": 164,
     "metadata": {},
     "output_type": "execute_result"
    }
   ],
   "source": [
    "np.log(clean_data['Adj Close'].resample('M').ffill().pct_change()+1)"
   ]
  },
  {
   "cell_type": "markdown",
   "id": "fourth-poetry",
   "metadata": {},
   "source": [
    "`resample` method use the price of last of day of previous month to calculate the month return."
   ]
  },
  {
   "cell_type": "code",
   "execution_count": 162,
   "id": "operating-promise",
   "metadata": {},
   "outputs": [
    {
     "data": {
      "text/plain": [
       "<AxesSubplot:xlabel='Date'>"
      ]
     },
     "execution_count": 162,
     "metadata": {},
     "output_type": "execute_result"
    },
    {
     "data": {
      "image/png": "[encoded data removed]",
      "text/plain": [
       "<Figure size 432x288 with 1 Axes>"
      ]
     },
     "metadata": {
      "needs_background": "light"
     },
     "output_type": "display_data"
    }
   ],
   "source": [
    "# daily return\n",
    "clean_data['Adj Close'].pct_change().plot()"
   ]
  },
  {
   "cell_type": "code",
   "execution_count": null,
   "id": "heard-cosmetic",
   "metadata": {},
   "outputs": [],
   "source": []
  },
  {
   "cell_type": "code",
   "execution_count": null,
   "id": "lovely-rogers",
   "metadata": {},
   "outputs": [],
   "source": []
  },
  {
   "cell_type": "markdown",
   "id": "applied-maximum",
   "metadata": {},
   "source": [
    "### References\n",
    "\n",
    "Return Calculations by [Zivot](https://faculty.washington.edu/ezivot/econ424/returnCalculations.pdf)"
   ]
  },
  {
   "cell_type": "code",
   "execution_count": null,
   "id": "failing-lebanon",
   "metadata": {},
   "outputs": [],
   "source": []
  }
 ],
 "metadata": {
  "kernelspec": {
   "display_name": "Python 3",
   "language": "python",
   "name": "python3"
  },
  "language_info": {
   "codemirror_mode": {
    "name": "ipython",
    "version": 3
   },
   "file_extension": ".py",
   "mimetype": "text/x-python",
   "name": "python",
   "nbconvert_exporter": "python",
   "pygments_lexer": "ipython3",
   "version": "3.8.5"
  }
 },
 "nbformat": 4,
 "nbformat_minor": 5
}
