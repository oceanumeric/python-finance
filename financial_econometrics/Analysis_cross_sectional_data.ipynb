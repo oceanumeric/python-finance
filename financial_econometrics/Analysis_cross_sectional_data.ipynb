{
 "cells": [
  {
   "cell_type": "markdown",
   "id": "subsequent-return",
   "metadata": {},
   "source": [
    "# Analysis of Cross-Sectional Data\n",
    "\n",
    "Linear regression is an essential tool of any econometrician and is widely used throughout finance and economics. Linear regression’s success is owed to two key features: the availability of simple, closed-form estimators, and the ease and directness of interpretation."
   ]
  },
  {
   "cell_type": "markdown",
   "id": "standing-diabetes",
   "metadata": {},
   "source": [
    "## Model Description\n",
    "\n",
    "$$Y = X \\beta + \\varepsilon$$\n",
    "\n",
    "With the following assumptions:\n",
    "\n",
    "* $E(\\varepsilon) = 0 $\n",
    "* $V(\\varepsilon) = \\sigma^2 I$ (covariance stationary)\n",
    "* $X$ is nonstochastic fix full rank $K$\n",
    "\n",
    "**OLS Estimator**: $\\hat{\\beta} = (X'X)^{-1} X'y$\n",
    "\n",
    "**OLS Variance Estimator**: \n",
    "\n",
    "$$ \\hat{\\sigma}^2 = \\frac{ \\hat{\\varepsilon}' \\hat{\\varepsilon} } {n-k}$$\n",
    "\n",
    "The main assumptions are:\n",
    "\n",
    "* Linearity\n",
    "* conditional mean is zero\n",
    "* conditional homoskedasticity ($\\sigma^2$)\n",
    "* conditional normality\n",
    "* X is full rank\n",
    "\n",
    "What does the heteroscedasticity mean?\n",
    "\n",
    "The disturbance in matrix A is homoskedastic; this is the simple case where OLS is the best linear unbiased estimator. The disturbances in matrices B and C are heteroskedastic. In matrix B, the variance is time-varying, increasing steadily across time; in matrix C, the variance depends on the value of x. The disturbance in matrix D is homoskedastic because the diagonal variances are constant, even though the off-diagonal covariances are non-zero and ordinary least squares is inefficient for a different reason: serial correlation.\n",
    "\n",
    "$$A = \\sigma^2 \\begin{bmatrix} 1 & 0 & 0 \\\\ 0 & 1 & 0 \\\\ 0 & 0 & 1 \\end{bmatrix} \\ \\ \\ B = \\sigma^2 \\begin{bmatrix} 1 & 0 & 0 \\\\ 0 & 2 & 0 \\\\ 0 & 0 & 3 \\end{bmatrix} $$ \n",
    "$$C = \\sigma^2 \\begin{bmatrix} x_1 & 0 & 0 \\\\ 0 & x_2 & 0 \\\\ 0 & 0 & x_3 \\end{bmatrix} \\ \\ \\ D = \\sigma^2 \\begin{bmatrix} 1 & \\rho & \\rho^2 \\\\ \\rho & 1 & \\rho \\\\ \\rho^2 & \\rho & 1 \\end{bmatrix}$$\n",
    "\n",
    "An alternative to modeling heteroskedastic data is to transform the data so that is is homoskedastic using generalized least squares (GLS). GLS extends OLS to allow for arbitrary weighting matrices. The GLS estimator of β is defined: \n",
    "\n",
    "$$\\hat{\\beta}^{GLS} = (X'W^{-1}X)^{-1} X' W^{-1} y$$\n",
    "\n",
    "for some positive definite matrix W. The full value of GLS is only realized when $W$ is wisely chosen. \n",
    "\n",
    "We could also use maximum likelihood to estimate the coefficient. It is important to note that the derivation of the OLS estimator does not require an assumption of normality. Moreover, the unbiasedness, variance, and BLUE properties do not rely on the conditional normality of residuals.  \n",
    "\n",
    "\n",
    "T-tests can be used to test a single hypothesis involving one or more coefficient. "
   ]
  },
  {
   "cell_type": "markdown",
   "id": "spare-arizona",
   "metadata": {},
   "source": [
    "In linear factors models, Fama and French (1992) use returns on specially constructed portfolios as factors to capture specific types of risk. We will first study Fama French 3-factor model and then move to the models with more factors. \n",
    "\n",
    "The traditional asset pricing model, known formally as the capital asset pricing model (CAPM) uses only one variable to describe the returns of a portfolio or stock with the returns of the market as a whole. In contrast, the Fama–French model uses three variables. Fama and French started with the observation that two classes of stocks have tended to do better than the market as a whole: (i) small caps and (ii) stocks with a high book-to-market ratio (B/P, customarily called value stocks, contrasted with growth stocks).\n",
    "\n",
    "They then added two factors to CAPM to reflect a portfolio's exposure to these two classes:\n",
    "\n",
    "$$r = R_f + \\beta(R_m - R_f) + b_s \\cdot SMB + b_v \\cdot HML + +\\alpha + \\epsilon$$\n",
    "\n",
    "Or we could write it as:\n",
    "\n",
    "$$r - R_f = \\alpha +  \\beta(R_m - R_f) + b_s \\cdot SMB + b_v \\cdot HML + \\epsilon $$\n",
    "\n",
    "We will use the dataset from Fama and French, which you could download [here](http://mba.tuck.dartmouth.edu/pages/faculty/ken.french/data_library.html)."
   ]
  },
  {
   "cell_type": "code",
   "execution_count": 203,
   "id": "innocent-surfing",
   "metadata": {},
   "outputs": [],
   "source": [
    "import pandas as pd\n",
    "import numpy as np\n",
    "import pandas_datareader as pdr\n",
    "import matplotlib.pyplot as plt\n",
    "import statsmodels.api as sm\n",
    "import statsmodels.formula.api as smf\n",
    "import scipy.stats as stats\n",
    "from statsmodels.stats.descriptivestats import describe\n",
    "from statsmodels.stats.diagnostic import het_white\n",
    "from statsmodels.tsa.api import VAR"
   ]
  },
  {
   "cell_type": "code",
   "execution_count": 55,
   "id": "parliamentary-sender",
   "metadata": {},
   "outputs": [],
   "source": [
    "# a function of reading and cleaning dataset\n",
    "def read_fama_french(file):\n",
    "    df = (pd.read_csv(file, skiprows=2)  # skip the first two rows\n",
    "             .iloc[0:1136, :]  # select certain rows\n",
    "             .set_index('Unnamed: 0')\n",
    "             .rename_axis(None)  # remove the name of axis\n",
    "         )\n",
    "    df.index = pd.to_datetime(df.index, format=\"%Y%m\")  # convert to datetime\n",
    "    df = df.astype('float')\n",
    "    return df"
   ]
  },
  {
   "cell_type": "code",
   "execution_count": 56,
   "id": "another-hybrid",
   "metadata": {
    "scrolled": true
   },
   "outputs": [],
   "source": [
    "ff_monthly = read_fama_french('../data/ThreeFactorsMonthly.CSV')"
   ]
  },
  {
   "cell_type": "code",
   "execution_count": 57,
   "id": "tired-crown",
   "metadata": {},
   "outputs": [
    {
     "data": {
      "text/html": [
       "<div>\n",
       "<style scoped>\n",
       "    .dataframe tbody tr th:only-of-type {\n",
       "        vertical-align: middle;\n",
       "    }\n",
       "\n",
       "    .dataframe tbody tr th {\n",
       "        vertical-align: top;\n",
       "    }\n",
       "\n",
       "    .dataframe thead th {\n",
       "        text-align: right;\n",
       "    }\n",
       "</style>\n",
       "<table border=\"1\" class=\"dataframe\">\n",
       "  <thead>\n",
       "    <tr style=\"text-align: right;\">\n",
       "      <th></th>\n",
       "      <th>Mkt-RF</th>\n",
       "      <th>SMB</th>\n",
       "      <th>HML</th>\n",
       "      <th>RF</th>\n",
       "    </tr>\n",
       "  </thead>\n",
       "  <tbody>\n",
       "    <tr>\n",
       "      <th>2020-10-01</th>\n",
       "      <td>-2.10</td>\n",
       "      <td>4.44</td>\n",
       "      <td>4.03</td>\n",
       "      <td>0.01</td>\n",
       "    </tr>\n",
       "    <tr>\n",
       "      <th>2020-11-01</th>\n",
       "      <td>12.47</td>\n",
       "      <td>5.48</td>\n",
       "      <td>2.11</td>\n",
       "      <td>0.01</td>\n",
       "    </tr>\n",
       "    <tr>\n",
       "      <th>2020-12-01</th>\n",
       "      <td>4.63</td>\n",
       "      <td>4.81</td>\n",
       "      <td>-1.36</td>\n",
       "      <td>0.01</td>\n",
       "    </tr>\n",
       "    <tr>\n",
       "      <th>2021-01-01</th>\n",
       "      <td>-0.04</td>\n",
       "      <td>7.19</td>\n",
       "      <td>2.85</td>\n",
       "      <td>0.00</td>\n",
       "    </tr>\n",
       "    <tr>\n",
       "      <th>2021-02-01</th>\n",
       "      <td>2.79</td>\n",
       "      <td>2.11</td>\n",
       "      <td>7.07</td>\n",
       "      <td>0.00</td>\n",
       "    </tr>\n",
       "  </tbody>\n",
       "</table>\n",
       "</div>"
      ],
      "text/plain": [
       "            Mkt-RF   SMB   HML    RF\n",
       "2020-10-01   -2.10  4.44  4.03  0.01\n",
       "2020-11-01   12.47  5.48  2.11  0.01\n",
       "2020-12-01    4.63  4.81 -1.36  0.01\n",
       "2021-01-01   -0.04  7.19  2.85  0.00\n",
       "2021-02-01    2.79  2.11  7.07  0.00"
      ]
     },
     "execution_count": 57,
     "metadata": {},
     "output_type": "execute_result"
    }
   ],
   "source": [
    "ff_monthly.tail()"
   ]
  },
  {
   "cell_type": "code",
   "execution_count": 58,
   "id": "prepared-glenn",
   "metadata": {
    "scrolled": true
   },
   "outputs": [
    {
     "data": {
      "text/plain": [
       "<AxesSubplot:>"
      ]
     },
     "execution_count": 58,
     "metadata": {},
     "output_type": "execute_result"
    },
    {
     "data": {
      "image/png": "[encoded data removed]",
      "text/plain": [
       "<Figure size 432x288 with 1 Axes>"
      ]
     },
     "metadata": {
      "needs_background": "light"
     },
     "output_type": "display_data"
    }
   ],
   "source": [
    "ff_monthly.plot()"
   ]
  },
  {
   "cell_type": "code",
   "execution_count": 79,
   "id": "faced-december",
   "metadata": {},
   "outputs": [
    {
     "data": {
      "text/plain": [
       "<AxesSubplot:>"
      ]
     },
     "execution_count": 79,
     "metadata": {},
     "output_type": "execute_result"
    },
    {
     "data": {
      "image/png": "[encoded data removed]",
      "text/plain": [
       "<Figure size 432x288 with 1 Axes>"
      ]
     },
     "metadata": {
      "needs_background": "light"
     },
     "output_type": "display_data"
    }
   ],
   "source": [
    "ff_monthly['RF'].plot()"
   ]
  },
  {
   "cell_type": "markdown",
   "id": "dying-sample",
   "metadata": {},
   "source": [
    "### Descriptive Statistics\n",
    "\n",
    "Now, we would construct a dataset consisting of monthly observations from 1980 to 2019. And we will use it to predict fund returns of \"FCNTX\". Before we run the regression, we have to math the timeline first."
   ]
  },
  {
   "cell_type": "code",
   "execution_count": 123,
   "id": "hearing-society",
   "metadata": {},
   "outputs": [],
   "source": [
    "def get_return_data(ticker, start_date, end_date, period=\"M\"):\n",
    "    daily_price = pdr.data.DataReader(ticker, 'yahoo', start_date, end_date)['Adj Close']\n",
    "    resample_price = daily_price.resample(period).ffill().dropna()\n",
    "    rtn = resample_price.pct_change().dropna()\n",
    "    \n",
    "    return rtn"
   ]
  },
  {
   "cell_type": "code",
   "execution_count": 134,
   "id": "comparable-recipient",
   "metadata": {},
   "outputs": [],
   "source": [
    "start_date = '1980-01-01'  # to math the timeline\n",
    "end_date = '2019-12-31'"
   ]
  },
  {
   "cell_type": "code",
   "execution_count": 135,
   "id": "hollywood-literacy",
   "metadata": {},
   "outputs": [],
   "source": [
    "ticker = \"FCNTX\"\n",
    "fcntx_return = get_return_data(ticker, start_date, end_date) * 100  # express it in the percentage format "
   ]
  },
  {
   "cell_type": "code",
   "execution_count": 136,
   "id": "green-forth",
   "metadata": {
    "scrolled": true
   },
   "outputs": [
    {
     "data": {
      "text/plain": [
       "Date\n",
       "1980-02-29   -1.687411\n",
       "1980-03-31   -8.943086\n",
       "1980-04-30    1.785707\n",
       "1980-05-31    7.894740\n",
       "1980-06-30    1.174350\n",
       "Freq: M, Name: Adj Close, dtype: float64"
      ]
     },
     "execution_count": 136,
     "metadata": {},
     "output_type": "execute_result"
    }
   ],
   "source": [
    "fcntx_return.head()"
   ]
  },
  {
   "cell_type": "code",
   "execution_count": 137,
   "id": "chief-disposal",
   "metadata": {},
   "outputs": [
    {
     "data": {
      "text/plain": [
       "<AxesSubplot:xlabel='Date'>"
      ]
     },
     "execution_count": 137,
     "metadata": {},
     "output_type": "execute_result"
    },
    {
     "data": {
      "image/png": "[encoded data removed]",
      "text/plain": [
       "<Figure size 432x288 with 1 Axes>"
      ]
     },
     "metadata": {
      "needs_background": "light"
     },
     "output_type": "display_data"
    }
   ],
   "source": [
    "fcntx_return.plot()"
   ]
  },
  {
   "cell_type": "code",
   "execution_count": 138,
   "id": "spectacular-honey",
   "metadata": {
    "scrolled": false
   },
   "outputs": [
    {
     "data": {
      "text/html": [
       "<div>\n",
       "<style scoped>\n",
       "    .dataframe tbody tr th:only-of-type {\n",
       "        vertical-align: middle;\n",
       "    }\n",
       "\n",
       "    .dataframe tbody tr th {\n",
       "        vertical-align: top;\n",
       "    }\n",
       "\n",
       "    .dataframe thead th {\n",
       "        text-align: right;\n",
       "    }\n",
       "</style>\n",
       "<table border=\"1\" class=\"dataframe\">\n",
       "  <thead>\n",
       "    <tr style=\"text-align: right;\">\n",
       "      <th></th>\n",
       "      <th>Mkt-RF</th>\n",
       "      <th>SMB</th>\n",
       "      <th>HML</th>\n",
       "      <th>RF</th>\n",
       "    </tr>\n",
       "  </thead>\n",
       "  <tbody>\n",
       "    <tr>\n",
       "      <th>1980-02-01</th>\n",
       "      <td>-1.22</td>\n",
       "      <td>-1.83</td>\n",
       "      <td>0.66</td>\n",
       "      <td>0.89</td>\n",
       "    </tr>\n",
       "    <tr>\n",
       "      <th>1980-03-01</th>\n",
       "      <td>-12.90</td>\n",
       "      <td>-6.65</td>\n",
       "      <td>-1.02</td>\n",
       "      <td>1.21</td>\n",
       "    </tr>\n",
       "    <tr>\n",
       "      <th>1980-04-01</th>\n",
       "      <td>3.97</td>\n",
       "      <td>0.96</td>\n",
       "      <td>1.01</td>\n",
       "      <td>1.26</td>\n",
       "    </tr>\n",
       "    <tr>\n",
       "      <th>1980-05-01</th>\n",
       "      <td>5.26</td>\n",
       "      <td>2.16</td>\n",
       "      <td>0.38</td>\n",
       "      <td>0.81</td>\n",
       "    </tr>\n",
       "    <tr>\n",
       "      <th>1980-06-01</th>\n",
       "      <td>3.06</td>\n",
       "      <td>1.66</td>\n",
       "      <td>-0.85</td>\n",
       "      <td>0.61</td>\n",
       "    </tr>\n",
       "  </tbody>\n",
       "</table>\n",
       "</div>"
      ],
      "text/plain": [
       "            Mkt-RF   SMB   HML    RF\n",
       "1980-02-01   -1.22 -1.83  0.66  0.89\n",
       "1980-03-01  -12.90 -6.65 -1.02  1.21\n",
       "1980-04-01    3.97  0.96  1.01  1.26\n",
       "1980-05-01    5.26  2.16  0.38  0.81\n",
       "1980-06-01    3.06  1.66 -0.85  0.61"
      ]
     },
     "execution_count": 138,
     "metadata": {},
     "output_type": "execute_result"
    }
   ],
   "source": [
    "dataset = ff_monthly.loc['1980-02-01':end_date]\n",
    "dataset.head()"
   ]
  },
  {
   "cell_type": "code",
   "execution_count": 139,
   "id": "ruled-rally",
   "metadata": {},
   "outputs": [
    {
     "data": {
      "text/plain": [
       "True"
      ]
     },
     "execution_count": 139,
     "metadata": {},
     "output_type": "execute_result"
    }
   ],
   "source": [
    "fcntx_return.shape[0] == dataset.shape[0]  # check weather we have the same lenght"
   ]
  },
  {
   "cell_type": "code",
   "execution_count": 151,
   "id": "strategic-transcription",
   "metadata": {
    "scrolled": true
   },
   "outputs": [
    {
     "name": "stderr",
     "output_type": "stream",
     "text": [
      "<ipython-input-151-54746ba13b2e>:2: SettingWithCopyWarning: \n",
      "A value is trying to be set on a copy of a slice from a DataFrame.\n",
      "Try using .loc[row_indexer,col_indexer] = value instead\n",
      "\n",
      "See the caveats in the documentation: https://pandas.pydata.org/pandas-docs/stable/user_guide/indexing.html#returning-a-view-versus-a-copy\n",
      "  dataset['fcntx'] = fcntx_return.values\n",
      "<ipython-input-151-54746ba13b2e>:3: SettingWithCopyWarning: \n",
      "A value is trying to be set on a copy of a slice from a DataFrame.\n",
      "Try using .loc[row_indexer,col_indexer] = value instead\n",
      "\n",
      "See the caveats in the documentation: https://pandas.pydata.org/pandas-docs/stable/user_guide/indexing.html#returning-a-view-versus-a-copy\n",
      "  dataset['fcntx_excess'] = dataset['fcntx'] - dataset['RF']\n"
     ]
    },
    {
     "data": {
      "text/html": [
       "<div>\n",
       "<style scoped>\n",
       "    .dataframe tbody tr th:only-of-type {\n",
       "        vertical-align: middle;\n",
       "    }\n",
       "\n",
       "    .dataframe tbody tr th {\n",
       "        vertical-align: top;\n",
       "    }\n",
       "\n",
       "    .dataframe thead th {\n",
       "        text-align: right;\n",
       "    }\n",
       "</style>\n",
       "<table border=\"1\" class=\"dataframe\">\n",
       "  <thead>\n",
       "    <tr style=\"text-align: right;\">\n",
       "      <th></th>\n",
       "      <th>Mkt-RF</th>\n",
       "      <th>SMB</th>\n",
       "      <th>HML</th>\n",
       "      <th>RF</th>\n",
       "      <th>fcntx</th>\n",
       "      <th>fcntx_excess</th>\n",
       "    </tr>\n",
       "  </thead>\n",
       "  <tbody>\n",
       "    <tr>\n",
       "      <th>1980-02-01</th>\n",
       "      <td>-1.22</td>\n",
       "      <td>-1.83</td>\n",
       "      <td>0.66</td>\n",
       "      <td>0.89</td>\n",
       "      <td>-1.687411</td>\n",
       "      <td>-2.577411</td>\n",
       "    </tr>\n",
       "    <tr>\n",
       "      <th>1980-03-01</th>\n",
       "      <td>-12.90</td>\n",
       "      <td>-6.65</td>\n",
       "      <td>-1.02</td>\n",
       "      <td>1.21</td>\n",
       "      <td>-8.943086</td>\n",
       "      <td>-10.153086</td>\n",
       "    </tr>\n",
       "    <tr>\n",
       "      <th>1980-04-01</th>\n",
       "      <td>3.97</td>\n",
       "      <td>0.96</td>\n",
       "      <td>1.01</td>\n",
       "      <td>1.26</td>\n",
       "      <td>1.785707</td>\n",
       "      <td>0.525707</td>\n",
       "    </tr>\n",
       "    <tr>\n",
       "      <th>1980-05-01</th>\n",
       "      <td>5.26</td>\n",
       "      <td>2.16</td>\n",
       "      <td>0.38</td>\n",
       "      <td>0.81</td>\n",
       "      <td>7.894740</td>\n",
       "      <td>7.084740</td>\n",
       "    </tr>\n",
       "    <tr>\n",
       "      <th>1980-06-01</th>\n",
       "      <td>3.06</td>\n",
       "      <td>1.66</td>\n",
       "      <td>-0.85</td>\n",
       "      <td>0.61</td>\n",
       "      <td>1.174350</td>\n",
       "      <td>0.564350</td>\n",
       "    </tr>\n",
       "  </tbody>\n",
       "</table>\n",
       "</div>"
      ],
      "text/plain": [
       "            Mkt-RF   SMB   HML    RF     fcntx  fcntx_excess\n",
       "1980-02-01   -1.22 -1.83  0.66  0.89 -1.687411     -2.577411\n",
       "1980-03-01  -12.90 -6.65 -1.02  1.21 -8.943086    -10.153086\n",
       "1980-04-01    3.97  0.96  1.01  1.26  1.785707      0.525707\n",
       "1980-05-01    5.26  2.16  0.38  0.81  7.894740      7.084740\n",
       "1980-06-01    3.06  1.66 -0.85  0.61  1.174350      0.564350"
      ]
     },
     "execution_count": 151,
     "metadata": {},
     "output_type": "execute_result"
    }
   ],
   "source": [
    "# join the two dataset\n",
    "dataset['fcntx'] = fcntx_return.values\n",
    "dataset['fcntx_excess'] = dataset['fcntx'] - dataset['RF']\n",
    "dataset.head()"
   ]
  },
  {
   "cell_type": "code",
   "execution_count": 153,
   "id": "absent-market",
   "metadata": {
    "scrolled": true
   },
   "outputs": [
    {
     "data": {
      "text/html": [
       "<div>\n",
       "<style scoped>\n",
       "    .dataframe tbody tr th:only-of-type {\n",
       "        vertical-align: middle;\n",
       "    }\n",
       "\n",
       "    .dataframe tbody tr th {\n",
       "        vertical-align: top;\n",
       "    }\n",
       "\n",
       "    .dataframe thead th {\n",
       "        text-align: right;\n",
       "    }\n",
       "</style>\n",
       "<table border=\"1\" class=\"dataframe\">\n",
       "  <thead>\n",
       "    <tr style=\"text-align: right;\">\n",
       "      <th></th>\n",
       "      <th>Mkt-RF</th>\n",
       "      <th>SMB</th>\n",
       "      <th>HML</th>\n",
       "      <th>RF</th>\n",
       "      <th>fcntx</th>\n",
       "      <th>fcntx_excess</th>\n",
       "    </tr>\n",
       "  </thead>\n",
       "  <tbody>\n",
       "    <tr>\n",
       "      <th>2019-08-01</th>\n",
       "      <td>-2.58</td>\n",
       "      <td>-2.40</td>\n",
       "      <td>-4.85</td>\n",
       "      <td>0.16</td>\n",
       "      <td>-1.804510</td>\n",
       "      <td>-1.964510</td>\n",
       "    </tr>\n",
       "    <tr>\n",
       "      <th>2019-09-01</th>\n",
       "      <td>1.43</td>\n",
       "      <td>-1.05</td>\n",
       "      <td>6.77</td>\n",
       "      <td>0.18</td>\n",
       "      <td>-1.531399</td>\n",
       "      <td>-1.711399</td>\n",
       "    </tr>\n",
       "    <tr>\n",
       "      <th>2019-10-01</th>\n",
       "      <td>2.06</td>\n",
       "      <td>0.24</td>\n",
       "      <td>-1.88</td>\n",
       "      <td>0.15</td>\n",
       "      <td>2.799383</td>\n",
       "      <td>2.649383</td>\n",
       "    </tr>\n",
       "    <tr>\n",
       "      <th>2019-11-01</th>\n",
       "      <td>3.87</td>\n",
       "      <td>0.91</td>\n",
       "      <td>-2.05</td>\n",
       "      <td>0.12</td>\n",
       "      <td>4.311647</td>\n",
       "      <td>4.191647</td>\n",
       "    </tr>\n",
       "    <tr>\n",
       "      <th>2019-12-01</th>\n",
       "      <td>2.77</td>\n",
       "      <td>0.67</td>\n",
       "      <td>1.91</td>\n",
       "      <td>0.14</td>\n",
       "      <td>-0.580130</td>\n",
       "      <td>-0.720130</td>\n",
       "    </tr>\n",
       "  </tbody>\n",
       "</table>\n",
       "</div>"
      ],
      "text/plain": [
       "            Mkt-RF   SMB   HML    RF     fcntx  fcntx_excess\n",
       "2019-08-01   -2.58 -2.40 -4.85  0.16 -1.804510     -1.964510\n",
       "2019-09-01    1.43 -1.05  6.77  0.18 -1.531399     -1.711399\n",
       "2019-10-01    2.06  0.24 -1.88  0.15  2.799383      2.649383\n",
       "2019-11-01    3.87  0.91 -2.05  0.12  4.311647      4.191647\n",
       "2019-12-01    2.77  0.67  1.91  0.14 -0.580130     -0.720130"
      ]
     },
     "execution_count": 153,
     "metadata": {},
     "output_type": "execute_result"
    }
   ],
   "source": [
    "dataset.tail()"
   ]
  },
  {
   "cell_type": "code",
   "execution_count": 156,
   "id": "mobile-peninsula",
   "metadata": {},
   "outputs": [],
   "source": [
    "dataset = dataset.rename({'Mkt-RF': 'mkt_excess'}, axis=1)"
   ]
  },
  {
   "cell_type": "code",
   "execution_count": 157,
   "id": "solar-brief",
   "metadata": {},
   "outputs": [
    {
     "data": {
      "text/html": [
       "<div>\n",
       "<style scoped>\n",
       "    .dataframe tbody tr th:only-of-type {\n",
       "        vertical-align: middle;\n",
       "    }\n",
       "\n",
       "    .dataframe tbody tr th {\n",
       "        vertical-align: top;\n",
       "    }\n",
       "\n",
       "    .dataframe thead th {\n",
       "        text-align: right;\n",
       "    }\n",
       "</style>\n",
       "<table border=\"1\" class=\"dataframe\">\n",
       "  <thead>\n",
       "    <tr style=\"text-align: right;\">\n",
       "      <th></th>\n",
       "      <th>mkt_excess</th>\n",
       "      <th>SMB</th>\n",
       "      <th>HML</th>\n",
       "      <th>RF</th>\n",
       "      <th>fcntx</th>\n",
       "      <th>fcntx_excess</th>\n",
       "    </tr>\n",
       "  </thead>\n",
       "  <tbody>\n",
       "    <tr>\n",
       "      <th>nobs</th>\n",
       "      <td>4.790000e+02</td>\n",
       "      <td>4.790000e+02</td>\n",
       "      <td>4.790000e+02</td>\n",
       "      <td>4.790000e+02</td>\n",
       "      <td>4.790000e+02</td>\n",
       "      <td>4.790000e+02</td>\n",
       "    </tr>\n",
       "    <tr>\n",
       "      <th>missing</th>\n",
       "      <td>0.000000e+00</td>\n",
       "      <td>0.000000e+00</td>\n",
       "      <td>0.000000e+00</td>\n",
       "      <td>0.000000e+00</td>\n",
       "      <td>0.000000e+00</td>\n",
       "      <td>0.000000e+00</td>\n",
       "    </tr>\n",
       "    <tr>\n",
       "      <th>mean</th>\n",
       "      <td>6.691441e-01</td>\n",
       "      <td>6.686848e-02</td>\n",
       "      <td>2.332985e-01</td>\n",
       "      <td>3.449061e-01</td>\n",
       "      <td>7.252929e-01</td>\n",
       "      <td>3.803868e-01</td>\n",
       "    </tr>\n",
       "    <tr>\n",
       "      <th>std_err</th>\n",
       "      <td>9.181560e-03</td>\n",
       "      <td>6.218420e-03</td>\n",
       "      <td>6.119860e-03</td>\n",
       "      <td>6.090495e-04</td>\n",
       "      <td>9.681424e-03</td>\n",
       "      <td>9.725063e-03</td>\n",
       "    </tr>\n",
       "    <tr>\n",
       "      <th>upper_ci</th>\n",
       "      <td>6.871396e-01</td>\n",
       "      <td>7.905636e-02</td>\n",
       "      <td>2.452932e-01</td>\n",
       "      <td>3.460998e-01</td>\n",
       "      <td>7.442681e-01</td>\n",
       "      <td>3.994476e-01</td>\n",
       "    </tr>\n",
       "    <tr>\n",
       "      <th>lower_ci</th>\n",
       "      <td>6.511485e-01</td>\n",
       "      <td>5.468060e-02</td>\n",
       "      <td>2.213038e-01</td>\n",
       "      <td>3.437123e-01</td>\n",
       "      <td>7.063176e-01</td>\n",
       "      <td>3.613260e-01</td>\n",
       "    </tr>\n",
       "    <tr>\n",
       "      <th>std</th>\n",
       "      <td>4.397967e+00</td>\n",
       "      <td>2.978623e+00</td>\n",
       "      <td>2.931413e+00</td>\n",
       "      <td>2.917347e-01</td>\n",
       "      <td>4.637402e+00</td>\n",
       "      <td>4.658305e+00</td>\n",
       "    </tr>\n",
       "    <tr>\n",
       "      <th>iqr</th>\n",
       "      <td>5.375000e+00</td>\n",
       "      <td>3.420000e+00</td>\n",
       "      <td>3.160000e+00</td>\n",
       "      <td>4.000000e-01</td>\n",
       "      <td>5.381121e+00</td>\n",
       "      <td>5.335772e+00</td>\n",
       "    </tr>\n",
       "    <tr>\n",
       "      <th>iqr_normal</th>\n",
       "      <td>3.984493e+00</td>\n",
       "      <td>2.535250e+00</td>\n",
       "      <td>2.342512e+00</td>\n",
       "      <td>2.965204e-01</td>\n",
       "      <td>3.989031e+00</td>\n",
       "      <td>3.955413e+00</td>\n",
       "    </tr>\n",
       "    <tr>\n",
       "      <th>mad</th>\n",
       "      <td>3.305262e+00</td>\n",
       "      <td>2.151878e+00</td>\n",
       "      <td>2.163039e+00</td>\n",
       "      <td>2.343944e-01</td>\n",
       "      <td>3.428130e+00</td>\n",
       "      <td>3.444757e+00</td>\n",
       "    </tr>\n",
       "    <tr>\n",
       "      <th>mad_normal</th>\n",
       "      <td>4.142532e+00</td>\n",
       "      <td>2.696979e+00</td>\n",
       "      <td>2.710968e+00</td>\n",
       "      <td>2.937698e-01</td>\n",
       "      <td>4.296524e+00</td>\n",
       "      <td>4.317363e+00</td>\n",
       "    </tr>\n",
       "    <tr>\n",
       "      <th>coef_var</th>\n",
       "      <td>6.572527e+00</td>\n",
       "      <td>4.454451e+01</td>\n",
       "      <td>1.256507e+01</td>\n",
       "      <td>8.458382e-01</td>\n",
       "      <td>6.393834e+00</td>\n",
       "      <td>1.224623e+01</td>\n",
       "    </tr>\n",
       "    <tr>\n",
       "      <th>range</th>\n",
       "      <td>3.571000e+01</td>\n",
       "      <td>3.801000e+01</td>\n",
       "      <td>2.370000e+01</td>\n",
       "      <td>1.350000e+00</td>\n",
       "      <td>4.363474e+01</td>\n",
       "      <td>4.350198e+01</td>\n",
       "    </tr>\n",
       "    <tr>\n",
       "      <th>max</th>\n",
       "      <td>1.247000e+01</td>\n",
       "      <td>2.119000e+01</td>\n",
       "      <td>1.258000e+01</td>\n",
       "      <td>1.350000e+00</td>\n",
       "      <td>1.475029e+01</td>\n",
       "      <td>1.401753e+01</td>\n",
       "    </tr>\n",
       "    <tr>\n",
       "      <th>min</th>\n",
       "      <td>-2.324000e+01</td>\n",
       "      <td>-1.682000e+01</td>\n",
       "      <td>-1.112000e+01</td>\n",
       "      <td>0.000000e+00</td>\n",
       "      <td>-2.888445e+01</td>\n",
       "      <td>-2.948445e+01</td>\n",
       "    </tr>\n",
       "    <tr>\n",
       "      <th>skew</th>\n",
       "      <td>-7.587887e-01</td>\n",
       "      <td>5.745008e-01</td>\n",
       "      <td>2.579408e-01</td>\n",
       "      <td>8.582396e-01</td>\n",
       "      <td>-9.363669e-01</td>\n",
       "      <td>-9.848105e-01</td>\n",
       "    </tr>\n",
       "    <tr>\n",
       "      <th>kurtosis</th>\n",
       "      <td>5.364909e+00</td>\n",
       "      <td>1.021380e+01</td>\n",
       "      <td>4.812283e+00</td>\n",
       "      <td>3.617407e+00</td>\n",
       "      <td>7.338273e+00</td>\n",
       "      <td>7.405555e+00</td>\n",
       "    </tr>\n",
       "    <tr>\n",
       "      <th>jarque_bera</th>\n",
       "      <td>1.575877e+02</td>\n",
       "      <td>1.064959e+03</td>\n",
       "      <td>7.086212e+01</td>\n",
       "      <td>6.641119e+01</td>\n",
       "      <td>4.456246e+02</td>\n",
       "      <td>4.647960e+02</td>\n",
       "    </tr>\n",
       "    <tr>\n",
       "      <th>jarque_bera_pval</th>\n",
       "      <td>6.029194e-35</td>\n",
       "      <td>5.585377e-232</td>\n",
       "      <td>4.097198e-16</td>\n",
       "      <td>3.793086e-15</td>\n",
       "      <td>1.713384e-97</td>\n",
       "      <td>1.177131e-101</td>\n",
       "    </tr>\n",
       "    <tr>\n",
       "      <th>mode</th>\n",
       "      <td>7.300000e-01</td>\n",
       "      <td>-2.700000e-01</td>\n",
       "      <td>-2.770000e+00</td>\n",
       "      <td>0.000000e+00</td>\n",
       "      <td>0.000000e+00</td>\n",
       "      <td>-2.948445e+01</td>\n",
       "    </tr>\n",
       "    <tr>\n",
       "      <th>mode_freq</th>\n",
       "      <td>6.263048e-03</td>\n",
       "      <td>8.350731e-03</td>\n",
       "      <td>8.350731e-03</td>\n",
       "      <td>1.169102e-01</td>\n",
       "      <td>6.263048e-03</td>\n",
       "      <td>2.087683e-03</td>\n",
       "    </tr>\n",
       "    <tr>\n",
       "      <th>median</th>\n",
       "      <td>1.110000e+00</td>\n",
       "      <td>8.000000e-02</td>\n",
       "      <td>1.200000e-01</td>\n",
       "      <td>3.400000e-01</td>\n",
       "      <td>1.084861e+00</td>\n",
       "      <td>6.985660e-01</td>\n",
       "    </tr>\n",
       "  </tbody>\n",
       "</table>\n",
       "</div>"
      ],
      "text/plain": [
       "                    mkt_excess            SMB           HML            RF  \\\n",
       "nobs              4.790000e+02   4.790000e+02  4.790000e+02  4.790000e+02   \n",
       "missing           0.000000e+00   0.000000e+00  0.000000e+00  0.000000e+00   \n",
       "mean              6.691441e-01   6.686848e-02  2.332985e-01  3.449061e-01   \n",
       "std_err           9.181560e-03   6.218420e-03  6.119860e-03  6.090495e-04   \n",
       "upper_ci          6.871396e-01   7.905636e-02  2.452932e-01  3.460998e-01   \n",
       "lower_ci          6.511485e-01   5.468060e-02  2.213038e-01  3.437123e-01   \n",
       "std               4.397967e+00   2.978623e+00  2.931413e+00  2.917347e-01   \n",
       "iqr               5.375000e+00   3.420000e+00  3.160000e+00  4.000000e-01   \n",
       "iqr_normal        3.984493e+00   2.535250e+00  2.342512e+00  2.965204e-01   \n",
       "mad               3.305262e+00   2.151878e+00  2.163039e+00  2.343944e-01   \n",
       "mad_normal        4.142532e+00   2.696979e+00  2.710968e+00  2.937698e-01   \n",
       "coef_var          6.572527e+00   4.454451e+01  1.256507e+01  8.458382e-01   \n",
       "range             3.571000e+01   3.801000e+01  2.370000e+01  1.350000e+00   \n",
       "max               1.247000e+01   2.119000e+01  1.258000e+01  1.350000e+00   \n",
       "min              -2.324000e+01  -1.682000e+01 -1.112000e+01  0.000000e+00   \n",
       "skew             -7.587887e-01   5.745008e-01  2.579408e-01  8.582396e-01   \n",
       "kurtosis          5.364909e+00   1.021380e+01  4.812283e+00  3.617407e+00   \n",
       "jarque_bera       1.575877e+02   1.064959e+03  7.086212e+01  6.641119e+01   \n",
       "jarque_bera_pval  6.029194e-35  5.585377e-232  4.097198e-16  3.793086e-15   \n",
       "mode              7.300000e-01  -2.700000e-01 -2.770000e+00  0.000000e+00   \n",
       "mode_freq         6.263048e-03   8.350731e-03  8.350731e-03  1.169102e-01   \n",
       "median            1.110000e+00   8.000000e-02  1.200000e-01  3.400000e-01   \n",
       "\n",
       "                         fcntx   fcntx_excess  \n",
       "nobs              4.790000e+02   4.790000e+02  \n",
       "missing           0.000000e+00   0.000000e+00  \n",
       "mean              7.252929e-01   3.803868e-01  \n",
       "std_err           9.681424e-03   9.725063e-03  \n",
       "upper_ci          7.442681e-01   3.994476e-01  \n",
       "lower_ci          7.063176e-01   3.613260e-01  \n",
       "std               4.637402e+00   4.658305e+00  \n",
       "iqr               5.381121e+00   5.335772e+00  \n",
       "iqr_normal        3.989031e+00   3.955413e+00  \n",
       "mad               3.428130e+00   3.444757e+00  \n",
       "mad_normal        4.296524e+00   4.317363e+00  \n",
       "coef_var          6.393834e+00   1.224623e+01  \n",
       "range             4.363474e+01   4.350198e+01  \n",
       "max               1.475029e+01   1.401753e+01  \n",
       "min              -2.888445e+01  -2.948445e+01  \n",
       "skew             -9.363669e-01  -9.848105e-01  \n",
       "kurtosis          7.338273e+00   7.405555e+00  \n",
       "jarque_bera       4.456246e+02   4.647960e+02  \n",
       "jarque_bera_pval  1.713384e-97  1.177131e-101  \n",
       "mode              0.000000e+00  -2.948445e+01  \n",
       "mode_freq         6.263048e-03   2.087683e-03  \n",
       "median            1.084861e+00   6.985660e-01  "
      ]
     },
     "execution_count": 157,
     "metadata": {},
     "output_type": "execute_result"
    }
   ],
   "source": [
    "describe(dataset)"
   ]
  },
  {
   "cell_type": "code",
   "execution_count": 159,
   "id": "chubby-sunset",
   "metadata": {
    "scrolled": true
   },
   "outputs": [
    {
     "data": {
      "text/html": [
       "<table class=\"simpletable\">\n",
       "<caption>OLS Regression Results</caption>\n",
       "<tr>\n",
       "  <th>Dep. Variable:</th>      <td>fcntx_excess</td>   <th>  R-squared:         </th> <td>   0.724</td> \n",
       "</tr>\n",
       "<tr>\n",
       "  <th>Model:</th>                   <td>OLS</td>       <th>  Adj. R-squared:    </th> <td>   0.722</td> \n",
       "</tr>\n",
       "<tr>\n",
       "  <th>Method:</th>             <td>Least Squares</td>  <th>  F-statistic:       </th> <td>   415.7</td> \n",
       "</tr>\n",
       "<tr>\n",
       "  <th>Date:</th>             <td>Tue, 30 Mar 2021</td> <th>  Prob (F-statistic):</th> <td>2.12e-132</td>\n",
       "</tr>\n",
       "<tr>\n",
       "  <th>Time:</th>                 <td>14:28:26</td>     <th>  Log-Likelihood:    </th> <td> -1107.7</td> \n",
       "</tr>\n",
       "<tr>\n",
       "  <th>No. Observations:</th>      <td>   479</td>      <th>  AIC:               </th> <td>   2223.</td> \n",
       "</tr>\n",
       "<tr>\n",
       "  <th>Df Residuals:</th>          <td>   475</td>      <th>  BIC:               </th> <td>   2240.</td> \n",
       "</tr>\n",
       "<tr>\n",
       "  <th>Df Model:</th>              <td>     3</td>      <th>                     </th>     <td> </td>    \n",
       "</tr>\n",
       "<tr>\n",
       "  <th>Covariance Type:</th>      <td>nonrobust</td>    <th>                     </th>     <td> </td>    \n",
       "</tr>\n",
       "</table>\n",
       "<table class=\"simpletable\">\n",
       "<tr>\n",
       "       <td></td>         <th>coef</th>     <th>std err</th>      <th>t</th>      <th>P>|t|</th>  <th>[0.025</th>    <th>0.975]</th>  \n",
       "</tr>\n",
       "<tr>\n",
       "  <th>Intercept</th>  <td>   -0.1836</td> <td>    0.114</td> <td>   -1.606</td> <td> 0.109</td> <td>   -0.408</td> <td>    0.041</td>\n",
       "</tr>\n",
       "<tr>\n",
       "  <th>mkt_excess</th> <td>    0.8785</td> <td>    0.027</td> <td>   32.672</td> <td> 0.000</td> <td>    0.826</td> <td>    0.931</td>\n",
       "</tr>\n",
       "<tr>\n",
       "  <th>SMB</th>        <td>    0.0088</td> <td>    0.040</td> <td>    0.221</td> <td> 0.825</td> <td>   -0.069</td> <td>    0.087</td>\n",
       "</tr>\n",
       "<tr>\n",
       "  <th>HML</th>        <td>   -0.1050</td> <td>    0.041</td> <td>   -2.579</td> <td> 0.010</td> <td>   -0.185</td> <td>   -0.025</td>\n",
       "</tr>\n",
       "</table>\n",
       "<table class=\"simpletable\">\n",
       "<tr>\n",
       "  <th>Omnibus:</th>       <td>224.933</td> <th>  Durbin-Watson:     </th> <td>   2.120</td>\n",
       "</tr>\n",
       "<tr>\n",
       "  <th>Prob(Omnibus):</th> <td> 0.000</td>  <th>  Jarque-Bera (JB):  </th> <td>1607.123</td>\n",
       "</tr>\n",
       "<tr>\n",
       "  <th>Skew:</th>          <td>-1.905</td>  <th>  Prob(JB):          </th> <td>    0.00</td>\n",
       "</tr>\n",
       "<tr>\n",
       "  <th>Kurtosis:</th>      <td>11.124</td>  <th>  Cond. No.          </th> <td>    4.75</td>\n",
       "</tr>\n",
       "</table><br/><br/>Notes:<br/>[1] Standard Errors assume that the covariance matrix of the errors is correctly specified."
      ],
      "text/plain": [
       "<class 'statsmodels.iolib.summary.Summary'>\n",
       "\"\"\"\n",
       "                            OLS Regression Results                            \n",
       "==============================================================================\n",
       "Dep. Variable:           fcntx_excess   R-squared:                       0.724\n",
       "Model:                            OLS   Adj. R-squared:                  0.722\n",
       "Method:                 Least Squares   F-statistic:                     415.7\n",
       "Date:                Tue, 30 Mar 2021   Prob (F-statistic):          2.12e-132\n",
       "Time:                        14:28:26   Log-Likelihood:                -1107.7\n",
       "No. Observations:                 479   AIC:                             2223.\n",
       "Df Residuals:                     475   BIC:                             2240.\n",
       "Df Model:                           3                                         \n",
       "Covariance Type:            nonrobust                                         \n",
       "==============================================================================\n",
       "                 coef    std err          t      P>|t|      [0.025      0.975]\n",
       "------------------------------------------------------------------------------\n",
       "Intercept     -0.1836      0.114     -1.606      0.109      -0.408       0.041\n",
       "mkt_excess     0.8785      0.027     32.672      0.000       0.826       0.931\n",
       "SMB            0.0088      0.040      0.221      0.825      -0.069       0.087\n",
       "HML           -0.1050      0.041     -2.579      0.010      -0.185      -0.025\n",
       "==============================================================================\n",
       "Omnibus:                      224.933   Durbin-Watson:                   2.120\n",
       "Prob(Omnibus):                  0.000   Jarque-Bera (JB):             1607.123\n",
       "Skew:                          -1.905   Prob(JB):                         0.00\n",
       "Kurtosis:                      11.124   Cond. No.                         4.75\n",
       "==============================================================================\n",
       "\n",
       "Notes:\n",
       "[1] Standard Errors assume that the covariance matrix of the errors is correctly specified.\n",
       "\"\"\""
      ]
     },
     "execution_count": 159,
     "metadata": {},
     "output_type": "execute_result"
    }
   ],
   "source": [
    "# run Fama French 3 factor model\n",
    "ff_model = smf.ols('fcntx_excess ~ mkt_excess + SMB + HML', data=dataset).fit()\n",
    "ff_model.summary()"
   ]
  },
  {
   "cell_type": "markdown",
   "id": "trained-manhattan",
   "metadata": {},
   "source": [
    "**coefficient of SMB** is not significant from zero. One could see why it is like that when we do the model assessment. "
   ]
  },
  {
   "cell_type": "markdown",
   "id": "interim-correlation",
   "metadata": {},
   "source": [
    "The Fama-French three-factor model (in future uses – the Fama-French model) pays attention to three major factors:\n",
    "\n",
    "* market risk\n",
    "* company size\n",
    "* value factors"
   ]
  },
  {
   "cell_type": "markdown",
   "id": "valid-scheme",
   "metadata": {},
   "source": [
    "The main factors driving expected returns are sensitivity to the market, sensitivity to size, and sensitivity to value stocks, as measured by the book-to-market ratio. \n",
    "\n",
    "HML accounts for the spread in returns between value stocks and growth stocks and argues that companies with high book-to-market ratios, also known as value stocks, outperform those with lower book-to-market values, known as growth stocks.\n",
    "\n",
    "In this model, the coefficient of HML is negative, which indicates the manager of fcntx might not rely on the value premium to earn an abnormal return, by investing in stocks with relative low book-to-market ratios."
   ]
  },
  {
   "cell_type": "markdown",
   "id": "dressed-patent",
   "metadata": {},
   "source": [
    "### Assessing Fit"
   ]
  },
  {
   "cell_type": "code",
   "execution_count": 167,
   "id": "prepared-meter",
   "metadata": {},
   "outputs": [
    {
     "data": {
      "image/png": "[encoded data removed]",
      "text/plain": [
       "<Figure size 432x288 with 4 Axes>"
      ]
     },
     "metadata": {
      "needs_background": "light"
     },
     "output_type": "display_data"
    }
   ],
   "source": [
    "fig = sm.graphics.plot_regress_exog(ff_model, 'SMB')\n",
    "fig.tight_layout(pad=1.0)"
   ]
  },
  {
   "cell_type": "code",
   "execution_count": 168,
   "id": "apart-weather",
   "metadata": {},
   "outputs": [
    {
     "data": {
      "image/png": "[encoded data removed]",
      "text/plain": [
       "<Figure size 432x288 with 1 Axes>"
      ]
     },
     "metadata": {
      "needs_background": "light"
     },
     "output_type": "display_data"
    }
   ],
   "source": [
    "fig = sm.qqplot(ff_model.resid, fit=True, line=\"45\")"
   ]
  },
  {
   "cell_type": "code",
   "execution_count": 170,
   "id": "verified-webster",
   "metadata": {},
   "outputs": [
    {
     "data": {
      "image/png": "[encoded data removed]",
      "text/plain": [
       "<Figure size 432x288 with 1 Axes>"
      ]
     },
     "metadata": {
      "needs_background": "light"
     },
     "output_type": "display_data"
    }
   ],
   "source": [
    "fig = sm.qqplot(ff_model.resid, stats.t, fit=True, line=\"45\")"
   ]
  },
  {
   "cell_type": "markdown",
   "id": "brilliant-index",
   "metadata": {},
   "source": [
    "It looks like that our linear regression model is heteroskedastic. We could run the test. "
   ]
  },
  {
   "cell_type": "code",
   "execution_count": 176,
   "id": "civil-calculation",
   "metadata": {},
   "outputs": [
    {
     "data": {
      "text/plain": [
       "{'LM Statistic': 45.52816733829875,\n",
       " 'LM-Test p-value': 7.366460065671408e-07,\n",
       " 'F-Statistic': 5.473304625777053,\n",
       " 'F-Test p-value': 3.6224462917258715e-07}"
      ]
     },
     "execution_count": 176,
     "metadata": {},
     "output_type": "execute_result"
    }
   ],
   "source": [
    "labels = ['LM Statistic', 'LM-Test p-value', 'F-Statistic','F-Test p-value']\n",
    "white_test = het_white(ff_model.resid, ff_model.model.exog)\n",
    "dict(zip(labels, white_test))"
   ]
  },
  {
   "cell_type": "markdown",
   "id": "electrical-recall",
   "metadata": {},
   "source": [
    "Heteroskedasticity is indicated if p <0.05, so according to these tests, this model is heteroskedastic."
   ]
  },
  {
   "cell_type": "code",
   "execution_count": 186,
   "id": "meaning-sculpture",
   "metadata": {
    "scrolled": true
   },
   "outputs": [
    {
     "data": {
      "text/plain": [
       "<AxesSubplot:>"
      ]
     },
     "execution_count": 186,
     "metadata": {},
     "output_type": "execute_result"
    },
    {
     "data": {
      "image/png": "[encoded data removed]",
      "text/plain": [
       "<Figure size 432x288 with 1 Axes>"
      ]
     },
     "metadata": {
      "needs_background": "light"
     },
     "output_type": "display_data"
    }
   ],
   "source": [
    "ff_model.resid.plot()"
   ]
  },
  {
   "cell_type": "code",
   "execution_count": 188,
   "id": "gothic-training",
   "metadata": {
    "scrolled": true
   },
   "outputs": [
    {
     "data": {
      "image/png": "[encoded data removed]",
      "text/plain": [
       "<Figure size 432x288 with 1 Axes>"
      ]
     },
     "metadata": {
      "needs_background": "light"
     },
     "output_type": "display_data"
    }
   ],
   "source": [
    "# check the autocorrelation of resid\n",
    "fig = sm.graphics.tsa.plot_acf(ff_model.resid)"
   ]
  },
  {
   "cell_type": "code",
   "execution_count": 207,
   "id": "interpreted-tissue",
   "metadata": {},
   "outputs": [
    {
     "data": {
      "text/plain": [
       "2.4393172374373226"
      ]
     },
     "execution_count": 207,
     "metadata": {},
     "output_type": "execute_result"
    }
   ],
   "source": [
    "# extract rho and sigma\n",
    "rho, sigma = sm.regression.yule_walker(ff_model.resid)\n",
    "sigma"
   ]
  },
  {
   "cell_type": "code",
   "execution_count": 200,
   "id": "enclosed-courage",
   "metadata": {},
   "outputs": [
    {
     "data": {
      "text/html": [
       "<table class=\"simpletable\">\n",
       "<caption>GLSAR Regression Results</caption>\n",
       "<tr>\n",
       "  <th>Dep. Variable:</th>      <td>fcntx_excess</td>   <th>  R-squared:         </th> <td>   0.724</td> \n",
       "</tr>\n",
       "<tr>\n",
       "  <th>Model:</th>                  <td>GLSAR</td>      <th>  Adj. R-squared:    </th> <td>   0.722</td> \n",
       "</tr>\n",
       "<tr>\n",
       "  <th>Method:</th>             <td>Least Squares</td>  <th>  F-statistic:       </th> <td>   414.6</td> \n",
       "</tr>\n",
       "<tr>\n",
       "  <th>Date:</th>             <td>Tue, 30 Mar 2021</td> <th>  Prob (F-statistic):</th> <td>4.33e-132</td>\n",
       "</tr>\n",
       "<tr>\n",
       "  <th>Time:</th>                 <td>15:31:56</td>     <th>  Log-Likelihood:    </th> <td> -1105.8</td> \n",
       "</tr>\n",
       "<tr>\n",
       "  <th>No. Observations:</th>      <td>   478</td>      <th>  AIC:               </th> <td>   2220.</td> \n",
       "</tr>\n",
       "<tr>\n",
       "  <th>Df Residuals:</th>          <td>   474</td>      <th>  BIC:               </th> <td>   2236.</td> \n",
       "</tr>\n",
       "<tr>\n",
       "  <th>Df Model:</th>              <td>     3</td>      <th>                     </th>     <td> </td>    \n",
       "</tr>\n",
       "<tr>\n",
       "  <th>Covariance Type:</th>      <td>nonrobust</td>    <th>                     </th>     <td> </td>    \n",
       "</tr>\n",
       "</table>\n",
       "<table class=\"simpletable\">\n",
       "<tr>\n",
       "       <td></td>         <th>coef</th>     <th>std err</th>      <th>t</th>      <th>P>|t|</th>  <th>[0.025</th>    <th>0.975]</th>  \n",
       "</tr>\n",
       "<tr>\n",
       "  <th>Intercept</th>  <td>   -0.1808</td> <td>    0.115</td> <td>   -1.579</td> <td> 0.115</td> <td>   -0.406</td> <td>    0.044</td>\n",
       "</tr>\n",
       "<tr>\n",
       "  <th>mkt_excess</th> <td>    0.8783</td> <td>    0.027</td> <td>   32.636</td> <td> 0.000</td> <td>    0.825</td> <td>    0.931</td>\n",
       "</tr>\n",
       "<tr>\n",
       "  <th>SMB</th>        <td>    0.0083</td> <td>    0.040</td> <td>    0.208</td> <td> 0.835</td> <td>   -0.070</td> <td>    0.086</td>\n",
       "</tr>\n",
       "<tr>\n",
       "  <th>HML</th>        <td>   -0.1051</td> <td>    0.041</td> <td>   -2.579</td> <td> 0.010</td> <td>   -0.185</td> <td>   -0.025</td>\n",
       "</tr>\n",
       "</table>\n",
       "<table class=\"simpletable\">\n",
       "<tr>\n",
       "  <th>Omnibus:</th>       <td>224.651</td> <th>  Durbin-Watson:     </th> <td>   2.119</td>\n",
       "</tr>\n",
       "<tr>\n",
       "  <th>Prob(Omnibus):</th> <td> 0.000</td>  <th>  Jarque-Bera (JB):  </th> <td>1602.671</td>\n",
       "</tr>\n",
       "<tr>\n",
       "  <th>Skew:</th>          <td>-1.908</td>  <th>  Prob(JB):          </th> <td>    0.00</td>\n",
       "</tr>\n",
       "<tr>\n",
       "  <th>Kurtosis:</th>      <td>11.119</td>  <th>  Cond. No.          </th> <td>    4.76</td>\n",
       "</tr>\n",
       "</table><br/><br/>Notes:<br/>[1] Standard Errors assume that the covariance matrix of the errors is correctly specified."
      ],
      "text/plain": [
       "<class 'statsmodels.iolib.summary.Summary'>\n",
       "\"\"\"\n",
       "                           GLSAR Regression Results                           \n",
       "==============================================================================\n",
       "Dep. Variable:           fcntx_excess   R-squared:                       0.724\n",
       "Model:                          GLSAR   Adj. R-squared:                  0.722\n",
       "Method:                 Least Squares   F-statistic:                     414.6\n",
       "Date:                Tue, 30 Mar 2021   Prob (F-statistic):          4.33e-132\n",
       "Time:                        15:31:56   Log-Likelihood:                -1105.8\n",
       "No. Observations:                 478   AIC:                             2220.\n",
       "Df Residuals:                     474   BIC:                             2236.\n",
       "Df Model:                           3                                         \n",
       "Covariance Type:            nonrobust                                         \n",
       "==============================================================================\n",
       "                 coef    std err          t      P>|t|      [0.025      0.975]\n",
       "------------------------------------------------------------------------------\n",
       "Intercept     -0.1808      0.115     -1.579      0.115      -0.406       0.044\n",
       "mkt_excess     0.8783      0.027     32.636      0.000       0.825       0.931\n",
       "SMB            0.0083      0.040      0.208      0.835      -0.070       0.086\n",
       "HML           -0.1051      0.041     -2.579      0.010      -0.185      -0.025\n",
       "==============================================================================\n",
       "Omnibus:                      224.651   Durbin-Watson:                   2.119\n",
       "Prob(Omnibus):                  0.000   Jarque-Bera (JB):             1602.671\n",
       "Skew:                          -1.908   Prob(JB):                         0.00\n",
       "Kurtosis:                      11.119   Cond. No.                         4.76\n",
       "==============================================================================\n",
       "\n",
       "Notes:\n",
       "[1] Standard Errors assume that the covariance matrix of the errors is correctly specified.\n",
       "\"\"\""
      ]
     },
     "execution_count": 200,
     "metadata": {},
     "output_type": "execute_result"
    }
   ],
   "source": [
    "# run GLS model\n",
    "ff_gls = smf.glsar('fcntx_excess ~ mkt_excess + SMB + HML', data=dataset).fit()\n",
    "ff_gls.summary()"
   ]
  },
  {
   "cell_type": "code",
   "execution_count": 202,
   "id": "celtic-curtis",
   "metadata": {},
   "outputs": [
    {
     "data": {
      "image/png": "[encoded data removed]",
      "text/plain": [
       "<Figure size 432x288 with 1 Axes>"
      ]
     },
     "metadata": {
      "needs_background": "light"
     },
     "output_type": "display_data"
    }
   ],
   "source": [
    "fig = sm.qqplot(ff_gls.resid, stats.t, fit=True, line=\"45\")"
   ]
  },
  {
   "cell_type": "markdown",
   "id": "focal-variation",
   "metadata": {},
   "source": [
    "The Fama French 3-factor model is not a good one in terms of goodness of fit. "
   ]
  },
  {
   "cell_type": "code",
   "execution_count": null,
   "id": "juvenile-advance",
   "metadata": {},
   "outputs": [],
   "source": []
  },
  {
   "cell_type": "code",
   "execution_count": null,
   "id": "communist-builder",
   "metadata": {},
   "outputs": [],
   "source": []
  }
 ],
 "metadata": {
  "kernelspec": {
   "display_name": "Python 3",
   "language": "python",
   "name": "python3"
  },
  "language_info": {
   "codemirror_mode": {
    "name": "ipython",
    "version": 3
   },
   "file_extension": ".py",
   "mimetype": "text/x-python",
   "name": "python",
   "nbconvert_exporter": "python",
   "pygments_lexer": "ipython3",
   "version": "3.8.5"
  }
 },
 "nbformat": 4,
 "nbformat_minor": 5
}
