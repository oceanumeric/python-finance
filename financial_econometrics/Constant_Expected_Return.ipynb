{
 "cells": [
  {
   "cell_type": "markdown",
   "id": "motivated-sensitivity",
   "metadata": {},
   "source": [
    "# The Constant Expected Return Model\n",
    "\n",
    "The constant expected return model assumes that an asset's return over time is independent and identically normally distributed with a constant (time invariant) mean and variance. The model has very strong assumptions, but it is still widely used in fiannce as an starting point. The famous model - capital asset price model (CAPM) - is built upon based on the constant expected return model (CEM). \n",
    "\n",
    "Those two models become the workhorse models after Fama(1970) proposed the \"efficient market hypothesis\" theory. Before diving in those models, we need to talk about what those models aim for and what kind of empirical challenges we are facing in practice."
   ]
  },
  {
   "cell_type": "markdown",
   "id": "supreme-bridges",
   "metadata": {},
   "source": [
    "## The Big Picture: it's all about risk and return\n",
    "\n",
    "Predicting the distribution of returns of financial assets is a task of primary importance for identifying desirable investments, performing optimal asset allocation within a portfolio, as well as measuring and managing portfolio risk. __Optimal asset management depends on the statistical properties of returns and risks at different frequencies__. \n",
    "\n",
    "Generally, we could frame the optimal asset searching problem in two perspectives:\n",
    "\n",
    "* The basis of the joint distrubtion of the returns of the relevant financial assets is normally at low frequency;\n",
    "* The risks of a portfolio normally depends on the statistical properties of the distribution of returns at high frequencies. \n",
    "\n",
    "To investigate returns and risks, we would go throgh the following process:\n",
    "\n",
    "* Data collection and transformation\n",
    "* Graphical and descriptive data analysis\n",
    "* Model specification\n",
    "* Model estiamtion\n",
    "* Model validation\n",
    "* Model simulation\n",
    "* Simulate the portofil performances based on the results of model"
   ]
  },
  {
   "cell_type": "markdown",
   "id": "removed-petersburg",
   "metadata": {},
   "source": [
    "CER REGRESSION MODEL: for assets $i = 1, \\cdots, N$ and time period $t = 1, \\cdots, T$, the CER regression model is:\n",
    "\n",
    "$$r_{it} = \\mu_i + \\epsilon_{it}, \\ \\ \\ \\ \\epsilon_{it} \\sim GWN(0, \\sigma_i^2) $$\n",
    "and \n",
    "$$cov(\\epsilon_{it}, \\epsilon_{js}) = \\begin{cases}  \\sigma_{ij}, &  \\ \\ t = s \\\\ \n",
    " 0, & \\ \\ t \\neq s \\end{cases} $$\n",
    " \n",
    " The return is convariance stationary. "
   ]
  },
  {
   "cell_type": "code",
   "execution_count": 171,
   "id": "other-adaptation",
   "metadata": {},
   "outputs": [],
   "source": [
    "import pandas as pd\n",
    "import pandas_datareader as pdr\n",
    "import numpy as np\n",
    "import statsmodels.api as sm\n",
    "import statsmodels.stats.api as sms\n",
    "from statsmodels.tsa.api import VAR\n",
    "import matplotlib.pyplot as plt\n",
    "from sklearn.linear_model import LinearRegression"
   ]
  },
  {
   "cell_type": "code",
   "execution_count": 2,
   "id": "jewish-mississippi",
   "metadata": {
    "scrolled": true
   },
   "outputs": [
    {
     "data": {
      "text/html": [
       "<div>\n",
       "<style scoped>\n",
       "    .dataframe tbody tr th:only-of-type {\n",
       "        vertical-align: middle;\n",
       "    }\n",
       "\n",
       "    .dataframe tbody tr th {\n",
       "        vertical-align: top;\n",
       "    }\n",
       "\n",
       "    .dataframe thead th {\n",
       "        text-align: right;\n",
       "    }\n",
       "</style>\n",
       "<table border=\"1\" class=\"dataframe\">\n",
       "  <thead>\n",
       "    <tr style=\"text-align: right;\">\n",
       "      <th>Symbols</th>\n",
       "      <th>msft</th>\n",
       "      <th>sbux</th>\n",
       "      <th>wmt</th>\n",
       "    </tr>\n",
       "    <tr>\n",
       "      <th>Date</th>\n",
       "      <th></th>\n",
       "      <th></th>\n",
       "      <th></th>\n",
       "    </tr>\n",
       "  </thead>\n",
       "  <tbody>\n",
       "    <tr>\n",
       "      <th>1996-01-02</th>\n",
       "      <td>3.562800</td>\n",
       "      <td>1.014340</td>\n",
       "      <td>7.708788</td>\n",
       "    </tr>\n",
       "    <tr>\n",
       "      <th>1996-01-03</th>\n",
       "      <td>3.448670</td>\n",
       "      <td>0.910305</td>\n",
       "      <td>7.791682</td>\n",
       "    </tr>\n",
       "    <tr>\n",
       "      <th>1996-01-04</th>\n",
       "      <td>3.468518</td>\n",
       "      <td>0.884296</td>\n",
       "      <td>7.874573</td>\n",
       "    </tr>\n",
       "    <tr>\n",
       "      <th>1996-01-05</th>\n",
       "      <td>3.428821</td>\n",
       "      <td>0.936314</td>\n",
       "      <td>7.750237</td>\n",
       "    </tr>\n",
       "    <tr>\n",
       "      <th>1996-01-08</th>\n",
       "      <td>3.423858</td>\n",
       "      <td>0.916808</td>\n",
       "      <td>7.750237</td>\n",
       "    </tr>\n",
       "    <tr>\n",
       "      <th>...</th>\n",
       "      <td>...</td>\n",
       "      <td>...</td>\n",
       "      <td>...</td>\n",
       "    </tr>\n",
       "    <tr>\n",
       "      <th>2020-12-24</th>\n",
       "      <td>222.238144</td>\n",
       "      <td>101.577553</td>\n",
       "      <td>142.903351</td>\n",
       "    </tr>\n",
       "    <tr>\n",
       "      <th>2020-12-28</th>\n",
       "      <td>224.443069</td>\n",
       "      <td>103.897675</td>\n",
       "      <td>144.616196</td>\n",
       "    </tr>\n",
       "    <tr>\n",
       "      <th>2020-12-29</th>\n",
       "      <td>223.634918</td>\n",
       "      <td>105.182205</td>\n",
       "      <td>143.700027</td>\n",
       "    </tr>\n",
       "    <tr>\n",
       "      <th>2020-12-30</th>\n",
       "      <td>221.170593</td>\n",
       "      <td>105.520767</td>\n",
       "      <td>143.580521</td>\n",
       "    </tr>\n",
       "    <tr>\n",
       "      <th>2020-12-31</th>\n",
       "      <td>221.908905</td>\n",
       "      <td>106.526489</td>\n",
       "      <td>143.550644</td>\n",
       "    </tr>\n",
       "  </tbody>\n",
       "</table>\n",
       "<p>6295 rows × 3 columns</p>\n",
       "</div>"
      ],
      "text/plain": [
       "Symbols           msft        sbux         wmt\n",
       "Date                                          \n",
       "1996-01-02    3.562800    1.014340    7.708788\n",
       "1996-01-03    3.448670    0.910305    7.791682\n",
       "1996-01-04    3.468518    0.884296    7.874573\n",
       "1996-01-05    3.428821    0.936314    7.750237\n",
       "1996-01-08    3.423858    0.916808    7.750237\n",
       "...                ...         ...         ...\n",
       "2020-12-24  222.238144  101.577553  142.903351\n",
       "2020-12-28  224.443069  103.897675  144.616196\n",
       "2020-12-29  223.634918  105.182205  143.700027\n",
       "2020-12-30  221.170593  105.520767  143.580521\n",
       "2020-12-31  221.908905  106.526489  143.550644\n",
       "\n",
       "[6295 rows x 3 columns]"
      ]
     },
     "execution_count": 2,
     "metadata": {},
     "output_type": "execute_result"
    }
   ],
   "source": [
    "# get the data\n",
    "# stocks: microsoft, starbucks, walmart: msft, sbux, wmt\n",
    "tickers = ['msft', 'sbux', 'wmt']\n",
    "start_date = '1996-01-01'\n",
    "end_date = '2020-12-31'\n",
    "stocks = pdr.data.DataReader(tickers, 'yahoo', start_date, end_date)\n",
    "stock_price = stocks['Adj Close']\n",
    "stock_price"
   ]
  },
  {
   "cell_type": "code",
   "execution_count": 3,
   "id": "prospective-soundtrack",
   "metadata": {
    "scrolled": true
   },
   "outputs": [
    {
     "data": {
      "text/plain": [
       "<AxesSubplot:xlabel='Date'>"
      ]
     },
     "execution_count": 3,
     "metadata": {},
     "output_type": "execute_result"
    },
    {
     "data": {
      "image/png": "[encoded data removed]",
      "text/plain": [
       "<Figure size 432x288 with 1 Axes>"
      ]
     },
     "metadata": {
      "needs_background": "light"
     },
     "output_type": "display_data"
    }
   ],
   "source": [
    "stock_price.plot()"
   ]
  },
  {
   "cell_type": "code",
   "execution_count": 4,
   "id": "limited-communication",
   "metadata": {
    "scrolled": true
   },
   "outputs": [
    {
     "data": {
      "text/html": [
       "<div>\n",
       "<style scoped>\n",
       "    .dataframe tbody tr th:only-of-type {\n",
       "        vertical-align: middle;\n",
       "    }\n",
       "\n",
       "    .dataframe tbody tr th {\n",
       "        vertical-align: top;\n",
       "    }\n",
       "\n",
       "    .dataframe thead th {\n",
       "        text-align: right;\n",
       "    }\n",
       "</style>\n",
       "<table border=\"1\" class=\"dataframe\">\n",
       "  <thead>\n",
       "    <tr style=\"text-align: right;\">\n",
       "      <th>Symbols</th>\n",
       "      <th>msft</th>\n",
       "      <th>sbux</th>\n",
       "      <th>wmt</th>\n",
       "    </tr>\n",
       "    <tr>\n",
       "      <th>Date</th>\n",
       "      <th></th>\n",
       "      <th></th>\n",
       "      <th></th>\n",
       "    </tr>\n",
       "  </thead>\n",
       "  <tbody>\n",
       "    <tr>\n",
       "      <th>1996-01-03</th>\n",
       "      <td>-0.032034</td>\n",
       "      <td>-0.102564</td>\n",
       "      <td>0.010753</td>\n",
       "    </tr>\n",
       "    <tr>\n",
       "      <th>1996-01-04</th>\n",
       "      <td>0.005755</td>\n",
       "      <td>-0.028571</td>\n",
       "      <td>0.010638</td>\n",
       "    </tr>\n",
       "    <tr>\n",
       "      <th>1996-01-05</th>\n",
       "      <td>-0.011445</td>\n",
       "      <td>0.058823</td>\n",
       "      <td>-0.015790</td>\n",
       "    </tr>\n",
       "    <tr>\n",
       "      <th>1996-01-08</th>\n",
       "      <td>-0.001447</td>\n",
       "      <td>-0.020833</td>\n",
       "      <td>0.000000</td>\n",
       "    </tr>\n",
       "    <tr>\n",
       "      <th>1996-01-09</th>\n",
       "      <td>-0.070290</td>\n",
       "      <td>-0.028369</td>\n",
       "      <td>-0.016043</td>\n",
       "    </tr>\n",
       "    <tr>\n",
       "      <th>...</th>\n",
       "      <td>...</td>\n",
       "      <td>...</td>\n",
       "      <td>...</td>\n",
       "    </tr>\n",
       "    <tr>\n",
       "      <th>2020-12-24</th>\n",
       "      <td>0.007827</td>\n",
       "      <td>-0.000490</td>\n",
       "      <td>0.001955</td>\n",
       "    </tr>\n",
       "    <tr>\n",
       "      <th>2020-12-28</th>\n",
       "      <td>0.009921</td>\n",
       "      <td>0.022841</td>\n",
       "      <td>0.011986</td>\n",
       "    </tr>\n",
       "    <tr>\n",
       "      <th>2020-12-29</th>\n",
       "      <td>-0.003601</td>\n",
       "      <td>0.012363</td>\n",
       "      <td>-0.006335</td>\n",
       "    </tr>\n",
       "    <tr>\n",
       "      <th>2020-12-30</th>\n",
       "      <td>-0.011019</td>\n",
       "      <td>0.003219</td>\n",
       "      <td>-0.000832</td>\n",
       "    </tr>\n",
       "    <tr>\n",
       "      <th>2020-12-31</th>\n",
       "      <td>0.003338</td>\n",
       "      <td>0.009531</td>\n",
       "      <td>-0.000208</td>\n",
       "    </tr>\n",
       "  </tbody>\n",
       "</table>\n",
       "<p>6294 rows × 3 columns</p>\n",
       "</div>"
      ],
      "text/plain": [
       "Symbols         msft      sbux       wmt\n",
       "Date                                    \n",
       "1996-01-03 -0.032034 -0.102564  0.010753\n",
       "1996-01-04  0.005755 -0.028571  0.010638\n",
       "1996-01-05 -0.011445  0.058823 -0.015790\n",
       "1996-01-08 -0.001447 -0.020833  0.000000\n",
       "1996-01-09 -0.070290 -0.028369 -0.016043\n",
       "...              ...       ...       ...\n",
       "2020-12-24  0.007827 -0.000490  0.001955\n",
       "2020-12-28  0.009921  0.022841  0.011986\n",
       "2020-12-29 -0.003601  0.012363 -0.006335\n",
       "2020-12-30 -0.011019  0.003219 -0.000832\n",
       "2020-12-31  0.003338  0.009531 -0.000208\n",
       "\n",
       "[6294 rows x 3 columns]"
      ]
     },
     "execution_count": 4,
     "metadata": {},
     "output_type": "execute_result"
    }
   ],
   "source": [
    "# transform the data\n",
    "stock_price_clean = stock_price.dropna().copy()  # drop na\n",
    "daily_simple_return = stock_price_clean.pct_change()\n",
    "daily_simple_return_clean = daily_simple_return.dropna()\n",
    "daily_simple_return_clean"
   ]
  },
  {
   "cell_type": "code",
   "execution_count": 5,
   "id": "inside-karen",
   "metadata": {},
   "outputs": [
    {
     "data": {
      "text/plain": [
       "<AxesSubplot:xlabel='Date'>"
      ]
     },
     "execution_count": 5,
     "metadata": {},
     "output_type": "execute_result"
    },
    {
     "data": {
      "image/png": "[encoded data removed]",
      "text/plain": [
       "<Figure size 432x288 with 1 Axes>"
      ]
     },
     "metadata": {
      "needs_background": "light"
     },
     "output_type": "display_data"
    }
   ],
   "source": [
    "daily_simple_return_clean.plot()"
   ]
  },
  {
   "cell_type": "code",
   "execution_count": 30,
   "id": "moral-saturday",
   "metadata": {},
   "outputs": [
    {
     "data": {
      "text/plain": [
       "<AxesSubplot:xlabel='Date'>"
      ]
     },
     "execution_count": 30,
     "metadata": {},
     "output_type": "execute_result"
    },
    {
     "data": {
      "image/png": "[encoded data removed]",
      "text/plain": [
       "<Figure size 432x288 with 1 Axes>"
      ]
     },
     "metadata": {
      "needs_background": "light"
     },
     "output_type": "display_data"
    }
   ],
   "source": [
    "stock_price_monthly = stock_price.resample('M').ffill().dropna()\n",
    "monthly_return = stock_price_monthly.pct_change()\n",
    "monthly_return.plot()"
   ]
  },
  {
   "cell_type": "code",
   "execution_count": 6,
   "id": "persistent-consent",
   "metadata": {},
   "outputs": [
    {
     "data": {
      "text/plain": [
       "Symbols\n",
       "msft    0.000855\n",
       "sbux    0.001023\n",
       "wmt     0.000597\n",
       "dtype: float64"
      ]
     },
     "execution_count": 6,
     "metadata": {},
     "output_type": "execute_result"
    }
   ],
   "source": [
    "# calculate the mean\n",
    "daily_mean = daily_simple_return_clean.mean()\n",
    "daily_mean"
   ]
  },
  {
   "cell_type": "code",
   "execution_count": 7,
   "id": "initial-laugh",
   "metadata": {},
   "outputs": [
    {
     "data": {
      "text/plain": [
       "array([[0.00085462, 0.00102336, 0.00059658],\n",
       "       [0.00085462, 0.00102336, 0.00059658],\n",
       "       [0.00085462, 0.00102336, 0.00059658],\n",
       "       ...,\n",
       "       [0.00085462, 0.00102336, 0.00059658],\n",
       "       [0.00085462, 0.00102336, 0.00059658],\n",
       "       [0.00085462, 0.00102336, 0.00059658]])"
      ]
     },
     "execution_count": 7,
     "metadata": {},
     "output_type": "execute_result"
    }
   ],
   "source": [
    "# transform the mean\n",
    "daily_mean_list = list(daily_mean) * (daily_simple_return.shape[0] - 1)\n",
    "daily_mean_mat = np.array(daily_mean_list).reshape((-1, 3))\n",
    "daily_mean_mat"
   ]
  },
  {
   "cell_type": "code",
   "execution_count": 8,
   "id": "lightweight-warrior",
   "metadata": {},
   "outputs": [],
   "source": [
    "daily_noise = np.subtract(daily_simple_return_clean, daily_mean_mat)"
   ]
  },
  {
   "cell_type": "code",
   "execution_count": 9,
   "id": "plastic-bubble",
   "metadata": {},
   "outputs": [
    {
     "data": {
      "text/plain": [
       "<AxesSubplot:xlabel='Date'>"
      ]
     },
     "execution_count": 9,
     "metadata": {},
     "output_type": "execute_result"
    },
    {
     "data": {
      "image/png": "[encoded data removed]",
      "text/plain": [
       "<Figure size 432x288 with 1 Axes>"
      ]
     },
     "metadata": {
      "needs_background": "light"
     },
     "output_type": "display_data"
    }
   ],
   "source": [
    "daily_noise.plot()  # since mean of daily return is zero"
   ]
  },
  {
   "cell_type": "markdown",
   "id": "serious-drama",
   "metadata": {},
   "source": [
    "### Vector Autoregression \n",
    "\n",
    "In the constant expected return, we assume that $E[\\epsilon_{it]] 0 $ means that news, on average, is neutral; neither good nor bad. The assumption that $var(\\epsilon_{it}) = \\sigma_i^2$ can be interpreted as sayting that volatility, or typical magnitude, of news arrival is constant over time. The random news variable affecting asset $i, \\epsilon_{it}$, is allowed to be contemporaneously correlated with the random news variable affecting asset may spill over and affect another asset. \n",
    "\n",
    "Sometimes it is convinent to re-express the CER model as \n",
    "\n",
    "$$r_{it} = \\mu_i + \\epsilon_{it} = \\mu_i + \\sigma_i \\cdot z_{it}; \\ \\ \\ \\{z_{it}\\}_{t=1}^T \\sim GWN(0, 1) $$\n",
    "\n",
    "In this form, the random news shock is the _iid_ standard. To model the autocorrelation between different assets, we need to use vector autoregression mode as we assume:\n",
    "\n",
    "$$cov(\\epsilon_{it}, \\epsilon_{js}) = \\sigma_{ij}, \\ t = s $$"
   ]
  },
  {
   "cell_type": "code",
   "execution_count": 17,
   "id": "employed-vault",
   "metadata": {},
   "outputs": [
    {
     "data": {
      "text/plain": [
       "Symbols\n",
       "msft    False\n",
       "sbux    False\n",
       "wmt     False\n",
       "dtype: bool"
      ]
     },
     "execution_count": 17,
     "metadata": {},
     "output_type": "execute_result"
    }
   ],
   "source": [
    "daily_simple_return_clean.isna().any()"
   ]
  },
  {
   "cell_type": "code",
   "execution_count": 19,
   "id": "greatest-packaging",
   "metadata": {},
   "outputs": [
    {
     "name": "stderr",
     "output_type": "stream",
     "text": [
      "/Users/Michael/.virtualenvs/pyfinance/lib/python3.8/site-packages/statsmodels/tsa/base/tsa_model.py:581: ValueWarning: A date index has been provided, but it has no associated frequency information and so will be ignored when e.g. forecasting.\n",
      "  warnings.warn('A date index has been provided, but it has no'\n"
     ]
    },
    {
     "data": {
      "text/plain": [
       "  Summary of Regression Results   \n",
       "==================================\n",
       "Model:                         VAR\n",
       "Method:                        OLS\n",
       "Date:           Fri, 26, Mar, 2021\n",
       "Time:                     16:21:43\n",
       "--------------------------------------------------------------------\n",
       "No. of Equations:         3.00000    BIC:                   -23.8743\n",
       "Nobs:                     6294.00    HQIC:                  -23.8764\n",
       "Log likelihood:           48353.0    FPE:                4.26722e-11\n",
       "AIC:                     -23.8775    Det(Omega_mle):     4.26519e-11\n",
       "--------------------------------------------------------------------\n",
       "Results for equation msft\n",
       "========================================================================\n",
       "           coefficient       std. error           t-stat            prob\n",
       "------------------------------------------------------------------------\n",
       "const         0.000855         0.000251            3.405           0.001\n",
       "========================================================================\n",
       "\n",
       "Results for equation sbux\n",
       "========================================================================\n",
       "           coefficient       std. error           t-stat            prob\n",
       "------------------------------------------------------------------------\n",
       "const         0.001023         0.000300            3.408           0.001\n",
       "========================================================================\n",
       "\n",
       "Results for equation wmt\n",
       "========================================================================\n",
       "           coefficient       std. error           t-stat            prob\n",
       "------------------------------------------------------------------------\n",
       "const         0.000597         0.000205            2.910           0.004\n",
       "========================================================================\n",
       "\n",
       "Correlation matrix of residuals\n",
       "            msft      sbux       wmt\n",
       "msft    1.000000  0.383779  0.353115\n",
       "sbux    0.383779  1.000000  0.309202\n",
       "wmt     0.353115  0.309202  1.000000\n",
       "\n"
      ]
     },
     "execution_count": 19,
     "metadata": {},
     "output_type": "execute_result"
    }
   ],
   "source": [
    "return_var = VAR(daily_simple_return_clean)\n",
    "return_results = return_var.fit(0)\n",
    "return_results.summary()"
   ]
  },
  {
   "cell_type": "markdown",
   "id": "posted-assets",
   "metadata": {},
   "source": [
    "We can see tha correlation between `msft` and `sbux` is 0.383779."
   ]
  },
  {
   "cell_type": "code",
   "execution_count": 34,
   "id": "fresh-reporter",
   "metadata": {},
   "outputs": [],
   "source": [
    "monthly_return = monthly_return.dropna()"
   ]
  },
  {
   "cell_type": "code",
   "execution_count": 35,
   "id": "rural-collar",
   "metadata": {},
   "outputs": [
    {
     "data": {
      "text/plain": [
       "  Summary of Regression Results   \n",
       "==================================\n",
       "Model:                         VAR\n",
       "Method:                        OLS\n",
       "Date:           Fri, 26, Mar, 2021\n",
       "Time:                     16:49:22\n",
       "--------------------------------------------------------------------\n",
       "No. of Equations:         3.00000    BIC:                   -15.2218\n",
       "Nobs:                     299.000    HQIC:                  -15.2440\n",
       "Log likelihood:           1011.42    FPE:                2.36124e-07\n",
       "AIC:                     -15.2589    Det(Omega_mle):     2.33771e-07\n",
       "--------------------------------------------------------------------\n",
       "Results for equation msft\n",
       "========================================================================\n",
       "           coefficient       std. error           t-stat            prob\n",
       "------------------------------------------------------------------------\n",
       "const         0.017664         0.005149            3.430           0.001\n",
       "========================================================================\n",
       "\n",
       "Results for equation sbux\n",
       "========================================================================\n",
       "           coefficient       std. error           t-stat            prob\n",
       "------------------------------------------------------------------------\n",
       "const         0.020961         0.005611            3.736           0.000\n",
       "========================================================================\n",
       "\n",
       "Results for equation wmt\n",
       "========================================================================\n",
       "           coefficient       std. error           t-stat            prob\n",
       "------------------------------------------------------------------------\n",
       "const         0.012139         0.003559            3.411           0.001\n",
       "========================================================================\n",
       "\n",
       "Correlation matrix of residuals\n",
       "            msft      sbux       wmt\n",
       "msft    1.000000  0.298850  0.274632\n",
       "sbux    0.298850  1.000000  0.204155\n",
       "wmt     0.274632  0.204155  1.000000\n",
       "\n"
      ]
     },
     "execution_count": 35,
     "metadata": {},
     "output_type": "execute_result"
    }
   ],
   "source": [
    "# monthly return\n",
    "monthly_var = VAR(monthly_return)\n",
    "monthly_results = monthly_var.fit(0)\n",
    "monthly_results.summary()"
   ]
  },
  {
   "cell_type": "markdown",
   "id": "brutal-shepherd",
   "metadata": {},
   "source": [
    "### Capital Asset Price Model (CAPM)\n",
    "\n",
    "Sharpe(1964) and Lintner (1965) developed the CAPM for a market in which investors have the same expectations, hold portfolios of risky assts that are mean-variance efficient, and can borrow and lend money freely at the same risk-free rate. In such a market, the expected return of asset $j$ is\n",
    "\n",
    "\\begin{align}\n",
    "E[R_j] & = R_{r} + \\beta_j (E[R_m] - R_r)  \\\\\n",
    "\\beta_j & = \\frac{Cov(R_j, R_m)}{Var(R_m)}\n",
    "\\end{align}\n",
    "\n",
    "We will use the S&P500 Index as the proxy for the market return and the 3-month Treasury constant maturity rate as the risk-free rate."
   ]
  },
  {
   "cell_type": "code",
   "execution_count": 40,
   "id": "binary-beijing",
   "metadata": {},
   "outputs": [],
   "source": [
    "# download the time series\n",
    "# bank of America: BAC\n",
    "# GE\n",
    "# XOM, Exxon Mobile\n",
    "# SP500\n",
    "# 3 month treasure yield, 1, 5, 10 years yield, seasoned AAA bond, \n",
    "# crude oil prices\n",
    "tickers = ['BAC', 'GE', 'XOM', 'msft', 'sbux', 'wmt', '^gspc']\n",
    "start_date = '2000-01-02'\n",
    "end_date = '2013-05-31'\n",
    "stocks = pdr.data.DataReader(tickers, 'yahoo', start_date, end_date)"
   ]
  },
  {
   "cell_type": "code",
   "execution_count": 42,
   "id": "naughty-blame",
   "metadata": {
    "scrolled": false
   },
   "outputs": [
    {
     "data": {
      "text/html": [
       "<div>\n",
       "<style scoped>\n",
       "    .dataframe tbody tr th:only-of-type {\n",
       "        vertical-align: middle;\n",
       "    }\n",
       "\n",
       "    .dataframe tbody tr th {\n",
       "        vertical-align: top;\n",
       "    }\n",
       "\n",
       "    .dataframe thead tr th {\n",
       "        text-align: left;\n",
       "    }\n",
       "\n",
       "    .dataframe thead tr:last-of-type th {\n",
       "        text-align: right;\n",
       "    }\n",
       "</style>\n",
       "<table border=\"1\" class=\"dataframe\">\n",
       "  <thead>\n",
       "    <tr>\n",
       "      <th>Attributes</th>\n",
       "      <th colspan=\"7\" halign=\"left\">Adj Close</th>\n",
       "      <th colspan=\"3\" halign=\"left\">Close</th>\n",
       "      <th>...</th>\n",
       "      <th colspan=\"3\" halign=\"left\">Open</th>\n",
       "      <th colspan=\"7\" halign=\"left\">Volume</th>\n",
       "    </tr>\n",
       "    <tr>\n",
       "      <th>Symbols</th>\n",
       "      <th>BAC</th>\n",
       "      <th>GE</th>\n",
       "      <th>XOM</th>\n",
       "      <th>msft</th>\n",
       "      <th>sbux</th>\n",
       "      <th>wmt</th>\n",
       "      <th>^gspc</th>\n",
       "      <th>BAC</th>\n",
       "      <th>GE</th>\n",
       "      <th>XOM</th>\n",
       "      <th>...</th>\n",
       "      <th>sbux</th>\n",
       "      <th>wmt</th>\n",
       "      <th>^gspc</th>\n",
       "      <th>BAC</th>\n",
       "      <th>GE</th>\n",
       "      <th>XOM</th>\n",
       "      <th>msft</th>\n",
       "      <th>sbux</th>\n",
       "      <th>wmt</th>\n",
       "      <th>^gspc</th>\n",
       "    </tr>\n",
       "    <tr>\n",
       "      <th>Date</th>\n",
       "      <th></th>\n",
       "      <th></th>\n",
       "      <th></th>\n",
       "      <th></th>\n",
       "      <th></th>\n",
       "      <th></th>\n",
       "      <th></th>\n",
       "      <th></th>\n",
       "      <th></th>\n",
       "      <th></th>\n",
       "      <th></th>\n",
       "      <th></th>\n",
       "      <th></th>\n",
       "      <th></th>\n",
       "      <th></th>\n",
       "      <th></th>\n",
       "      <th></th>\n",
       "      <th></th>\n",
       "      <th></th>\n",
       "      <th></th>\n",
       "      <th></th>\n",
       "    </tr>\n",
       "  </thead>\n",
       "  <tbody>\n",
       "    <tr>\n",
       "      <th>2000-01-03</th>\n",
       "      <td>13.952057</td>\n",
       "      <td>26.585829</td>\n",
       "      <td>20.760025</td>\n",
       "      <td>37.017384</td>\n",
       "      <td>2.565109</td>\n",
       "      <td>45.439945</td>\n",
       "      <td>1455.219971</td>\n",
       "      <td>24.21875</td>\n",
       "      <td>48.076923</td>\n",
       "      <td>39.15625</td>\n",
       "      <td>...</td>\n",
       "      <td>2.984375</td>\n",
       "      <td>68.375</td>\n",
       "      <td>1469.250000</td>\n",
       "      <td>13705800.0</td>\n",
       "      <td>22952592.0</td>\n",
       "      <td>13458200.0</td>\n",
       "      <td>53228400.0</td>\n",
       "      <td>24232000.0</td>\n",
       "      <td>8369900.0</td>\n",
       "      <td>9.318000e+08</td>\n",
       "    </tr>\n",
       "    <tr>\n",
       "      <th>2000-01-04</th>\n",
       "      <td>13.123939</td>\n",
       "      <td>25.522396</td>\n",
       "      <td>20.362385</td>\n",
       "      <td>35.766914</td>\n",
       "      <td>2.483831</td>\n",
       "      <td>43.739662</td>\n",
       "      <td>1399.420044</td>\n",
       "      <td>22.78125</td>\n",
       "      <td>46.153847</td>\n",
       "      <td>38.40625</td>\n",
       "      <td>...</td>\n",
       "      <td>3.007813</td>\n",
       "      <td>65.500</td>\n",
       "      <td>1455.219971</td>\n",
       "      <td>27293400.0</td>\n",
       "      <td>23006256.0</td>\n",
       "      <td>14510800.0</td>\n",
       "      <td>54119000.0</td>\n",
       "      <td>21564800.0</td>\n",
       "      <td>6745100.0</td>\n",
       "      <td>1.009000e+09</td>\n",
       "    </tr>\n",
       "    <tr>\n",
       "      <th>2000-01-05</th>\n",
       "      <td>13.267960</td>\n",
       "      <td>25.478096</td>\n",
       "      <td>21.472454</td>\n",
       "      <td>36.144032</td>\n",
       "      <td>2.516343</td>\n",
       "      <td>42.847008</td>\n",
       "      <td>1402.109985</td>\n",
       "      <td>23.03125</td>\n",
       "      <td>46.073719</td>\n",
       "      <td>40.50000</td>\n",
       "      <td>...</td>\n",
       "      <td>2.992188</td>\n",
       "      <td>63.875</td>\n",
       "      <td>1399.420044</td>\n",
       "      <td>22855600.0</td>\n",
       "      <td>28384512.0</td>\n",
       "      <td>17485000.0</td>\n",
       "      <td>64059600.0</td>\n",
       "      <td>28206400.0</td>\n",
       "      <td>7018700.0</td>\n",
       "      <td>1.085500e+09</td>\n",
       "    </tr>\n",
       "    <tr>\n",
       "      <th>2000-01-06</th>\n",
       "      <td>14.402134</td>\n",
       "      <td>25.818716</td>\n",
       "      <td>22.582546</td>\n",
       "      <td>34.933285</td>\n",
       "      <td>2.607374</td>\n",
       "      <td>43.314613</td>\n",
       "      <td>1403.449951</td>\n",
       "      <td>25.00000</td>\n",
       "      <td>46.689705</td>\n",
       "      <td>42.59375</td>\n",
       "      <td>...</td>\n",
       "      <td>3.000000</td>\n",
       "      <td>63.000</td>\n",
       "      <td>1402.109985</td>\n",
       "      <td>17307000.0</td>\n",
       "      <td>20668128.0</td>\n",
       "      <td>19461600.0</td>\n",
       "      <td>54976600.0</td>\n",
       "      <td>30825600.0</td>\n",
       "      <td>6544500.0</td>\n",
       "      <td>1.092300e+09</td>\n",
       "    </tr>\n",
       "    <tr>\n",
       "      <th>2000-01-07</th>\n",
       "      <td>14.024072</td>\n",
       "      <td>26.818453</td>\n",
       "      <td>22.516262</td>\n",
       "      <td>35.389793</td>\n",
       "      <td>2.594370</td>\n",
       "      <td>46.587620</td>\n",
       "      <td>1441.469971</td>\n",
       "      <td>24.34375</td>\n",
       "      <td>48.497597</td>\n",
       "      <td>42.46875</td>\n",
       "      <td>...</td>\n",
       "      <td>3.093750</td>\n",
       "      <td>64.500</td>\n",
       "      <td>1403.449951</td>\n",
       "      <td>11632800.0</td>\n",
       "      <td>20947056.0</td>\n",
       "      <td>16603800.0</td>\n",
       "      <td>62013600.0</td>\n",
       "      <td>26044800.0</td>\n",
       "      <td>7976900.0</td>\n",
       "      <td>1.225200e+09</td>\n",
       "    </tr>\n",
       "  </tbody>\n",
       "</table>\n",
       "<p>5 rows × 42 columns</p>\n",
       "</div>"
      ],
      "text/plain": [
       "Attributes  Adj Close                                                        \\\n",
       "Symbols           BAC         GE        XOM       msft      sbux        wmt   \n",
       "Date                                                                          \n",
       "2000-01-03  13.952057  26.585829  20.760025  37.017384  2.565109  45.439945   \n",
       "2000-01-04  13.123939  25.522396  20.362385  35.766914  2.483831  43.739662   \n",
       "2000-01-05  13.267960  25.478096  21.472454  36.144032  2.516343  42.847008   \n",
       "2000-01-06  14.402134  25.818716  22.582546  34.933285  2.607374  43.314613   \n",
       "2000-01-07  14.024072  26.818453  22.516262  35.389793  2.594370  46.587620   \n",
       "\n",
       "Attributes                  Close                       ...      Open          \\\n",
       "Symbols           ^gspc       BAC         GE       XOM  ...      sbux     wmt   \n",
       "Date                                                    ...                     \n",
       "2000-01-03  1455.219971  24.21875  48.076923  39.15625  ...  2.984375  68.375   \n",
       "2000-01-04  1399.420044  22.78125  46.153847  38.40625  ...  3.007813  65.500   \n",
       "2000-01-05  1402.109985  23.03125  46.073719  40.50000  ...  2.992188  63.875   \n",
       "2000-01-06  1403.449951  25.00000  46.689705  42.59375  ...  3.000000  63.000   \n",
       "2000-01-07  1441.469971  24.34375  48.497597  42.46875  ...  3.093750  64.500   \n",
       "\n",
       "Attributes                   Volume                                      \\\n",
       "Symbols           ^gspc         BAC          GE         XOM        msft   \n",
       "Date                                                                      \n",
       "2000-01-03  1469.250000  13705800.0  22952592.0  13458200.0  53228400.0   \n",
       "2000-01-04  1455.219971  27293400.0  23006256.0  14510800.0  54119000.0   \n",
       "2000-01-05  1399.420044  22855600.0  28384512.0  17485000.0  64059600.0   \n",
       "2000-01-06  1402.109985  17307000.0  20668128.0  19461600.0  54976600.0   \n",
       "2000-01-07  1403.449951  11632800.0  20947056.0  16603800.0  62013600.0   \n",
       "\n",
       "Attributes                                       \n",
       "Symbols           sbux        wmt         ^gspc  \n",
       "Date                                             \n",
       "2000-01-03  24232000.0  8369900.0  9.318000e+08  \n",
       "2000-01-04  21564800.0  6745100.0  1.009000e+09  \n",
       "2000-01-05  28206400.0  7018700.0  1.085500e+09  \n",
       "2000-01-06  30825600.0  6544500.0  1.092300e+09  \n",
       "2000-01-07  26044800.0  7976900.0  1.225200e+09  \n",
       "\n",
       "[5 rows x 42 columns]"
      ]
     },
     "execution_count": 42,
     "metadata": {},
     "output_type": "execute_result"
    }
   ],
   "source": [
    "stocks.head()"
   ]
  },
  {
   "cell_type": "code",
   "execution_count": 52,
   "id": "behavioral-occasions",
   "metadata": {
    "scrolled": false
   },
   "outputs": [
    {
     "data": {
      "text/html": [
       "<div>\n",
       "<style scoped>\n",
       "    .dataframe tbody tr th:only-of-type {\n",
       "        vertical-align: middle;\n",
       "    }\n",
       "\n",
       "    .dataframe tbody tr th {\n",
       "        vertical-align: top;\n",
       "    }\n",
       "\n",
       "    .dataframe thead th {\n",
       "        text-align: right;\n",
       "    }\n",
       "</style>\n",
       "<table border=\"1\" class=\"dataframe\">\n",
       "  <thead>\n",
       "    <tr style=\"text-align: right;\">\n",
       "      <th></th>\n",
       "      <th>bac</th>\n",
       "      <th>ge</th>\n",
       "      <th>xom</th>\n",
       "      <th>msft</th>\n",
       "      <th>sbux</th>\n",
       "      <th>wmt</th>\n",
       "      <th>sp500</th>\n",
       "    </tr>\n",
       "    <tr>\n",
       "      <th>Date</th>\n",
       "      <th></th>\n",
       "      <th></th>\n",
       "      <th></th>\n",
       "      <th></th>\n",
       "      <th></th>\n",
       "      <th></th>\n",
       "      <th></th>\n",
       "    </tr>\n",
       "  </thead>\n",
       "  <tbody>\n",
       "    <tr>\n",
       "      <th>2000-01-03</th>\n",
       "      <td>13.952057</td>\n",
       "      <td>26.585829</td>\n",
       "      <td>20.760025</td>\n",
       "      <td>37.017384</td>\n",
       "      <td>2.565109</td>\n",
       "      <td>45.439945</td>\n",
       "      <td>1455.219971</td>\n",
       "    </tr>\n",
       "    <tr>\n",
       "      <th>2000-01-04</th>\n",
       "      <td>13.123939</td>\n",
       "      <td>25.522396</td>\n",
       "      <td>20.362385</td>\n",
       "      <td>35.766914</td>\n",
       "      <td>2.483831</td>\n",
       "      <td>43.739662</td>\n",
       "      <td>1399.420044</td>\n",
       "    </tr>\n",
       "    <tr>\n",
       "      <th>2000-01-05</th>\n",
       "      <td>13.267960</td>\n",
       "      <td>25.478096</td>\n",
       "      <td>21.472454</td>\n",
       "      <td>36.144032</td>\n",
       "      <td>2.516343</td>\n",
       "      <td>42.847008</td>\n",
       "      <td>1402.109985</td>\n",
       "    </tr>\n",
       "    <tr>\n",
       "      <th>2000-01-06</th>\n",
       "      <td>14.402134</td>\n",
       "      <td>25.818716</td>\n",
       "      <td>22.582546</td>\n",
       "      <td>34.933285</td>\n",
       "      <td>2.607374</td>\n",
       "      <td>43.314613</td>\n",
       "      <td>1403.449951</td>\n",
       "    </tr>\n",
       "    <tr>\n",
       "      <th>2000-01-07</th>\n",
       "      <td>14.024072</td>\n",
       "      <td>26.818453</td>\n",
       "      <td>22.516262</td>\n",
       "      <td>35.389793</td>\n",
       "      <td>2.594370</td>\n",
       "      <td>46.587620</td>\n",
       "      <td>1441.469971</td>\n",
       "    </tr>\n",
       "  </tbody>\n",
       "</table>\n",
       "</div>"
      ],
      "text/plain": [
       "                  bac         ge        xom       msft      sbux        wmt  \\\n",
       "Date                                                                          \n",
       "2000-01-03  13.952057  26.585829  20.760025  37.017384  2.565109  45.439945   \n",
       "2000-01-04  13.123939  25.522396  20.362385  35.766914  2.483831  43.739662   \n",
       "2000-01-05  13.267960  25.478096  21.472454  36.144032  2.516343  42.847008   \n",
       "2000-01-06  14.402134  25.818716  22.582546  34.933285  2.607374  43.314613   \n",
       "2000-01-07  14.024072  26.818453  22.516262  35.389793  2.594370  46.587620   \n",
       "\n",
       "                  sp500  \n",
       "Date                     \n",
       "2000-01-03  1455.219971  \n",
       "2000-01-04  1399.420044  \n",
       "2000-01-05  1402.109985  \n",
       "2000-01-06  1403.449951  \n",
       "2000-01-07  1441.469971  "
      ]
     },
     "execution_count": 52,
     "metadata": {},
     "output_type": "execute_result"
    }
   ],
   "source": [
    "stock_price = stocks['Adj Close']\n",
    "stock_price.columns = ['bac', 'ge', 'xom', 'msft', 'sbux', 'wmt', 'sp500']\n",
    "stock_price.head()"
   ]
  },
  {
   "cell_type": "code",
   "execution_count": 64,
   "id": "supreme-collective",
   "metadata": {},
   "outputs": [],
   "source": [
    "stock_price_clean = stock_price.dropna().copy()"
   ]
  },
  {
   "cell_type": "code",
   "execution_count": 48,
   "id": "major-prevention",
   "metadata": {},
   "outputs": [],
   "source": [
    "treasuries = ['DGS3MO', 'DGS1', 'DGS5', 'DGS10', 'DAAA', 'DBAA', 'DCOILWTICO']\n",
    "treasury_yield = pdr.fred.FredReader(treasuries, start_date, end_date).read()\n"
   ]
  },
  {
   "cell_type": "code",
   "execution_count": 53,
   "id": "english-alaska",
   "metadata": {
    "scrolled": true
   },
   "outputs": [
    {
     "data": {
      "text/html": [
       "<div>\n",
       "<style scoped>\n",
       "    .dataframe tbody tr th:only-of-type {\n",
       "        vertical-align: middle;\n",
       "    }\n",
       "\n",
       "    .dataframe tbody tr th {\n",
       "        vertical-align: top;\n",
       "    }\n",
       "\n",
       "    .dataframe thead th {\n",
       "        text-align: right;\n",
       "    }\n",
       "</style>\n",
       "<table border=\"1\" class=\"dataframe\">\n",
       "  <thead>\n",
       "    <tr style=\"text-align: right;\">\n",
       "      <th></th>\n",
       "      <th>3m</th>\n",
       "      <th>1y</th>\n",
       "      <th>5y</th>\n",
       "      <th>10y</th>\n",
       "      <th>bonda</th>\n",
       "      <th>bondb</th>\n",
       "      <th>oil</th>\n",
       "    </tr>\n",
       "    <tr>\n",
       "      <th>DATE</th>\n",
       "      <th></th>\n",
       "      <th></th>\n",
       "      <th></th>\n",
       "      <th></th>\n",
       "      <th></th>\n",
       "      <th></th>\n",
       "      <th></th>\n",
       "    </tr>\n",
       "  </thead>\n",
       "  <tbody>\n",
       "    <tr>\n",
       "      <th>2000-01-03</th>\n",
       "      <td>5.48</td>\n",
       "      <td>6.09</td>\n",
       "      <td>6.50</td>\n",
       "      <td>6.58</td>\n",
       "      <td>7.75</td>\n",
       "      <td>8.27</td>\n",
       "      <td>NaN</td>\n",
       "    </tr>\n",
       "    <tr>\n",
       "      <th>2000-01-04</th>\n",
       "      <td>5.43</td>\n",
       "      <td>6.00</td>\n",
       "      <td>6.40</td>\n",
       "      <td>6.49</td>\n",
       "      <td>7.69</td>\n",
       "      <td>8.21</td>\n",
       "      <td>25.56</td>\n",
       "    </tr>\n",
       "    <tr>\n",
       "      <th>2000-01-05</th>\n",
       "      <td>5.44</td>\n",
       "      <td>6.05</td>\n",
       "      <td>6.51</td>\n",
       "      <td>6.62</td>\n",
       "      <td>7.78</td>\n",
       "      <td>8.29</td>\n",
       "      <td>24.65</td>\n",
       "    </tr>\n",
       "    <tr>\n",
       "      <th>2000-01-06</th>\n",
       "      <td>5.41</td>\n",
       "      <td>6.03</td>\n",
       "      <td>6.46</td>\n",
       "      <td>6.57</td>\n",
       "      <td>7.72</td>\n",
       "      <td>8.24</td>\n",
       "      <td>24.79</td>\n",
       "    </tr>\n",
       "    <tr>\n",
       "      <th>2000-01-07</th>\n",
       "      <td>5.38</td>\n",
       "      <td>6.00</td>\n",
       "      <td>6.42</td>\n",
       "      <td>6.52</td>\n",
       "      <td>7.69</td>\n",
       "      <td>8.22</td>\n",
       "      <td>24.79</td>\n",
       "    </tr>\n",
       "  </tbody>\n",
       "</table>\n",
       "</div>"
      ],
      "text/plain": [
       "              3m    1y    5y   10y  bonda  bondb    oil\n",
       "DATE                                                   \n",
       "2000-01-03  5.48  6.09  6.50  6.58   7.75   8.27    NaN\n",
       "2000-01-04  5.43  6.00  6.40  6.49   7.69   8.21  25.56\n",
       "2000-01-05  5.44  6.05  6.51  6.62   7.78   8.29  24.65\n",
       "2000-01-06  5.41  6.03  6.46  6.57   7.72   8.24  24.79\n",
       "2000-01-07  5.38  6.00  6.42  6.52   7.69   8.22  24.79"
      ]
     },
     "execution_count": 53,
     "metadata": {},
     "output_type": "execute_result"
    }
   ],
   "source": [
    "treasury_yield.head()\n",
    "treasury_yield.columns = ['3m', '1y', '5y', '10y', 'bonda', 'bondb', 'oil']\n",
    "treasury_yield.head()"
   ]
  },
  {
   "cell_type": "code",
   "execution_count": 63,
   "id": "brazilian-valentine",
   "metadata": {
    "scrolled": true
   },
   "outputs": [],
   "source": [
    "yield_clean = treasury_yield.dropna().copy()"
   ]
  },
  {
   "cell_type": "code",
   "execution_count": 66,
   "id": "reported-acceptance",
   "metadata": {},
   "outputs": [
    {
     "data": {
      "text/plain": [
       "False"
      ]
     },
     "execution_count": 66,
     "metadata": {},
     "output_type": "execute_result"
    }
   ],
   "source": [
    "# combine two dataset\n",
    "stock_price_clean.shape == yield_clean.shape"
   ]
  },
  {
   "cell_type": "code",
   "execution_count": 67,
   "id": "qualified-replacement",
   "metadata": {},
   "outputs": [
    {
     "data": {
      "text/plain": [
       "(3373, 7)"
      ]
     },
     "execution_count": 67,
     "metadata": {},
     "output_type": "execute_result"
    }
   ],
   "source": [
    "stock_price_clean.shape"
   ]
  },
  {
   "cell_type": "code",
   "execution_count": 68,
   "id": "looking-wedding",
   "metadata": {},
   "outputs": [
    {
     "data": {
      "text/plain": [
       "(3339, 7)"
      ]
     },
     "execution_count": 68,
     "metadata": {},
     "output_type": "execute_result"
    }
   ],
   "source": [
    "yield_clean.shape"
   ]
  },
  {
   "cell_type": "code",
   "execution_count": 71,
   "id": "written-coach",
   "metadata": {},
   "outputs": [],
   "source": [
    "time_series_dataset = pd.concat([stock_price_clean, yield_clean], axis=1, join='inner')\n"
   ]
  },
  {
   "cell_type": "code",
   "execution_count": 73,
   "id": "preliminary-speed",
   "metadata": {},
   "outputs": [
    {
     "data": {
      "text/plain": [
       "bac      False\n",
       "ge       False\n",
       "xom      False\n",
       "msft     False\n",
       "sbux     False\n",
       "wmt      False\n",
       "sp500    False\n",
       "3m       False\n",
       "1y       False\n",
       "5y       False\n",
       "10y      False\n",
       "bonda    False\n",
       "bondb    False\n",
       "oil      False\n",
       "dtype: bool"
      ]
     },
     "execution_count": 73,
     "metadata": {},
     "output_type": "execute_result"
    }
   ],
   "source": [
    "time_series_dataset.isna().any()"
   ]
  },
  {
   "cell_type": "code",
   "execution_count": 74,
   "id": "suburban-denver",
   "metadata": {},
   "outputs": [
    {
     "data": {
      "text/plain": [
       "(3335, 14)"
      ]
     },
     "execution_count": 74,
     "metadata": {},
     "output_type": "execute_result"
    }
   ],
   "source": [
    "time_series_dataset.shape"
   ]
  },
  {
   "cell_type": "code",
   "execution_count": 75,
   "id": "trained-genre",
   "metadata": {},
   "outputs": [
    {
     "data": {
      "text/html": [
       "<div>\n",
       "<style scoped>\n",
       "    .dataframe tbody tr th:only-of-type {\n",
       "        vertical-align: middle;\n",
       "    }\n",
       "\n",
       "    .dataframe tbody tr th {\n",
       "        vertical-align: top;\n",
       "    }\n",
       "\n",
       "    .dataframe thead th {\n",
       "        text-align: right;\n",
       "    }\n",
       "</style>\n",
       "<table border=\"1\" class=\"dataframe\">\n",
       "  <thead>\n",
       "    <tr style=\"text-align: right;\">\n",
       "      <th></th>\n",
       "      <th>bac</th>\n",
       "      <th>ge</th>\n",
       "      <th>xom</th>\n",
       "      <th>msft</th>\n",
       "      <th>sbux</th>\n",
       "      <th>wmt</th>\n",
       "      <th>sp500</th>\n",
       "      <th>3m</th>\n",
       "      <th>1y</th>\n",
       "      <th>5y</th>\n",
       "      <th>10y</th>\n",
       "      <th>bonda</th>\n",
       "      <th>bondb</th>\n",
       "      <th>oil</th>\n",
       "    </tr>\n",
       "  </thead>\n",
       "  <tbody>\n",
       "    <tr>\n",
       "      <th>2000-01-04</th>\n",
       "      <td>13.123939</td>\n",
       "      <td>25.522396</td>\n",
       "      <td>20.362385</td>\n",
       "      <td>35.766914</td>\n",
       "      <td>2.483831</td>\n",
       "      <td>43.739662</td>\n",
       "      <td>1399.420044</td>\n",
       "      <td>5.43</td>\n",
       "      <td>6.00</td>\n",
       "      <td>6.40</td>\n",
       "      <td>6.49</td>\n",
       "      <td>7.69</td>\n",
       "      <td>8.21</td>\n",
       "      <td>25.56</td>\n",
       "    </tr>\n",
       "    <tr>\n",
       "      <th>2000-01-05</th>\n",
       "      <td>13.267960</td>\n",
       "      <td>25.478096</td>\n",
       "      <td>21.472454</td>\n",
       "      <td>36.144032</td>\n",
       "      <td>2.516343</td>\n",
       "      <td>42.847008</td>\n",
       "      <td>1402.109985</td>\n",
       "      <td>5.44</td>\n",
       "      <td>6.05</td>\n",
       "      <td>6.51</td>\n",
       "      <td>6.62</td>\n",
       "      <td>7.78</td>\n",
       "      <td>8.29</td>\n",
       "      <td>24.65</td>\n",
       "    </tr>\n",
       "    <tr>\n",
       "      <th>2000-01-06</th>\n",
       "      <td>14.402134</td>\n",
       "      <td>25.818716</td>\n",
       "      <td>22.582546</td>\n",
       "      <td>34.933285</td>\n",
       "      <td>2.607374</td>\n",
       "      <td>43.314613</td>\n",
       "      <td>1403.449951</td>\n",
       "      <td>5.41</td>\n",
       "      <td>6.03</td>\n",
       "      <td>6.46</td>\n",
       "      <td>6.57</td>\n",
       "      <td>7.72</td>\n",
       "      <td>8.24</td>\n",
       "      <td>24.79</td>\n",
       "    </tr>\n",
       "    <tr>\n",
       "      <th>2000-01-07</th>\n",
       "      <td>14.024072</td>\n",
       "      <td>26.818453</td>\n",
       "      <td>22.516262</td>\n",
       "      <td>35.389793</td>\n",
       "      <td>2.594370</td>\n",
       "      <td>46.587620</td>\n",
       "      <td>1441.469971</td>\n",
       "      <td>5.38</td>\n",
       "      <td>6.00</td>\n",
       "      <td>6.42</td>\n",
       "      <td>6.52</td>\n",
       "      <td>7.69</td>\n",
       "      <td>8.22</td>\n",
       "      <td>24.79</td>\n",
       "    </tr>\n",
       "    <tr>\n",
       "      <th>2000-01-10</th>\n",
       "      <td>13.537992</td>\n",
       "      <td>26.807365</td>\n",
       "      <td>22.201468</td>\n",
       "      <td>35.647823</td>\n",
       "      <td>2.704906</td>\n",
       "      <td>45.737503</td>\n",
       "      <td>1457.599976</td>\n",
       "      <td>5.42</td>\n",
       "      <td>6.07</td>\n",
       "      <td>6.49</td>\n",
       "      <td>6.57</td>\n",
       "      <td>7.72</td>\n",
       "      <td>8.27</td>\n",
       "      <td>24.71</td>\n",
       "    </tr>\n",
       "  </tbody>\n",
       "</table>\n",
       "</div>"
      ],
      "text/plain": [
       "                  bac         ge        xom       msft      sbux        wmt  \\\n",
       "2000-01-04  13.123939  25.522396  20.362385  35.766914  2.483831  43.739662   \n",
       "2000-01-05  13.267960  25.478096  21.472454  36.144032  2.516343  42.847008   \n",
       "2000-01-06  14.402134  25.818716  22.582546  34.933285  2.607374  43.314613   \n",
       "2000-01-07  14.024072  26.818453  22.516262  35.389793  2.594370  46.587620   \n",
       "2000-01-10  13.537992  26.807365  22.201468  35.647823  2.704906  45.737503   \n",
       "\n",
       "                  sp500    3m    1y    5y   10y  bonda  bondb    oil  \n",
       "2000-01-04  1399.420044  5.43  6.00  6.40  6.49   7.69   8.21  25.56  \n",
       "2000-01-05  1402.109985  5.44  6.05  6.51  6.62   7.78   8.29  24.65  \n",
       "2000-01-06  1403.449951  5.41  6.03  6.46  6.57   7.72   8.24  24.79  \n",
       "2000-01-07  1441.469971  5.38  6.00  6.42  6.52   7.69   8.22  24.79  \n",
       "2000-01-10  1457.599976  5.42  6.07  6.49  6.57   7.72   8.27  24.71  "
      ]
     },
     "execution_count": 75,
     "metadata": {},
     "output_type": "execute_result"
    }
   ],
   "source": [
    "time_series_dataset.head()"
   ]
  },
  {
   "cell_type": "code",
   "execution_count": 76,
   "id": "healthy-decade",
   "metadata": {},
   "outputs": [
    {
     "data": {
      "text/html": [
       "<div>\n",
       "<style scoped>\n",
       "    .dataframe tbody tr th:only-of-type {\n",
       "        vertical-align: middle;\n",
       "    }\n",
       "\n",
       "    .dataframe tbody tr th {\n",
       "        vertical-align: top;\n",
       "    }\n",
       "\n",
       "    .dataframe thead th {\n",
       "        text-align: right;\n",
       "    }\n",
       "</style>\n",
       "<table border=\"1\" class=\"dataframe\">\n",
       "  <thead>\n",
       "    <tr style=\"text-align: right;\">\n",
       "      <th></th>\n",
       "      <th>bac</th>\n",
       "      <th>ge</th>\n",
       "      <th>xom</th>\n",
       "      <th>msft</th>\n",
       "      <th>sbux</th>\n",
       "      <th>wmt</th>\n",
       "      <th>sp500</th>\n",
       "      <th>3m</th>\n",
       "      <th>1y</th>\n",
       "      <th>5y</th>\n",
       "      <th>10y</th>\n",
       "      <th>bonda</th>\n",
       "      <th>bondb</th>\n",
       "      <th>oil</th>\n",
       "    </tr>\n",
       "  </thead>\n",
       "  <tbody>\n",
       "    <tr>\n",
       "      <th>2013-05-24</th>\n",
       "      <td>11.686393</td>\n",
       "      <td>18.633984</td>\n",
       "      <td>65.902351</td>\n",
       "      <td>29.136339</td>\n",
       "      <td>27.728447</td>\n",
       "      <td>64.419815</td>\n",
       "      <td>1649.599976</td>\n",
       "      <td>0.04</td>\n",
       "      <td>0.12</td>\n",
       "      <td>0.90</td>\n",
       "      <td>2.01</td>\n",
       "      <td>3.94</td>\n",
       "      <td>4.76</td>\n",
       "      <td>93.84</td>\n",
       "    </tr>\n",
       "    <tr>\n",
       "      <th>2013-05-28</th>\n",
       "      <td>11.783485</td>\n",
       "      <td>18.689419</td>\n",
       "      <td>66.514366</td>\n",
       "      <td>29.773989</td>\n",
       "      <td>28.122316</td>\n",
       "      <td>64.428154</td>\n",
       "      <td>1660.060059</td>\n",
       "      <td>0.05</td>\n",
       "      <td>0.13</td>\n",
       "      <td>1.02</td>\n",
       "      <td>2.15</td>\n",
       "      <td>4.06</td>\n",
       "      <td>4.88</td>\n",
       "      <td>94.65</td>\n",
       "    </tr>\n",
       "    <tr>\n",
       "      <th>2013-05-29</th>\n",
       "      <td>11.898230</td>\n",
       "      <td>18.721088</td>\n",
       "      <td>66.298370</td>\n",
       "      <td>29.654953</td>\n",
       "      <td>27.846603</td>\n",
       "      <td>63.519901</td>\n",
       "      <td>1648.359985</td>\n",
       "      <td>0.05</td>\n",
       "      <td>0.14</td>\n",
       "      <td>1.02</td>\n",
       "      <td>2.13</td>\n",
       "      <td>4.04</td>\n",
       "      <td>4.88</td>\n",
       "      <td>93.13</td>\n",
       "    </tr>\n",
       "    <tr>\n",
       "      <th>2013-05-30</th>\n",
       "      <td>12.207162</td>\n",
       "      <td>18.689419</td>\n",
       "      <td>66.305550</td>\n",
       "      <td>29.782488</td>\n",
       "      <td>27.776585</td>\n",
       "      <td>63.019913</td>\n",
       "      <td>1654.410034</td>\n",
       "      <td>0.04</td>\n",
       "      <td>0.13</td>\n",
       "      <td>1.01</td>\n",
       "      <td>2.13</td>\n",
       "      <td>4.06</td>\n",
       "      <td>4.90</td>\n",
       "      <td>93.57</td>\n",
       "    </tr>\n",
       "    <tr>\n",
       "      <th>2013-05-31</th>\n",
       "      <td>12.057107</td>\n",
       "      <td>18.467676</td>\n",
       "      <td>65.139130</td>\n",
       "      <td>29.671965</td>\n",
       "      <td>27.632162</td>\n",
       "      <td>62.361656</td>\n",
       "      <td>1630.739990</td>\n",
       "      <td>0.04</td>\n",
       "      <td>0.14</td>\n",
       "      <td>1.05</td>\n",
       "      <td>2.16</td>\n",
       "      <td>4.09</td>\n",
       "      <td>4.95</td>\n",
       "      <td>91.93</td>\n",
       "    </tr>\n",
       "  </tbody>\n",
       "</table>\n",
       "</div>"
      ],
      "text/plain": [
       "                  bac         ge        xom       msft       sbux        wmt  \\\n",
       "2013-05-24  11.686393  18.633984  65.902351  29.136339  27.728447  64.419815   \n",
       "2013-05-28  11.783485  18.689419  66.514366  29.773989  28.122316  64.428154   \n",
       "2013-05-29  11.898230  18.721088  66.298370  29.654953  27.846603  63.519901   \n",
       "2013-05-30  12.207162  18.689419  66.305550  29.782488  27.776585  63.019913   \n",
       "2013-05-31  12.057107  18.467676  65.139130  29.671965  27.632162  62.361656   \n",
       "\n",
       "                  sp500    3m    1y    5y   10y  bonda  bondb    oil  \n",
       "2013-05-24  1649.599976  0.04  0.12  0.90  2.01   3.94   4.76  93.84  \n",
       "2013-05-28  1660.060059  0.05  0.13  1.02  2.15   4.06   4.88  94.65  \n",
       "2013-05-29  1648.359985  0.05  0.14  1.02  2.13   4.04   4.88  93.13  \n",
       "2013-05-30  1654.410034  0.04  0.13  1.01  2.13   4.06   4.90  93.57  \n",
       "2013-05-31  1630.739990  0.04  0.14  1.05  2.16   4.09   4.95  91.93  "
      ]
     },
     "execution_count": 76,
     "metadata": {},
     "output_type": "execute_result"
    }
   ],
   "source": [
    "time_series_dataset.tail()"
   ]
  },
  {
   "cell_type": "code",
   "execution_count": 77,
   "id": "spectacular-turning",
   "metadata": {},
   "outputs": [
    {
     "data": {
      "text/plain": [
       "<AxesSubplot:>"
      ]
     },
     "execution_count": 77,
     "metadata": {},
     "output_type": "execute_result"
    },
    {
     "data": {
      "image/png": "[encoded data removed]",
      "text/plain": [
       "<Figure size 432x288 with 1 Axes>"
      ]
     },
     "metadata": {
      "needs_background": "light"
     },
     "output_type": "display_data"
    }
   ],
   "source": [
    "time_series_dataset['ge'].plot()"
   ]
  },
  {
   "cell_type": "code",
   "execution_count": 78,
   "id": "north-cache",
   "metadata": {},
   "outputs": [
    {
     "data": {
      "text/plain": [
       "<AxesSubplot:>"
      ]
     },
     "execution_count": 78,
     "metadata": {},
     "output_type": "execute_result"
    },
    {
     "data": {
      "image/png": "[encoded data removed]",
      "text/plain": [
       "<Figure size 432x288 with 1 Axes>"
      ]
     },
     "metadata": {
      "needs_background": "light"
     },
     "output_type": "display_data"
    }
   ],
   "source": [
    "time_series_dataset['3m'].plot()"
   ]
  },
  {
   "cell_type": "code",
   "execution_count": 80,
   "id": "offshore-evening",
   "metadata": {},
   "outputs": [
    {
     "data": {
      "text/plain": [
       "2000-01-04         NaN\n",
       "2000-01-05   -0.001737\n",
       "2000-01-06    0.013281\n",
       "2000-01-07    0.037991\n",
       "2000-01-10   -0.000414\n",
       "Name: ge, dtype: float64"
      ]
     },
     "execution_count": 80,
     "metadata": {},
     "output_type": "execute_result"
    }
   ],
   "source": [
    "# compuate daily log return of GE stock\n",
    "ge_daily_cr = np.log(time_series_dataset['ge']).diff()\n",
    "ge_daily_cr.head()"
   ]
  },
  {
   "cell_type": "code",
   "execution_count": 82,
   "id": "editorial-matrix",
   "metadata": {
    "scrolled": false
   },
   "outputs": [
    {
     "data": {
      "text/plain": [
       "2000-01-04         NaN\n",
       "2000-01-05    0.001920\n",
       "2000-01-06    0.000955\n",
       "2000-01-07    0.026730\n",
       "2000-01-10    0.011128\n",
       "Name: sp500, dtype: float64"
      ]
     },
     "execution_count": 82,
     "metadata": {},
     "output_type": "execute_result"
    }
   ],
   "source": [
    "sp500_daily_cr = np.log(time_series_dataset['sp500']).diff()\n",
    "sp500_daily_cr.head()"
   ]
  },
  {
   "cell_type": "code",
   "execution_count": 199,
   "id": "spread-enlargement",
   "metadata": {},
   "outputs": [
    {
     "data": {
      "text/plain": [
       "2000-01-04         NaN\n",
       "2000-01-05   -0.036252\n",
       "2000-01-06    0.005663\n",
       "2000-01-07    0.000000\n",
       "2000-01-10   -0.003232\n",
       "Name: oil, dtype: float64"
      ]
     },
     "execution_count": 199,
     "metadata": {},
     "output_type": "execute_result"
    }
   ],
   "source": [
    "oil_daily_cr = np.log(time_series_dataset['oil']).diff()\n",
    "oil_daily_cr.head()"
   ]
  },
  {
   "cell_type": "code",
   "execution_count": 117,
   "id": "colonial-removal",
   "metadata": {},
   "outputs": [],
   "source": [
    "# compute daily return of the risk-free asset\n",
    "# accounting for the number of days between successive closing days\n",
    "successive_days = time_series_dataset.index.to_series().diff().dropna().astype(int)/86400000000000"
   ]
  },
  {
   "cell_type": "code",
   "execution_count": 123,
   "id": "cultural-representative",
   "metadata": {
    "scrolled": false
   },
   "outputs": [
    {
     "data": {
      "text/plain": [
       "2000-01-05    1.0\n",
       "2000-01-06    1.0\n",
       "2000-01-07    1.0\n",
       "2000-01-10    3.0\n",
       "2000-01-11    1.0\n",
       "             ... \n",
       "2013-05-24    1.0\n",
       "2013-05-28    4.0\n",
       "2013-05-29    1.0\n",
       "2013-05-30    1.0\n",
       "2013-05-31    1.0\n",
       "Length: 3334, dtype: float64"
      ]
     },
     "execution_count": 123,
     "metadata": {},
     "output_type": "execute_result"
    }
   ],
   "source": [
    "successive_days"
   ]
  },
  {
   "cell_type": "code",
   "execution_count": 124,
   "id": "magnetic-biodiversity",
   "metadata": {},
   "outputs": [
    {
     "data": {
      "text/plain": [
       "(3334,)"
      ]
     },
     "execution_count": 124,
     "metadata": {},
     "output_type": "execute_result"
    }
   ],
   "source": [
    "successive_days.shape"
   ]
  },
  {
   "cell_type": "code",
   "execution_count": 116,
   "id": "focal-enzyme",
   "metadata": {},
   "outputs": [],
   "source": [
    "successive_days = successive_days.values"
   ]
  },
  {
   "cell_type": "code",
   "execution_count": 119,
   "id": "eleven-template",
   "metadata": {},
   "outputs": [
    {
     "data": {
      "text/plain": [
       "(3335,)"
      ]
     },
     "execution_count": 119,
     "metadata": {},
     "output_type": "execute_result"
    }
   ],
   "source": [
    "time_series_dataset['3m'].shape"
   ]
  },
  {
   "cell_type": "code",
   "execution_count": 122,
   "id": "analyzed-temperature",
   "metadata": {},
   "outputs": [
    {
     "data": {
      "text/plain": [
       "2000-01-05    5.44\n",
       "2000-01-06    5.41\n",
       "2000-01-07    5.38\n",
       "2000-01-10    5.42\n",
       "2000-01-11    5.43\n",
       "              ... \n",
       "2013-05-24    0.04\n",
       "2013-05-28    0.05\n",
       "2013-05-29    0.05\n",
       "2013-05-30    0.04\n",
       "2013-05-31    0.04\n",
       "Name: 3m, Length: 3334, dtype: float64"
      ]
     },
     "execution_count": 122,
     "metadata": {},
     "output_type": "execute_result"
    }
   ],
   "source": [
    "time_series_dataset['3m'][1:]"
   ]
  },
  {
   "cell_type": "code",
   "execution_count": 127,
   "id": "academic-foundation",
   "metadata": {},
   "outputs": [
    {
     "data": {
      "text/plain": [
       "2000-01-05    0.000151\n",
       "2000-01-06    0.000150\n",
       "2000-01-07    0.000149\n",
       "2000-01-10    0.000452\n",
       "2000-01-11    0.000151\n",
       "                ...   \n",
       "2013-05-24    0.000001\n",
       "2013-05-28    0.000006\n",
       "2013-05-29    0.000001\n",
       "2013-05-30    0.000001\n",
       "2013-05-31    0.000001\n",
       "Length: 3334, dtype: float64"
      ]
     },
     "execution_count": 127,
     "metadata": {},
     "output_type": "execute_result"
    }
   ],
   "source": [
    "# apply annual interest rate using 360 days/ year\n",
    "daily_riskfree = np.log(1 + 0.01*time_series_dataset['3m'][1:] * successive_days/360 )\n",
    "daily_riskfree"
   ]
  },
  {
   "cell_type": "code",
   "execution_count": 128,
   "id": "modern-boating",
   "metadata": {},
   "outputs": [
    {
     "data": {
      "text/plain": [
       "1.1111104938348968e-06"
      ]
     },
     "execution_count": 128,
     "metadata": {},
     "output_type": "execute_result"
    }
   ],
   "source": [
    "daily_riskfree[-1]"
   ]
  },
  {
   "cell_type": "code",
   "execution_count": 129,
   "id": "wooden-hindu",
   "metadata": {},
   "outputs": [
    {
     "data": {
      "text/plain": [
       "0.00015109969497731755"
      ]
     },
     "execution_count": 129,
     "metadata": {},
     "output_type": "execute_result"
    }
   ],
   "source": [
    "daily_riskfree[0]"
   ]
  },
  {
   "cell_type": "code",
   "execution_count": 132,
   "id": "measured-carry",
   "metadata": {},
   "outputs": [],
   "source": [
    "# Compute excess returns (over riskfree rate)\n",
    "ge_daily_excess = ge_daily_cr[1:] - daily_riskfree\n",
    "sp500_daily_excess = sp500_daily_cr[1:] - daily_riskfree"
   ]
  },
  {
   "cell_type": "code",
   "execution_count": 201,
   "id": "governmental-excitement",
   "metadata": {},
   "outputs": [
    {
     "data": {
      "text/html": [
       "<div>\n",
       "<style scoped>\n",
       "    .dataframe tbody tr th:only-of-type {\n",
       "        vertical-align: middle;\n",
       "    }\n",
       "\n",
       "    .dataframe tbody tr th {\n",
       "        vertical-align: top;\n",
       "    }\n",
       "\n",
       "    .dataframe thead th {\n",
       "        text-align: right;\n",
       "    }\n",
       "</style>\n",
       "<table border=\"1\" class=\"dataframe\">\n",
       "  <thead>\n",
       "    <tr style=\"text-align: right;\">\n",
       "      <th></th>\n",
       "      <th>ge</th>\n",
       "      <th>sp500</th>\n",
       "      <th>0</th>\n",
       "      <th>1</th>\n",
       "      <th>2</th>\n",
       "      <th>oil</th>\n",
       "    </tr>\n",
       "  </thead>\n",
       "  <tbody>\n",
       "    <tr>\n",
       "      <th>2000-01-04</th>\n",
       "      <td>NaN</td>\n",
       "      <td>NaN</td>\n",
       "      <td>NaN</td>\n",
       "      <td>NaN</td>\n",
       "      <td>NaN</td>\n",
       "      <td>NaN</td>\n",
       "    </tr>\n",
       "    <tr>\n",
       "      <th>2000-01-05</th>\n",
       "      <td>-0.001737</td>\n",
       "      <td>0.001920</td>\n",
       "      <td>0.000151</td>\n",
       "      <td>-0.001888</td>\n",
       "      <td>0.001769</td>\n",
       "      <td>-0.036252</td>\n",
       "    </tr>\n",
       "    <tr>\n",
       "      <th>2000-01-06</th>\n",
       "      <td>0.013281</td>\n",
       "      <td>0.000955</td>\n",
       "      <td>0.000150</td>\n",
       "      <td>0.013130</td>\n",
       "      <td>0.000805</td>\n",
       "      <td>0.005663</td>\n",
       "    </tr>\n",
       "    <tr>\n",
       "      <th>2000-01-07</th>\n",
       "      <td>0.037991</td>\n",
       "      <td>0.026730</td>\n",
       "      <td>0.000149</td>\n",
       "      <td>0.037841</td>\n",
       "      <td>0.026581</td>\n",
       "      <td>0.000000</td>\n",
       "    </tr>\n",
       "    <tr>\n",
       "      <th>2000-01-10</th>\n",
       "      <td>-0.000414</td>\n",
       "      <td>0.011128</td>\n",
       "      <td>0.000452</td>\n",
       "      <td>-0.000865</td>\n",
       "      <td>0.010676</td>\n",
       "      <td>-0.003232</td>\n",
       "    </tr>\n",
       "  </tbody>\n",
       "</table>\n",
       "</div>"
      ],
      "text/plain": [
       "                  ge     sp500         0         1         2       oil\n",
       "2000-01-04       NaN       NaN       NaN       NaN       NaN       NaN\n",
       "2000-01-05 -0.001737  0.001920  0.000151 -0.001888  0.001769 -0.036252\n",
       "2000-01-06  0.013281  0.000955  0.000150  0.013130  0.000805  0.005663\n",
       "2000-01-07  0.037991  0.026730  0.000149  0.037841  0.026581  0.000000\n",
       "2000-01-10 -0.000414  0.011128  0.000452 -0.000865  0.010676 -0.003232"
      ]
     },
     "execution_count": 201,
     "metadata": {},
     "output_type": "execute_result"
    }
   ],
   "source": [
    "# put them together\n",
    "daily_core = pd.concat([ge_daily_cr, sp500_daily_cr, daily_riskfree, ge_daily_excess, sp500_daily_excess, oil_daily_cr], axis=1)\n",
    "daily_core.head()"
   ]
  },
  {
   "cell_type": "code",
   "execution_count": 202,
   "id": "middle-expense",
   "metadata": {
    "scrolled": true
   },
   "outputs": [
    {
     "data": {
      "text/html": [
       "<div>\n",
       "<style scoped>\n",
       "    .dataframe tbody tr th:only-of-type {\n",
       "        vertical-align: middle;\n",
       "    }\n",
       "\n",
       "    .dataframe tbody tr th {\n",
       "        vertical-align: top;\n",
       "    }\n",
       "\n",
       "    .dataframe thead th {\n",
       "        text-align: right;\n",
       "    }\n",
       "</style>\n",
       "<table border=\"1\" class=\"dataframe\">\n",
       "  <thead>\n",
       "    <tr style=\"text-align: right;\">\n",
       "      <th></th>\n",
       "      <th>ge</th>\n",
       "      <th>sp500</th>\n",
       "      <th>0</th>\n",
       "      <th>1</th>\n",
       "      <th>2</th>\n",
       "      <th>oil</th>\n",
       "    </tr>\n",
       "  </thead>\n",
       "  <tbody>\n",
       "    <tr>\n",
       "      <th>2000-01-05</th>\n",
       "      <td>-0.001737</td>\n",
       "      <td>0.001920</td>\n",
       "      <td>0.000151</td>\n",
       "      <td>-0.001888</td>\n",
       "      <td>0.001769</td>\n",
       "      <td>-0.036252</td>\n",
       "    </tr>\n",
       "    <tr>\n",
       "      <th>2000-01-06</th>\n",
       "      <td>0.013281</td>\n",
       "      <td>0.000955</td>\n",
       "      <td>0.000150</td>\n",
       "      <td>0.013130</td>\n",
       "      <td>0.000805</td>\n",
       "      <td>0.005663</td>\n",
       "    </tr>\n",
       "    <tr>\n",
       "      <th>2000-01-07</th>\n",
       "      <td>0.037991</td>\n",
       "      <td>0.026730</td>\n",
       "      <td>0.000149</td>\n",
       "      <td>0.037841</td>\n",
       "      <td>0.026581</td>\n",
       "      <td>0.000000</td>\n",
       "    </tr>\n",
       "    <tr>\n",
       "      <th>2000-01-10</th>\n",
       "      <td>-0.000414</td>\n",
       "      <td>0.011128</td>\n",
       "      <td>0.000452</td>\n",
       "      <td>-0.000865</td>\n",
       "      <td>0.010676</td>\n",
       "      <td>-0.003232</td>\n",
       "    </tr>\n",
       "    <tr>\n",
       "      <th>2000-01-11</th>\n",
       "      <td>0.001652</td>\n",
       "      <td>-0.013149</td>\n",
       "      <td>0.000151</td>\n",
       "      <td>0.001501</td>\n",
       "      <td>-0.013299</td>\n",
       "      <td>0.038894</td>\n",
       "    </tr>\n",
       "  </tbody>\n",
       "</table>\n",
       "</div>"
      ],
      "text/plain": [
       "                  ge     sp500         0         1         2       oil\n",
       "2000-01-05 -0.001737  0.001920  0.000151 -0.001888  0.001769 -0.036252\n",
       "2000-01-06  0.013281  0.000955  0.000150  0.013130  0.000805  0.005663\n",
       "2000-01-07  0.037991  0.026730  0.000149  0.037841  0.026581  0.000000\n",
       "2000-01-10 -0.000414  0.011128  0.000452 -0.000865  0.010676 -0.003232\n",
       "2000-01-11  0.001652 -0.013149  0.000151  0.001501 -0.013299  0.038894"
      ]
     },
     "execution_count": 202,
     "metadata": {},
     "output_type": "execute_result"
    }
   ],
   "source": [
    "daily_core_clean = daily_core.dropna()\n",
    "daily_core_clean.head()"
   ]
  },
  {
   "cell_type": "code",
   "execution_count": 206,
   "id": "solid-cocktail",
   "metadata": {},
   "outputs": [],
   "source": [
    "daily_core_clean.columns = ['ge', 'sp500', 'riskfree', 'geexcess', 'sp500excess', 'oilreturn']"
   ]
  },
  {
   "cell_type": "code",
   "execution_count": 207,
   "id": "intellectual-cursor",
   "metadata": {},
   "outputs": [
    {
     "data": {
      "text/html": [
       "<div>\n",
       "<style scoped>\n",
       "    .dataframe tbody tr th:only-of-type {\n",
       "        vertical-align: middle;\n",
       "    }\n",
       "\n",
       "    .dataframe tbody tr th {\n",
       "        vertical-align: top;\n",
       "    }\n",
       "\n",
       "    .dataframe thead th {\n",
       "        text-align: right;\n",
       "    }\n",
       "</style>\n",
       "<table border=\"1\" class=\"dataframe\">\n",
       "  <thead>\n",
       "    <tr style=\"text-align: right;\">\n",
       "      <th></th>\n",
       "      <th>ge</th>\n",
       "      <th>sp500</th>\n",
       "      <th>riskfree</th>\n",
       "      <th>geexcess</th>\n",
       "      <th>sp500excess</th>\n",
       "      <th>oilreturn</th>\n",
       "    </tr>\n",
       "  </thead>\n",
       "  <tbody>\n",
       "    <tr>\n",
       "      <th>2013-05-24</th>\n",
       "      <td>-0.005509</td>\n",
       "      <td>-0.000552</td>\n",
       "      <td>0.000001</td>\n",
       "      <td>-0.005511</td>\n",
       "      <td>-0.000553</td>\n",
       "      <td>-0.002979</td>\n",
       "    </tr>\n",
       "    <tr>\n",
       "      <th>2013-05-28</th>\n",
       "      <td>0.002971</td>\n",
       "      <td>0.006321</td>\n",
       "      <td>0.000006</td>\n",
       "      <td>0.002965</td>\n",
       "      <td>0.006315</td>\n",
       "      <td>0.008595</td>\n",
       "    </tr>\n",
       "    <tr>\n",
       "      <th>2013-05-29</th>\n",
       "      <td>0.001693</td>\n",
       "      <td>-0.007073</td>\n",
       "      <td>0.000001</td>\n",
       "      <td>0.001692</td>\n",
       "      <td>-0.007074</td>\n",
       "      <td>-0.016190</td>\n",
       "    </tr>\n",
       "    <tr>\n",
       "      <th>2013-05-30</th>\n",
       "      <td>-0.001693</td>\n",
       "      <td>0.003664</td>\n",
       "      <td>0.000001</td>\n",
       "      <td>-0.001694</td>\n",
       "      <td>0.003663</td>\n",
       "      <td>0.004713</td>\n",
       "    </tr>\n",
       "    <tr>\n",
       "      <th>2013-05-31</th>\n",
       "      <td>-0.011936</td>\n",
       "      <td>-0.014411</td>\n",
       "      <td>0.000001</td>\n",
       "      <td>-0.011937</td>\n",
       "      <td>-0.014412</td>\n",
       "      <td>-0.017682</td>\n",
       "    </tr>\n",
       "  </tbody>\n",
       "</table>\n",
       "</div>"
      ],
      "text/plain": [
       "                  ge     sp500  riskfree  geexcess  sp500excess  oilreturn\n",
       "2013-05-24 -0.005509 -0.000552  0.000001 -0.005511    -0.000553  -0.002979\n",
       "2013-05-28  0.002971  0.006321  0.000006  0.002965     0.006315   0.008595\n",
       "2013-05-29  0.001693 -0.007073  0.000001  0.001692    -0.007074  -0.016190\n",
       "2013-05-30 -0.001693  0.003664  0.000001 -0.001694     0.003663   0.004713\n",
       "2013-05-31 -0.011936 -0.014411  0.000001 -0.011937    -0.014412  -0.017682"
      ]
     },
     "execution_count": 207,
     "metadata": {},
     "output_type": "execute_result"
    }
   ],
   "source": [
    "daily_core_clean.tail()"
   ]
  },
  {
   "cell_type": "code",
   "execution_count": 157,
   "id": "multiple-offering",
   "metadata": {},
   "outputs": [
    {
     "data": {
      "text/plain": [
       "Text(0, 0.5, 'GE Excess Return')"
      ]
     },
     "execution_count": 157,
     "metadata": {},
     "output_type": "execute_result"
    },
    {
     "data": {
      "image/png": "[encoded data removed]",
      "text/plain": [
       "<Figure size 504x504 with 1 Axes>"
      ]
     },
     "metadata": {
      "needs_background": "light"
     },
     "output_type": "display_data"
    }
   ],
   "source": [
    "# plot the excess return of GE vs those of the SP500\n",
    "fig, axes = plt.subplots(1, 1, figsize=(7, 7))\n",
    "axes.scatter(daily_core_clean['geexcess'], daily_core_clean['sp500excess'],\n",
    "             color='k', facecolors='none')\n",
    "axes.axhline(y=0, color='k', linestyle='dashed')\n",
    "axes.axvline(x=0, color='k', linestyle='dashed')\n",
    "axes.set_xlabel(\"SP500 Excess Return\")\n",
    "axes.set_ylabel(\"GE Excess Return\")"
   ]
  },
  {
   "cell_type": "code",
   "execution_count": 160,
   "id": "foster-plain",
   "metadata": {},
   "outputs": [
    {
     "data": {
      "text/plain": [
       "array([[ 0.00176924],\n",
       "       [ 0.00080496],\n",
       "       [ 0.02658052],\n",
       "       ...,\n",
       "       [-0.00707433],\n",
       "       [ 0.00366251],\n",
       "       [-0.01441169]])"
      ]
     },
     "execution_count": 160,
     "metadata": {},
     "output_type": "execute_result"
    }
   ],
   "source": [
    "# fit regression\n",
    "# prepare the data\n",
    "x_sp500excess = daily_core_clean['sp500excess'].values.reshape((-1, 1))\n",
    "y_geexcess = daily_core_clean['geexcess'].values.reshape((-1, 1))\n",
    "x_sp500excess"
   ]
  },
  {
   "cell_type": "code",
   "execution_count": 162,
   "id": "bridal-resort",
   "metadata": {},
   "outputs": [
    {
     "data": {
      "text/plain": [
       "array([[1.18913553]])"
      ]
     },
     "execution_count": 162,
     "metadata": {},
     "output_type": "execute_result"
    }
   ],
   "source": [
    "# fit the regression\n",
    "capm_reg = LinearRegression().fit(x_sp500excess, y_geexcess)\n",
    "capm_reg.coef_"
   ]
  },
  {
   "cell_type": "code",
   "execution_count": 166,
   "id": "dominant-adolescent",
   "metadata": {},
   "outputs": [
    {
     "data": {
      "text/plain": [
       "array([[ 1.00000000e+00,  1.76923827e-03],\n",
       "       [ 1.00000000e+00,  8.04955253e-04],\n",
       "       [ 1.00000000e+00,  2.65805165e-02],\n",
       "       ...,\n",
       "       [ 1.00000000e+00, -7.07432513e-03],\n",
       "       [ 1.00000000e+00,  3.66251400e-03],\n",
       "       [ 1.00000000e+00, -1.44116880e-02]])"
      ]
     },
     "execution_count": 166,
     "metadata": {},
     "output_type": "execute_result"
    }
   ],
   "source": [
    "# use statsmodels \n",
    "# sp500_exog = sm.add_constant(x_sp500excess, prepend=False), add constant after main variables\n",
    "sp500_exog = sm.add_constant(x_sp500excess)\n",
    "sp500_exog"
   ]
  },
  {
   "cell_type": "code",
   "execution_count": 168,
   "id": "japanese-coupon",
   "metadata": {},
   "outputs": [
    {
     "data": {
      "text/html": [
       "<table class=\"simpletable\">\n",
       "<caption>OLS Regression Results</caption>\n",
       "<tr>\n",
       "  <th>Dep. Variable:</th>            <td>y</td>        <th>  R-squared:         </th>  <td>   0.569</td> \n",
       "</tr>\n",
       "<tr>\n",
       "  <th>Model:</th>                   <td>OLS</td>       <th>  Adj. R-squared:    </th>  <td>   0.569</td> \n",
       "</tr>\n",
       "<tr>\n",
       "  <th>Method:</th>             <td>Least Squares</td>  <th>  F-statistic:       </th>  <td>   4394.</td> \n",
       "</tr>\n",
       "<tr>\n",
       "  <th>Date:</th>             <td>Sat, 27 Mar 2021</td> <th>  Prob (F-statistic):</th>   <td>  0.00</td>  \n",
       "</tr>\n",
       "<tr>\n",
       "  <th>Time:</th>                 <td>12:05:31</td>     <th>  Log-Likelihood:    </th>  <td>  9527.3</td> \n",
       "</tr>\n",
       "<tr>\n",
       "  <th>No. Observations:</th>      <td>  3334</td>      <th>  AIC:               </th> <td>-1.905e+04</td>\n",
       "</tr>\n",
       "<tr>\n",
       "  <th>Df Residuals:</th>          <td>  3332</td>      <th>  BIC:               </th> <td>-1.904e+04</td>\n",
       "</tr>\n",
       "<tr>\n",
       "  <th>Df Model:</th>              <td>     1</td>      <th>                     </th>      <td> </td>    \n",
       "</tr>\n",
       "<tr>\n",
       "  <th>Covariance Type:</th>      <td>nonrobust</td>    <th>                     </th>      <td> </td>    \n",
       "</tr>\n",
       "</table>\n",
       "<table class=\"simpletable\">\n",
       "<tr>\n",
       "    <td></td>       <th>coef</th>     <th>std err</th>      <th>t</th>      <th>P>|t|</th>  <th>[0.025</th>    <th>0.975]</th>  \n",
       "</tr>\n",
       "<tr>\n",
       "  <th>const</th> <td>   -0.0001</td> <td>    0.000</td> <td>   -0.563</td> <td> 0.573</td> <td>   -0.001</td> <td>    0.000</td>\n",
       "</tr>\n",
       "<tr>\n",
       "  <th>x1</th>    <td>    1.1891</td> <td>    0.018</td> <td>   66.287</td> <td> 0.000</td> <td>    1.154</td> <td>    1.224</td>\n",
       "</tr>\n",
       "</table>\n",
       "<table class=\"simpletable\">\n",
       "<tr>\n",
       "  <th>Omnibus:</th>       <td>771.899</td> <th>  Durbin-Watson:     </th> <td>   2.011</td> \n",
       "</tr>\n",
       "<tr>\n",
       "  <th>Prob(Omnibus):</th> <td> 0.000</td>  <th>  Jarque-Bera (JB):  </th> <td>39742.427</td>\n",
       "</tr>\n",
       "<tr>\n",
       "  <th>Skew:</th>          <td>-0.063</td>  <th>  Prob(JB):          </th> <td>    0.00</td> \n",
       "</tr>\n",
       "<tr>\n",
       "  <th>Kurtosis:</th>      <td>19.914</td>  <th>  Cond. No.          </th> <td>    74.5</td> \n",
       "</tr>\n",
       "</table><br/><br/>Notes:<br/>[1] Standard Errors assume that the covariance matrix of the errors is correctly specified."
      ],
      "text/plain": [
       "<class 'statsmodels.iolib.summary.Summary'>\n",
       "\"\"\"\n",
       "                            OLS Regression Results                            \n",
       "==============================================================================\n",
       "Dep. Variable:                      y   R-squared:                       0.569\n",
       "Model:                            OLS   Adj. R-squared:                  0.569\n",
       "Method:                 Least Squares   F-statistic:                     4394.\n",
       "Date:                Sat, 27 Mar 2021   Prob (F-statistic):               0.00\n",
       "Time:                        12:05:31   Log-Likelihood:                 9527.3\n",
       "No. Observations:                3334   AIC:                        -1.905e+04\n",
       "Df Residuals:                    3332   BIC:                        -1.904e+04\n",
       "Df Model:                           1                                         \n",
       "Covariance Type:            nonrobust                                         \n",
       "==============================================================================\n",
       "                 coef    std err          t      P>|t|      [0.025      0.975]\n",
       "------------------------------------------------------------------------------\n",
       "const         -0.0001      0.000     -0.563      0.573      -0.001       0.000\n",
       "x1             1.1891      0.018     66.287      0.000       1.154       1.224\n",
       "==============================================================================\n",
       "Omnibus:                      771.899   Durbin-Watson:                   2.011\n",
       "Prob(Omnibus):                  0.000   Jarque-Bera (JB):            39742.427\n",
       "Skew:                          -0.063   Prob(JB):                         0.00\n",
       "Kurtosis:                      19.914   Cond. No.                         74.5\n",
       "==============================================================================\n",
       "\n",
       "Notes:\n",
       "[1] Standard Errors assume that the covariance matrix of the errors is correctly specified.\n",
       "\"\"\""
      ]
     },
     "execution_count": 168,
     "metadata": {},
     "output_type": "execute_result"
    }
   ],
   "source": [
    "capm_mod = sm.OLS(y_geexcess, sp500_exog)\n",
    "capm_res = capm_mod.fit()\n",
    "capm_res.summary()"
   ]
  },
  {
   "cell_type": "markdown",
   "id": "victorian-collapse",
   "metadata": {},
   "source": [
    "Note that the t-statistic for the intercept is not significant."
   ]
  },
  {
   "cell_type": "code",
   "execution_count": 178,
   "id": "agricultural-appearance",
   "metadata": {
    "scrolled": false
   },
   "outputs": [
    {
     "data": {
      "text/plain": [
       "[('Jarque-Bera', 39742.42699230995),\n",
       " ('Chi^2 two-tail prob.', 0.0),\n",
       " ('Skew', -0.06297411044089724),\n",
       " ('Kurtosis', 19.91367475562155)]"
      ]
     },
     "execution_count": 178,
     "metadata": {},
     "output_type": "execute_result"
    }
   ],
   "source": [
    "# normality test\n",
    "test_name = ['Jarque-Bera', 'Chi^2 two-tail prob.', 'Skew', 'Kurtosis']\n",
    "norm_test = sms.jarque_bera(capm_res.resid)\n",
    "list(zip(test_name, norm_test))"
   ]
  },
  {
   "cell_type": "markdown",
   "id": "computational-sheffield",
   "metadata": {},
   "source": [
    "We have to reject the normality hypothesis. "
   ]
  },
  {
   "cell_type": "code",
   "execution_count": 179,
   "id": "inclusive-peninsula",
   "metadata": {},
   "outputs": [
    {
     "data": {
      "text/plain": [
       "[('Chi^2', 771.8986664629913),\n",
       " ('Two-tail probability', 2.422893268400312e-168)]"
      ]
     },
     "execution_count": 179,
     "metadata": {},
     "output_type": "execute_result"
    }
   ],
   "source": [
    "from statsmodels.compat import lzip\n",
    "name = ['Chi^2', 'Two-tail probability']\n",
    "test = sms.omni_normtest(capm_res.resid)\n",
    "lzip(name, test)"
   ]
  },
  {
   "cell_type": "code",
   "execution_count": 181,
   "id": "controlled-attachment",
   "metadata": {},
   "outputs": [
    {
     "data": {
      "text/plain": [
       "array([[-0.00480982, -0.00064814],\n",
       "       [ 0.01534898,  0.00096558],\n",
       "       [ 0.00799512,  0.01577507],\n",
       "       ...,\n",
       "       [ 0.01274759, -0.00669606],\n",
       "       [-0.00737874, -0.00203453],\n",
       "       [ 0.00663412, -0.00713056]])"
      ]
     },
     "execution_count": 181,
     "metadata": {},
     "output_type": "execute_result"
    }
   ],
   "source": [
    "# influence test\n",
    "from statsmodels.stats.outliers_influence import OLSInfluence\n",
    "test_class = OLSInfluence(capm_res)\n",
    "test_class.dfbetas"
   ]
  },
  {
   "cell_type": "code",
   "execution_count": 190,
   "id": "olive-stereo",
   "metadata": {},
   "outputs": [
    {
     "data": {
      "image/png": "[encoded data removed]",
      "text/plain": [
       "<Figure size 432x288 with 4 Axes>"
      ]
     },
     "metadata": {
      "needs_background": "light"
     },
     "output_type": "display_data"
    }
   ],
   "source": [
    "# diagnostic plot\n",
    "fig = sm.graphics.plot_regress_exog(capm_res, 'x1')\n",
    "fig.tight_layout(pad=1.0)"
   ]
  },
  {
   "cell_type": "code",
   "execution_count": 193,
   "id": "vertical-relaxation",
   "metadata": {
    "scrolled": true
   },
   "outputs": [
    {
     "data": {
      "image/png": "[encoded data removed]",
      "text/plain": [
       "<Figure size 432x288 with 1 Axes>"
      ]
     },
     "metadata": {
      "needs_background": "light"
     },
     "output_type": "display_data"
    }
   ],
   "source": [
    "fig = sm.qqplot(capm_res.resid, fit=True, line=\"45\")"
   ]
  },
  {
   "cell_type": "code",
   "execution_count": 196,
   "id": "forced-round",
   "metadata": {
    "scrolled": true
   },
   "outputs": [
    {
     "data": {
      "image/png": "[encoded data removed]",
      "text/plain": [
       "<Figure size 432x288 with 1 Axes>"
      ]
     },
     "metadata": {
      "needs_background": "light"
     },
     "output_type": "display_data"
    }
   ],
   "source": [
    "import scipy.stats as stats\n",
    "fig = sm.qqplot(capm_res.resid, stats.t, fit=True, line=\"45\")"
   ]
  },
  {
   "cell_type": "markdown",
   "id": "regional-howard",
   "metadata": {},
   "source": [
    "### Adding Marco-economic Factors to CAPM\n",
    "\n",
    "The CAPM relates a stock’s return to that of the diversified market portfolio, proxied here by the S&P 500 Index. A stock’s return can depend on macro-economic factors, such commodity prices, interest rates, economic growth (GDP)."
   ]
  },
  {
   "cell_type": "code",
   "execution_count": 208,
   "id": "amazing-muslim",
   "metadata": {},
   "outputs": [
    {
     "data": {
      "text/html": [
       "<div>\n",
       "<style scoped>\n",
       "    .dataframe tbody tr th:only-of-type {\n",
       "        vertical-align: middle;\n",
       "    }\n",
       "\n",
       "    .dataframe tbody tr th {\n",
       "        vertical-align: top;\n",
       "    }\n",
       "\n",
       "    .dataframe thead th {\n",
       "        text-align: right;\n",
       "    }\n",
       "</style>\n",
       "<table border=\"1\" class=\"dataframe\">\n",
       "  <thead>\n",
       "    <tr style=\"text-align: right;\">\n",
       "      <th></th>\n",
       "      <th>ge</th>\n",
       "      <th>sp500</th>\n",
       "      <th>riskfree</th>\n",
       "      <th>geexcess</th>\n",
       "      <th>sp500excess</th>\n",
       "      <th>oilreturn</th>\n",
       "    </tr>\n",
       "  </thead>\n",
       "  <tbody>\n",
       "    <tr>\n",
       "      <th>2000-01-05</th>\n",
       "      <td>-0.001737</td>\n",
       "      <td>0.001920</td>\n",
       "      <td>0.000151</td>\n",
       "      <td>-0.001888</td>\n",
       "      <td>0.001769</td>\n",
       "      <td>-0.036252</td>\n",
       "    </tr>\n",
       "    <tr>\n",
       "      <th>2000-01-06</th>\n",
       "      <td>0.013281</td>\n",
       "      <td>0.000955</td>\n",
       "      <td>0.000150</td>\n",
       "      <td>0.013130</td>\n",
       "      <td>0.000805</td>\n",
       "      <td>0.005663</td>\n",
       "    </tr>\n",
       "    <tr>\n",
       "      <th>2000-01-07</th>\n",
       "      <td>0.037991</td>\n",
       "      <td>0.026730</td>\n",
       "      <td>0.000149</td>\n",
       "      <td>0.037841</td>\n",
       "      <td>0.026581</td>\n",
       "      <td>0.000000</td>\n",
       "    </tr>\n",
       "    <tr>\n",
       "      <th>2000-01-10</th>\n",
       "      <td>-0.000414</td>\n",
       "      <td>0.011128</td>\n",
       "      <td>0.000452</td>\n",
       "      <td>-0.000865</td>\n",
       "      <td>0.010676</td>\n",
       "      <td>-0.003232</td>\n",
       "    </tr>\n",
       "    <tr>\n",
       "      <th>2000-01-11</th>\n",
       "      <td>0.001652</td>\n",
       "      <td>-0.013149</td>\n",
       "      <td>0.000151</td>\n",
       "      <td>0.001501</td>\n",
       "      <td>-0.013299</td>\n",
       "      <td>0.038894</td>\n",
       "    </tr>\n",
       "  </tbody>\n",
       "</table>\n",
       "</div>"
      ],
      "text/plain": [
       "                  ge     sp500  riskfree  geexcess  sp500excess  oilreturn\n",
       "2000-01-05 -0.001737  0.001920  0.000151 -0.001888     0.001769  -0.036252\n",
       "2000-01-06  0.013281  0.000955  0.000150  0.013130     0.000805   0.005663\n",
       "2000-01-07  0.037991  0.026730  0.000149  0.037841     0.026581   0.000000\n",
       "2000-01-10 -0.000414  0.011128  0.000452 -0.000865     0.010676  -0.003232\n",
       "2000-01-11  0.001652 -0.013149  0.000151  0.001501    -0.013299   0.038894"
      ]
     },
     "execution_count": 208,
     "metadata": {},
     "output_type": "execute_result"
    }
   ],
   "source": [
    "daily_core_clean.head()"
   ]
  },
  {
   "cell_type": "code",
   "execution_count": 209,
   "id": "associate-masters",
   "metadata": {
    "scrolled": true
   },
   "outputs": [
    {
     "data": {
      "text/html": [
       "<table class=\"simpletable\">\n",
       "<caption>OLS Regression Results</caption>\n",
       "<tr>\n",
       "  <th>Dep. Variable:</th>        <td>geexcess</td>     <th>  R-squared:         </th>  <td>   0.570</td> \n",
       "</tr>\n",
       "<tr>\n",
       "  <th>Model:</th>                   <td>OLS</td>       <th>  Adj. R-squared:    </th>  <td>   0.570</td> \n",
       "</tr>\n",
       "<tr>\n",
       "  <th>Method:</th>             <td>Least Squares</td>  <th>  F-statistic:       </th>  <td>   2208.</td> \n",
       "</tr>\n",
       "<tr>\n",
       "  <th>Date:</th>             <td>Sat, 27 Mar 2021</td> <th>  Prob (F-statistic):</th>   <td>  0.00</td>  \n",
       "</tr>\n",
       "<tr>\n",
       "  <th>Time:</th>                 <td>14:10:35</td>     <th>  Log-Likelihood:    </th>  <td>  9532.5</td> \n",
       "</tr>\n",
       "<tr>\n",
       "  <th>No. Observations:</th>      <td>  3334</td>      <th>  AIC:               </th> <td>-1.906e+04</td>\n",
       "</tr>\n",
       "<tr>\n",
       "  <th>Df Residuals:</th>          <td>  3331</td>      <th>  BIC:               </th> <td>-1.904e+04</td>\n",
       "</tr>\n",
       "<tr>\n",
       "  <th>Df Model:</th>              <td>     2</td>      <th>                     </th>      <td> </td>    \n",
       "</tr>\n",
       "<tr>\n",
       "  <th>Covariance Type:</th>      <td>nonrobust</td>    <th>                     </th>      <td> </td>    \n",
       "</tr>\n",
       "</table>\n",
       "<table class=\"simpletable\">\n",
       "<tr>\n",
       "       <td></td>          <th>coef</th>     <th>std err</th>      <th>t</th>      <th>P>|t|</th>  <th>[0.025</th>    <th>0.975]</th>  \n",
       "</tr>\n",
       "<tr>\n",
       "  <th>Intercept</th>   <td>   -0.0001</td> <td>    0.000</td> <td>   -0.513</td> <td> 0.608</td> <td>   -0.001</td> <td>    0.000</td>\n",
       "</tr>\n",
       "<tr>\n",
       "  <th>sp500excess</th> <td>    1.2003</td> <td>    0.018</td> <td>   65.773</td> <td> 0.000</td> <td>    1.165</td> <td>    1.236</td>\n",
       "</tr>\n",
       "<tr>\n",
       "  <th>oilreturn</th>   <td>   -0.0311</td> <td>    0.010</td> <td>   -3.210</td> <td> 0.001</td> <td>   -0.050</td> <td>   -0.012</td>\n",
       "</tr>\n",
       "</table>\n",
       "<table class=\"simpletable\">\n",
       "<tr>\n",
       "  <th>Omnibus:</th>       <td>768.427</td> <th>  Durbin-Watson:     </th> <td>   2.012</td> \n",
       "</tr>\n",
       "<tr>\n",
       "  <th>Prob(Omnibus):</th> <td> 0.000</td>  <th>  Jarque-Bera (JB):  </th> <td>38146.394</td>\n",
       "</tr>\n",
       "<tr>\n",
       "  <th>Skew:</th>          <td>-0.102</td>  <th>  Prob(JB):          </th> <td>    0.00</td> \n",
       "</tr>\n",
       "<tr>\n",
       "  <th>Kurtosis:</th>      <td>19.570</td>  <th>  Cond. No.          </th> <td>    76.5</td> \n",
       "</tr>\n",
       "</table><br/><br/>Notes:<br/>[1] Standard Errors assume that the covariance matrix of the errors is correctly specified."
      ],
      "text/plain": [
       "<class 'statsmodels.iolib.summary.Summary'>\n",
       "\"\"\"\n",
       "                            OLS Regression Results                            \n",
       "==============================================================================\n",
       "Dep. Variable:               geexcess   R-squared:                       0.570\n",
       "Model:                            OLS   Adj. R-squared:                  0.570\n",
       "Method:                 Least Squares   F-statistic:                     2208.\n",
       "Date:                Sat, 27 Mar 2021   Prob (F-statistic):               0.00\n",
       "Time:                        14:10:35   Log-Likelihood:                 9532.5\n",
       "No. Observations:                3334   AIC:                        -1.906e+04\n",
       "Df Residuals:                    3331   BIC:                        -1.904e+04\n",
       "Df Model:                           2                                         \n",
       "Covariance Type:            nonrobust                                         \n",
       "===============================================================================\n",
       "                  coef    std err          t      P>|t|      [0.025      0.975]\n",
       "-------------------------------------------------------------------------------\n",
       "Intercept      -0.0001      0.000     -0.513      0.608      -0.001       0.000\n",
       "sp500excess     1.2003      0.018     65.773      0.000       1.165       1.236\n",
       "oilreturn      -0.0311      0.010     -3.210      0.001      -0.050      -0.012\n",
       "==============================================================================\n",
       "Omnibus:                      768.427   Durbin-Watson:                   2.012\n",
       "Prob(Omnibus):                  0.000   Jarque-Bera (JB):            38146.394\n",
       "Skew:                          -0.102   Prob(JB):                         0.00\n",
       "Kurtosis:                      19.570   Cond. No.                         76.5\n",
       "==============================================================================\n",
       "\n",
       "Notes:\n",
       "[1] Standard Errors assume that the covariance matrix of the errors is correctly specified.\n",
       "\"\"\""
      ]
     },
     "execution_count": 209,
     "metadata": {},
     "output_type": "execute_result"
    }
   ],
   "source": [
    "import statsmodels.formula.api as smf\n",
    "macro_model = smf.ols('geexcess ~ sp500excess + oilreturn', data=daily_core_clean).fit()\n",
    "macro_model.summary()"
   ]
  },
  {
   "cell_type": "markdown",
   "id": "frequent-montana",
   "metadata": {},
   "source": [
    "The regression coefficient for the oil factor is statistically significant and negative. Over the analysis period, price changes in GE stock are negativel related to the price change in oil. "
   ]
  },
  {
   "cell_type": "code",
   "execution_count": 210,
   "id": "basic-logan",
   "metadata": {},
   "outputs": [
    {
     "data": {
      "text/plain": [
       "(38146.39394921012, 0.0, -0.10189429500654908, 19.569779323261102)"
      ]
     },
     "execution_count": 210,
     "metadata": {},
     "output_type": "execute_result"
    }
   ],
   "source": [
    "sms.jarque_bera(macro_model.resid)"
   ]
  },
  {
   "cell_type": "code",
   "execution_count": 211,
   "id": "stock-release",
   "metadata": {},
   "outputs": [
    {
     "data": {
      "image/png": "[encoded data removed]",
      "text/plain": [
       "<Figure size 432x288 with 4 Axes>"
      ]
     },
     "metadata": {
      "needs_background": "light"
     },
     "output_type": "display_data"
    }
   ],
   "source": [
    "fig = sm.graphics.plot_regress_exog(macro_model, 'oilreturn')\n",
    "fig.tight_layout(pad=1.0)"
   ]
  },
  {
   "cell_type": "code",
   "execution_count": 212,
   "id": "innocent-happening",
   "metadata": {},
   "outputs": [
    {
     "data": {
      "image/png": "[encoded data removed]",
      "text/plain": [
       "<Figure size 432x288 with 1 Axes>"
      ]
     },
     "metadata": {
      "needs_background": "light"
     },
     "output_type": "display_data"
    }
   ],
   "source": [
    "fig = sm.qqplot(macro_model.resid, fit=True, line=\"45\")"
   ]
  },
  {
   "cell_type": "code",
   "execution_count": 213,
   "id": "nearby-seating",
   "metadata": {},
   "outputs": [
    {
     "data": {
      "image/png": "[encoded data removed]",
      "text/plain": [
       "<Figure size 432x288 with 1 Axes>"
      ]
     },
     "metadata": {
      "needs_background": "light"
     },
     "output_type": "display_data"
    }
   ],
   "source": [
    "fig = sm.qqplot(macro_model.resid, stats.t, fit=True, line=\"45\")"
   ]
  },
  {
   "cell_type": "markdown",
   "id": "comparable-saskatchewan",
   "metadata": {},
   "source": [
    "**It's better to fit the financial models with student-t distribution**"
   ]
  },
  {
   "cell_type": "markdown",
   "id": "specified-somalia",
   "metadata": {},
   "source": [
    "### References:\n",
    "\n",
    "* [Yield Curve Explained](https://research.stlouisfed.org/publications/economic-synopses/2018/11/30/does-the-yield-curve-really-forecast-recession/?&utm_source=fred.stlouisfed.org&utm_medium=referral&utm_term=related_resources&utm_content=&utm_campaign=es)\n",
    "* [Analyzing the new most-popular series in FRED](https://fredblog.stlouisfed.org/2018/08/whats-up-or-down-with-the-yield-curve/?utm_source=series_page&utm_medium=related_content&utm_term=related_resources&utm_campaign=fredblog)"
   ]
  }
 ],
 "metadata": {
  "kernelspec": {
   "display_name": "Python 3",
   "language": "python",
   "name": "python3"
  },
  "language_info": {
   "codemirror_mode": {
    "name": "ipython",
    "version": 3
   },
   "file_extension": ".py",
   "mimetype": "text/x-python",
   "name": "python",
   "nbconvert_exporter": "python",
   "pygments_lexer": "ipython3",
   "version": "3.8.5"
  }
 },
 "nbformat": 4,
 "nbformat_minor": 5
}
